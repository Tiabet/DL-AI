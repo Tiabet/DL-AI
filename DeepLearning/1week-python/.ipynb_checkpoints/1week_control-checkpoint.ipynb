{
 "cells": [
  {
   "cell_type": "markdown",
   "metadata": {
    "id": "i-Hm28D7RPk0"
   },
   "source": [
    "# 조건문 If\n",
    "* if 조건 else를 활용\n",
    "* 비교 연산자 사용\n",
    "* 같은지 확인하려면 ==\n",
    "* 같지 않다는 !=\n",
    "* 크거나 작다는 부등호로 비교 >, <\n",
    "* 크거나 같다, 작거나 같다의 경우에는 <=, >="
   ]
  },
  {
   "cell_type": "code",
   "execution_count": null,
   "metadata": {
    "colab": {
     "base_uri": "https://localhost:8080/"
    },
    "executionInfo": {
     "elapsed": 597,
     "status": "ok",
     "timestamp": 1615632116178,
     "user": {
      "displayName": "이건석",
      "photoUrl": "",
      "userId": "01486501454335936373"
     },
     "user_tz": -540
    },
    "id": "e4qEUb6wQVSm",
    "outputId": "616c06f1-38af-47ad-db09-e2bed2905f67"
   },
   "outputs": [
    {
     "name": "stdout",
     "output_type": "stream",
     "text": [
      "걸어가라\n"
     ]
    }
   ],
   "source": [
    "money = 2000\n",
    "if money >= 3000:\n",
    "  print(\"택시를 타고 가라\")\n",
    "else:\n",
    "  print(\"걸어가라\")"
   ]
  },
  {
   "cell_type": "code",
   "execution_count": null,
   "metadata": {
    "colab": {
     "base_uri": "https://localhost:8080/"
    },
    "executionInfo": {
     "elapsed": 594,
     "status": "ok",
     "timestamp": 1615632134832,
     "user": {
      "displayName": "이건석",
      "photoUrl": "",
      "userId": "01486501454335936373"
     },
     "user_tz": -540
    },
    "id": "1NPZhqL7STjA",
    "outputId": "d51be455-60d5-49ce-84e9-39873b05f9aa"
   },
   "outputs": [
    {
     "name": "stdout",
     "output_type": "stream",
     "text": [
      "거짓\n"
     ]
    }
   ],
   "source": [
    "if []:\n",
    "    print(\"참\")\n",
    "else:\n",
    "    print(\"거짓\")"
   ]
  },
  {
   "cell_type": "markdown",
   "metadata": {
    "id": "HBjuyartS2Dr"
   },
   "source": [
    "* 조건을 위한 연산자\n",
    "* 둘다 참이어야 참: and\n",
    "* 둘 중 하나만 참이면 참: or\n",
    "* 거짓이면 참: not"
   ]
  },
  {
   "cell_type": "code",
   "execution_count": null,
   "metadata": {
    "colab": {
     "base_uri": "https://localhost:8080/"
    },
    "executionInfo": {
     "elapsed": 590,
     "status": "ok",
     "timestamp": 1615632194067,
     "user": {
      "displayName": "이건석",
      "photoUrl": "",
      "userId": "01486501454335936373"
     },
     "user_tz": -540
    },
    "id": "SSSHwnlqS5Gz",
    "outputId": "caf4039c-6d09-4557-ca7f-09c7a045af17"
   },
   "outputs": [
    {
     "name": "stdout",
     "output_type": "stream",
     "text": [
      "택시를 타고 가라\n"
     ]
    }
   ],
   "source": [
    "money = 2000\n",
    "card = True\n",
    "if money >= 3000 or card:\n",
    "  print(\"택시를 타고 가라\")\n",
    "else:\n",
    "  print(\"걸어가라\")"
   ]
  },
  {
   "cell_type": "markdown",
   "metadata": {
    "id": "0WTSJf-ETxaq"
   },
   "source": [
    "* 활용"
   ]
  },
  {
   "cell_type": "code",
   "execution_count": null,
   "metadata": {
    "colab": {
     "base_uri": "https://localhost:8080/"
    },
    "executionInfo": {
     "elapsed": 595,
     "status": "ok",
     "timestamp": 1615632239792,
     "user": {
      "displayName": "이건석",
      "photoUrl": "",
      "userId": "01486501454335936373"
     },
     "user_tz": -540
    },
    "id": "qA7cfIbUUFPH",
    "outputId": "ec46901a-403e-446c-ffdf-0d469fac35b9"
   },
   "outputs": [
    {
     "name": "stdout",
     "output_type": "stream",
     "text": [
      "택시를 타고가라\n"
     ]
    }
   ],
   "source": [
    "pocket = ['paper', 'handphone']\n",
    "card = True\n",
    "if 'money' in pocket:\n",
    "  print(\"택시를 타고가라\")\n",
    "else:\n",
    "  if card:\n",
    "    print(\"택시를 타고가라\")\n",
    "  else:\n",
    "    print(\"걸어가라\")"
   ]
  },
  {
   "cell_type": "code",
   "execution_count": null,
   "metadata": {
    "colab": {
     "base_uri": "https://localhost:8080/"
    },
    "executionInfo": {
     "elapsed": 605,
     "status": "ok",
     "timestamp": 1615632272491,
     "user": {
      "displayName": "이건석",
      "photoUrl": "",
      "userId": "01486501454335936373"
     },
     "user_tz": -540
    },
    "id": "PH9suPFeUPUC",
    "outputId": "b8b251f1-5918-4e6e-efe1-a813d1584386"
   },
   "outputs": [
    {
     "name": "stdout",
     "output_type": "stream",
     "text": [
      "택시를 타고가라\n"
     ]
    }
   ],
   "source": [
    "pocket = ['paper', 'cellphone']\n",
    "card = True\n",
    "if 'money' in pocket:\n",
    "  print(\"택시를 타고가라\")\n",
    "elif card:\n",
    "  print(\"택시를 타고가라\")\n",
    "else:\n",
    "  print(\"걸어가라\")"
   ]
  },
  {
   "cell_type": "markdown",
   "metadata": {
    "id": "DRdeuFdRUl6w"
   },
   "source": [
    "# 반복문 for\n",
    "* for .. in 을 이용해서 반복 수행\n",
    "* range()를 통해서 필요한 범위를 지정"
   ]
  },
  {
   "cell_type": "code",
   "execution_count": null,
   "metadata": {
    "colab": {
     "base_uri": "https://localhost:8080/"
    },
    "executionInfo": {
     "elapsed": 612,
     "status": "ok",
     "timestamp": 1615632318481,
     "user": {
      "displayName": "이건석",
      "photoUrl": "",
      "userId": "01486501454335936373"
     },
     "user_tz": -540
    },
    "id": "CqQOfHwvU0Pr",
    "outputId": "3e811257-5d88-4c76-f32a-5f42a2ac467c"
   },
   "outputs": [
    {
     "name": "stdout",
     "output_type": "stream",
     "text": [
      "hello\n",
      "hello\n",
      "hello\n",
      "hello\n",
      "hello\n"
     ]
    }
   ],
   "source": [
    "for i in range(5):\n",
    "    print('hello')"
   ]
  },
  {
   "cell_type": "code",
   "execution_count": null,
   "metadata": {
    "colab": {
     "base_uri": "https://localhost:8080/"
    },
    "executionInfo": {
     "elapsed": 655,
     "status": "ok",
     "timestamp": 1615631145076,
     "user": {
      "displayName": "이건석",
      "photoUrl": "",
      "userId": "01486501454335936373"
     },
     "user_tz": -540
    },
    "id": "S5PzuL6XU7Xy",
    "outputId": "d9682678-ccb4-49d9-952d-8e23df306b3c"
   },
   "outputs": [
    {
     "name": "stdout",
     "output_type": "stream",
     "text": [
      "0\n",
      "1\n",
      "2\n",
      "3\n",
      "4\n"
     ]
    }
   ],
   "source": [
    "for i in range(5):\n",
    "    print(i)"
   ]
  },
  {
   "cell_type": "markdown",
   "metadata": {
    "id": "iXQNXII9e05U"
   },
   "source": [
    "* range(start, end, step) 으로 구성, 한개만 입력시 end로 인식\n",
    "* step은 증가폭"
   ]
  },
  {
   "cell_type": "code",
   "execution_count": null,
   "metadata": {
    "colab": {
     "base_uri": "https://localhost:8080/"
    },
    "executionInfo": {
     "elapsed": 619,
     "status": "ok",
     "timestamp": 1615632386025,
     "user": {
      "displayName": "이건석",
      "photoUrl": "",
      "userId": "01486501454335936373"
     },
     "user_tz": -540
    },
    "id": "rEkFgLbHVIZ2",
    "outputId": "8adcc6d4-4db2-40e8-9b2a-288daf1a4a7e"
   },
   "outputs": [
    {
     "name": "stdout",
     "output_type": "stream",
     "text": [
      "1\n",
      "2\n",
      "3\n",
      "4\n",
      "5\n"
     ]
    }
   ],
   "source": [
    "for i in range(1,6):\n",
    "    print(i)"
   ]
  },
  {
   "cell_type": "code",
   "execution_count": null,
   "metadata": {
    "colab": {
     "base_uri": "https://localhost:8080/"
    },
    "executionInfo": {
     "elapsed": 595,
     "status": "ok",
     "timestamp": 1615632421216,
     "user": {
      "displayName": "이건석",
      "photoUrl": "",
      "userId": "01486501454335936373"
     },
     "user_tz": -540
    },
    "id": "ooWRancLVPkS",
    "outputId": "bf3805c3-e1e3-415e-fe07-6d5e409bcc96"
   },
   "outputs": [
    {
     "name": "stdout",
     "output_type": "stream",
     "text": [
      "1\n",
      "3\n",
      "5\n",
      "7\n",
      "9\n"
     ]
    }
   ],
   "source": [
    "for i in range(1,10,2):\n",
    "    print(i)"
   ]
  },
  {
   "cell_type": "code",
   "execution_count": null,
   "metadata": {
    "colab": {
     "base_uri": "https://localhost:8080/"
    },
    "executionInfo": {
     "elapsed": 646,
     "status": "ok",
     "timestamp": 1615632437211,
     "user": {
      "displayName": "이건석",
      "photoUrl": "",
      "userId": "01486501454335936373"
     },
     "user_tz": -540
    },
    "id": "cG5mnJYqVXgV",
    "outputId": "586f794b-2717-4ac4-d951-c15050650c87"
   },
   "outputs": [
    {
     "name": "stdout",
     "output_type": "stream",
     "text": [
      "5\n",
      "4\n",
      "3\n",
      "2\n"
     ]
    }
   ],
   "source": [
    "for i in range(5,1,-1):\n",
    "    print(i)"
   ]
  },
  {
   "cell_type": "markdown",
   "metadata": {
    "id": "SaLG9AqCUnVm"
   },
   "source": [
    "* 활용"
   ]
  },
  {
   "cell_type": "code",
   "execution_count": null,
   "metadata": {
    "colab": {
     "base_uri": "https://localhost:8080/"
    },
    "executionInfo": {
     "elapsed": 599,
     "status": "ok",
     "timestamp": 1615632506821,
     "user": {
      "displayName": "이건석",
      "photoUrl": "",
      "userId": "01486501454335936373"
     },
     "user_tz": -540
    },
    "id": "3Hud6QCbVg6f",
    "outputId": "d9bdfacf-f82d-46fc-ce03-d68e7e5323ce"
   },
   "outputs": [
    {
     "name": "stdout",
     "output_type": "stream",
     "text": [
      "\n",
      "2 단\n",
      "2 * 1 =  2\n",
      "2 * 2 =  4\n",
      "2 * 3 =  6\n",
      "2 * 4 =  8\n",
      "2 * 5 =  10\n",
      "2 * 6 =  12\n",
      "2 * 7 =  14\n",
      "2 * 8 =  16\n",
      "2 * 9 =  18\n",
      "\n",
      "3 단\n",
      "3 * 1 =  3\n",
      "3 * 2 =  6\n",
      "3 * 3 =  9\n",
      "3 * 4 =  12\n",
      "3 * 5 =  15\n",
      "3 * 6 =  18\n",
      "3 * 7 =  21\n",
      "3 * 8 =  24\n",
      "3 * 9 =  27\n",
      "\n",
      "4 단\n",
      "4 * 1 =  4\n",
      "4 * 2 =  8\n",
      "4 * 3 =  12\n",
      "4 * 4 =  16\n",
      "4 * 5 =  20\n",
      "4 * 6 =  24\n",
      "4 * 7 =  28\n",
      "4 * 8 =  32\n",
      "4 * 9 =  36\n",
      "\n",
      "5 단\n",
      "5 * 1 =  5\n",
      "5 * 2 =  10\n",
      "5 * 3 =  15\n",
      "5 * 4 =  20\n",
      "5 * 5 =  25\n",
      "5 * 6 =  30\n",
      "5 * 7 =  35\n",
      "5 * 8 =  40\n",
      "5 * 9 =  45\n",
      "\n",
      "6 단\n",
      "6 * 1 =  6\n",
      "6 * 2 =  12\n",
      "6 * 3 =  18\n",
      "6 * 4 =  24\n",
      "6 * 5 =  30\n",
      "6 * 6 =  36\n",
      "6 * 7 =  42\n",
      "6 * 8 =  48\n",
      "6 * 9 =  54\n",
      "\n",
      "7 단\n",
      "7 * 1 =  7\n",
      "7 * 2 =  14\n",
      "7 * 3 =  21\n",
      "7 * 4 =  28\n",
      "7 * 5 =  35\n",
      "7 * 6 =  42\n",
      "7 * 7 =  49\n",
      "7 * 8 =  56\n",
      "7 * 9 =  63\n",
      "\n",
      "8 단\n",
      "8 * 1 =  8\n",
      "8 * 2 =  16\n",
      "8 * 3 =  24\n",
      "8 * 4 =  32\n",
      "8 * 5 =  40\n",
      "8 * 6 =  48\n",
      "8 * 7 =  56\n",
      "8 * 8 =  64\n",
      "8 * 9 =  72\n",
      "\n",
      "9 단\n",
      "9 * 1 =  9\n",
      "9 * 2 =  18\n",
      "9 * 3 =  27\n",
      "9 * 4 =  36\n",
      "9 * 5 =  45\n",
      "9 * 6 =  54\n",
      "9 * 7 =  63\n",
      "9 * 8 =  72\n",
      "9 * 9 =  81\n"
     ]
    }
   ],
   "source": [
    "for num1 in range(2,10):\n",
    "    print()\n",
    "    print(num1, '단')\n",
    "    for num2 in range(1,10):\n",
    "        print('{} * {} = '.format(num1, num2), num1*num2)"
   ]
  },
  {
   "cell_type": "markdown",
   "metadata": {
    "id": "y5X3StEaWzN-"
   },
   "source": [
    "# 반복문 While\n",
    "* while 조건: 문법을 통해 조건에 만족 시 반복 수행\n",
    "* while문을 강제로 종료시키는 break\n",
    "* while문의 처음으로 돌아가게 하는 continue"
   ]
  },
  {
   "cell_type": "code",
   "execution_count": null,
   "metadata": {
    "colab": {
     "base_uri": "https://localhost:8080/"
    },
    "executionInfo": {
     "elapsed": 605,
     "status": "ok",
     "timestamp": 1615632606107,
     "user": {
      "displayName": "이건석",
      "photoUrl": "",
      "userId": "01486501454335936373"
     },
     "user_tz": -540
    },
    "id": "N8rVRglMV6pP",
    "outputId": "cda719df-fdfa-4af8-c3db-ae71567812cc"
   },
   "outputs": [
    {
     "name": "stdout",
     "output_type": "stream",
     "text": [
      "나무를 1번 찍었습니다.\n",
      "나무를 2번 찍었습니다.\n",
      "나무를 3번 찍었습니다.\n",
      "나무를 4번 찍었습니다.\n",
      "나무를 5번 찍었습니다.\n",
      "나무를 6번 찍었습니다.\n",
      "나무를 7번 찍었습니다.\n",
      "나무를 8번 찍었습니다.\n",
      "나무를 9번 찍었습니다.\n",
      "나무를 10번 찍었습니다.\n",
      "나무 넘어갑니다.\n"
     ]
    }
   ],
   "source": [
    "treeHit = 0\n",
    "while treeHit < 10:\n",
    "  treeHit = treeHit +1\n",
    "  print(\"나무를 %d번 찍었습니다.\" % treeHit)\n",
    "  if treeHit == 10:\n",
    "    print(\"나무 넘어갑니다.\")"
   ]
  },
  {
   "cell_type": "code",
   "execution_count": null,
   "metadata": {
    "colab": {
     "base_uri": "https://localhost:8080/"
    },
    "executionInfo": {
     "elapsed": 615,
     "status": "ok",
     "timestamp": 1615632660462,
     "user": {
      "displayName": "이건석",
      "photoUrl": "",
      "userId": "01486501454335936373"
     },
     "user_tz": -540
    },
    "id": "tL4Cw2AGXZ5U",
    "outputId": "38605fb5-c3ee-490a-9e94-febdbf3527db"
   },
   "outputs": [
    {
     "name": "stdout",
     "output_type": "stream",
     "text": [
      "돈을 받았으니 커피를 줍니다.\n",
      "남은 커피의 양은 9개입니다.\n",
      "돈을 받았으니 커피를 줍니다.\n",
      "남은 커피의 양은 8개입니다.\n",
      "돈을 받았으니 커피를 줍니다.\n",
      "남은 커피의 양은 7개입니다.\n",
      "돈을 받았으니 커피를 줍니다.\n",
      "남은 커피의 양은 6개입니다.\n",
      "돈을 받았으니 커피를 줍니다.\n",
      "남은 커피의 양은 5개입니다.\n",
      "돈을 받았으니 커피를 줍니다.\n",
      "남은 커피의 양은 4개입니다.\n",
      "돈을 받았으니 커피를 줍니다.\n",
      "남은 커피의 양은 3개입니다.\n",
      "돈을 받았으니 커피를 줍니다.\n",
      "남은 커피의 양은 2개입니다.\n",
      "돈을 받았으니 커피를 줍니다.\n",
      "남은 커피의 양은 1개입니다.\n",
      "돈을 받았으니 커피를 줍니다.\n",
      "남은 커피의 양은 0개입니다.\n",
      "커피가 다 떨어졌습니다. 판매를 중지합니다.\n"
     ]
    }
   ],
   "source": [
    "coffee = 10\n",
    "money = 300\n",
    "while money:\n",
    "  print(\"돈을 받았으니 커피를 줍니다.\")\n",
    "  coffee = coffee -1\n",
    "  print(\"남은 커피의 양은 %d개입니다.\" % coffee)\n",
    "  if coffee == 0:\n",
    "    print(\"커피가 다 떨어졌습니다. 판매를 중지합니다.\")\n",
    "    break"
   ]
  },
  {
   "cell_type": "code",
   "execution_count": null,
   "metadata": {
    "colab": {
     "base_uri": "https://localhost:8080/"
    },
    "executionInfo": {
     "elapsed": 645,
     "status": "ok",
     "timestamp": 1615632724387,
     "user": {
      "displayName": "이건석",
      "photoUrl": "",
      "userId": "01486501454335936373"
     },
     "user_tz": -540
    },
    "id": "uwzDgrVfX5PP",
    "outputId": "a5ec22f8-d91c-4a19-9a49-e17ec575204a"
   },
   "outputs": [
    {
     "name": "stdout",
     "output_type": "stream",
     "text": [
      "1\n",
      "3\n",
      "5\n",
      "7\n",
      "9\n"
     ]
    }
   ],
   "source": [
    "a = 0\n",
    "while a < 10:\n",
    "  a = a + 1\n",
    "  if a % 2 == 0:\n",
    "    continue\n",
    "  print(a)"
   ]
  },
  {
   "cell_type": "markdown",
   "metadata": {
    "id": "BlehiQvRcGJN"
   },
   "source": [
    "# Function\n",
    "* 반복을 쉽도록하는 함수 정의\n",
    "* def 함수명(입력변수): 실행 의 구조를 가진다"
   ]
  },
  {
   "cell_type": "code",
   "execution_count": null,
   "metadata": {
    "id": "czSrn-rVcecE"
   },
   "outputs": [],
   "source": [
    "def 직사각형넓이(가로, 세로):\n",
    "    area = 가로 * 세로\n",
    "    print(area)"
   ]
  },
  {
   "cell_type": "code",
   "execution_count": null,
   "metadata": {
    "colab": {
     "base_uri": "https://localhost:8080/"
    },
    "executionInfo": {
     "elapsed": 621,
     "status": "ok",
     "timestamp": 1615632786706,
     "user": {
      "displayName": "이건석",
      "photoUrl": "",
      "userId": "01486501454335936373"
     },
     "user_tz": -540
    },
    "id": "qKhzkRFRccRl",
    "outputId": "4d799d46-b1c0-4d19-cc2f-86bc87d1f9e3"
   },
   "outputs": [
    {
     "name": "stdout",
     "output_type": "stream",
     "text": [
      "200\n"
     ]
    }
   ],
   "source": [
    "직사각형넓이(10,20)"
   ]
  },
  {
   "cell_type": "code",
   "execution_count": null,
   "metadata": {
    "colab": {
     "base_uri": "https://localhost:8080/"
    },
    "executionInfo": {
     "elapsed": 657,
     "status": "ok",
     "timestamp": 1615632797950,
     "user": {
      "displayName": "이건석",
      "photoUrl": "",
      "userId": "01486501454335936373"
     },
     "user_tz": -540
    },
    "id": "k7N2mU4ichjk",
    "outputId": "224c2258-0eb9-47b9-c66b-b702751cf237"
   },
   "outputs": [
    {
     "name": "stdout",
     "output_type": "stream",
     "text": [
      "1000\n"
     ]
    }
   ],
   "source": [
    "직사각형넓이(20,50)"
   ]
  },
  {
   "cell_type": "markdown",
   "metadata": {
    "id": "WUsjuIRecnrx"
   },
   "source": [
    "* 활용\n",
    "* a부터 b까지의 합 계산"
   ]
  },
  {
   "cell_type": "code",
   "execution_count": null,
   "metadata": {
    "colab": {
     "base_uri": "https://localhost:8080/"
    },
    "executionInfo": {
     "elapsed": 602,
     "status": "ok",
     "timestamp": 1615632864520,
     "user": {
      "displayName": "이건석",
      "photoUrl": "",
      "userId": "01486501454335936373"
     },
     "user_tz": -540
    },
    "id": "PzKASU0Vcm0G",
    "outputId": "458d3cd6-aac2-4346-fa35-665d6b54d30f"
   },
   "outputs": [
    {
     "name": "stdout",
     "output_type": "stream",
     "text": [
      "5050\n",
      "20090\n"
     ]
    }
   ],
   "source": [
    "#함수 미사용\n",
    "start_num = 1\n",
    "end_num = 100\n",
    "sum_ = 0\n",
    "for i in range(start_num, end_num+1):\n",
    "    sum_ += i # sum_ = sum_ + i\n",
    "print(sum_)\n",
    "\n",
    "start_num = 5\n",
    "end_num = 200\n",
    "sum_ = 0\n",
    "for i in range(start_num, end_num+1):\n",
    "    sum_ += i # sum_ = sum_ + i\n",
    "print(sum_)"
   ]
  },
  {
   "cell_type": "code",
   "execution_count": null,
   "metadata": {
    "colab": {
     "base_uri": "https://localhost:8080/"
    },
    "executionInfo": {
     "elapsed": 658,
     "status": "ok",
     "timestamp": 1615632889128,
     "user": {
      "displayName": "이건석",
      "photoUrl": "",
      "userId": "01486501454335936373"
     },
     "user_tz": -540
    },
    "id": "HNLG_VD8c0Eo",
    "outputId": "7ce7222d-c0a2-4c17-b7d1-3cae89d1a49a"
   },
   "outputs": [
    {
     "name": "stdout",
     "output_type": "stream",
     "text": [
      "5050\n",
      "4880\n"
     ]
    }
   ],
   "source": [
    "#함수 사용\n",
    "def sum_num(start_num, end_num):\n",
    "    sum_=0\n",
    "    for i in range(start_num, end_num+1):\n",
    "        sum_ += i\n",
    "    return sum_\n",
    "sum1 = sum_num(1,100)\n",
    "sum2 = sum_num(50, 110)\n",
    "\n",
    "print(sum1)\n",
    "print(sum2)"
   ]
  }
 ],
 "metadata": {
  "colab": {
   "authorship_tag": "ABX9TyMn+vuQYGVICIlC/5uWWZER",
   "collapsed_sections": [],
   "name": "1week_control.ipynb",
   "provenance": []
  },
  "kernelspec": {
   "display_name": "Python 3 (ipykernel)",
   "language": "python",
   "name": "python3"
  },
  "language_info": {
   "codemirror_mode": {
    "name": "ipython",
    "version": 3
   },
   "file_extension": ".py",
   "mimetype": "text/x-python",
   "name": "python",
   "nbconvert_exporter": "python",
   "pygments_lexer": "ipython3",
   "version": "3.9.13"
  }
 },
 "nbformat": 4,
 "nbformat_minor": 4
}
