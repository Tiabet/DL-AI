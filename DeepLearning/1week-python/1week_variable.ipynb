{
 "cells": [
  {
   "cell_type": "markdown",
   "metadata": {
    "id": "bHIg4Wqki6mD"
   },
   "source": [
    "# 출력문\n",
    "* print() 함수 사용하여 출력 \n",
    "* 문자를 출력할 때는 \" 또는 '를 사용"
   ]
  },
  {
   "cell_type": "code",
   "execution_count": 17,
   "metadata": {
    "colab": {
     "base_uri": "https://localhost:8080/"
    },
    "executionInfo": {
     "elapsed": 846,
     "status": "ok",
     "timestamp": 1615628381110,
     "user": {
      "displayName": "이건석",
      "photoUrl": "",
      "userId": "01486501454335936373"
     },
     "user_tz": -540
    },
    "id": "gem-JnX1lGL7",
    "outputId": "6c140e4c-e44a-4fe8-b3df-fba379e26e44"
   },
   "outputs": [
    {
     "name": "stdout",
     "output_type": "stream",
     "text": [
      "8\n"
     ]
    }
   ],
   "source": [
    "print(8)"
   ]
  },
  {
   "cell_type": "code",
   "execution_count": 18,
   "metadata": {
    "colab": {
     "base_uri": "https://localhost:8080/"
    },
    "executionInfo": {
     "elapsed": 858,
     "status": "ok",
     "timestamp": 1615628391262,
     "user": {
      "displayName": "이건석",
      "photoUrl": "",
      "userId": "01486501454335936373"
     },
     "user_tz": -540
    },
    "id": "_p_SCwU2lM2F",
    "outputId": "671f8094-8eb4-4fa0-da5a-53a60692a290"
   },
   "outputs": [
    {
     "name": "stdout",
     "output_type": "stream",
     "text": [
      "4\n"
     ]
    }
   ],
   "source": [
    "print(11%7)"
   ]
  },
  {
   "cell_type": "code",
   "execution_count": 19,
   "metadata": {
    "colab": {
     "base_uri": "https://localhost:8080/"
    },
    "executionInfo": {
     "elapsed": 836,
     "status": "ok",
     "timestamp": 1615628399032,
     "user": {
      "displayName": "이건석",
      "photoUrl": "",
      "userId": "01486501454335936373"
     },
     "user_tz": -540
    },
    "id": "1uuyKfrClbGV",
    "outputId": "eb6f41be-7b76-402d-94e2-9e23e1ccc236"
   },
   "outputs": [
    {
     "name": "stdout",
     "output_type": "stream",
     "text": [
      "출력문은 print 함수를 사용\n"
     ]
    }
   ],
   "source": [
    "print('출력문은 print 함수를 사용')"
   ]
  },
  {
   "cell_type": "code",
   "execution_count": 20,
   "metadata": {
    "colab": {
     "base_uri": "https://localhost:8080/"
    },
    "executionInfo": {
     "elapsed": 837,
     "status": "ok",
     "timestamp": 1615628408729,
     "user": {
      "displayName": "이건석",
      "photoUrl": "",
      "userId": "01486501454335936373"
     },
     "user_tz": -540
    },
    "id": "Oe_coagymV5J",
    "outputId": "ab223607-28ba-435d-da71-6179664d4259"
   },
   "outputs": [
    {
     "name": "stdout",
     "output_type": "stream",
     "text": [
      "3 + 8= 11\n"
     ]
    }
   ],
   "source": [
    "print('3 + 8=',3+8)"
   ]
  },
  {
   "cell_type": "markdown",
   "metadata": {
    "id": "rX17pKPEnWq2"
   },
   "source": [
    "# 변수\n",
    "* = 를 사용하여 값 저장 "
   ]
  },
  {
   "cell_type": "code",
   "execution_count": 21,
   "metadata": {
    "colab": {
     "base_uri": "https://localhost:8080/"
    },
    "executionInfo": {
     "elapsed": 859,
     "status": "ok",
     "timestamp": 1615628426783,
     "user": {
      "displayName": "이건석",
      "photoUrl": "",
      "userId": "01486501454335936373"
     },
     "user_tz": -540
    },
    "id": "GpODmVDAnv1g",
    "outputId": "7cf83e3e-01cc-43c5-bae8-af24e92f5b53"
   },
   "outputs": [
    {
     "name": "stdout",
     "output_type": "stream",
     "text": [
      "3\n"
     ]
    }
   ],
   "source": [
    "a = 3\n",
    "print(a)"
   ]
  },
  {
   "cell_type": "code",
   "execution_count": 22,
   "metadata": {
    "colab": {
     "base_uri": "https://localhost:8080/"
    },
    "executionInfo": {
     "elapsed": 841,
     "status": "ok",
     "timestamp": 1615628431525,
     "user": {
      "displayName": "이건석",
      "photoUrl": "",
      "userId": "01486501454335936373"
     },
     "user_tz": -540
    },
    "id": "GvrqLuCxn2b-",
    "outputId": "35d95d5f-8f65-4cb8-f65f-b8621dd957db"
   },
   "outputs": [
    {
     "name": "stdout",
     "output_type": "stream",
     "text": [
      "4.24e-10\n"
     ]
    }
   ],
   "source": [
    "b = 4.24e-10\n",
    "print(b)"
   ]
  },
  {
   "cell_type": "markdown",
   "metadata": {
    "id": "mOjiTKyeaM45"
   },
   "source": [
    "* 8진수"
   ]
  },
  {
   "cell_type": "code",
   "execution_count": 23,
   "metadata": {
    "colab": {
     "base_uri": "https://localhost:8080/"
    },
    "executionInfo": {
     "elapsed": 856,
     "status": "ok",
     "timestamp": 1615628434420,
     "user": {
      "displayName": "이건석",
      "photoUrl": "",
      "userId": "01486501454335936373"
     },
     "user_tz": -540
    },
    "id": "OOeZo_1Bn4AC",
    "outputId": "1e4e11ec-7b3a-4c8a-e3c5-e3c1a98bab8a"
   },
   "outputs": [
    {
     "name": "stdout",
     "output_type": "stream",
     "text": [
      "127\n"
     ]
    }
   ],
   "source": [
    "c = 0o177\n",
    "print(c)"
   ]
  },
  {
   "cell_type": "markdown",
   "metadata": {
    "id": "8QaBKsMaaQDC"
   },
   "source": [
    "* 16진수"
   ]
  },
  {
   "cell_type": "code",
   "execution_count": 24,
   "metadata": {
    "colab": {
     "base_uri": "https://localhost:8080/"
    },
    "executionInfo": {
     "elapsed": 848,
     "status": "ok",
     "timestamp": 1615628437596,
     "user": {
      "displayName": "이건석",
      "photoUrl": "",
      "userId": "01486501454335936373"
     },
     "user_tz": -540
    },
    "id": "jdcf-RKYn5Qm",
    "outputId": "620ce878-2130-4f80-c681-3c67d90126d7"
   },
   "outputs": [
    {
     "name": "stdout",
     "output_type": "stream",
     "text": [
      "2748\n"
     ]
    }
   ],
   "source": [
    "d = 0xABC\n",
    "print(d)"
   ]
  },
  {
   "cell_type": "markdown",
   "metadata": {
    "id": "aQbsU0Gnow3P"
   },
   "source": [
    "* 문자열 연결"
   ]
  },
  {
   "cell_type": "code",
   "execution_count": 25,
   "metadata": {
    "colab": {
     "base_uri": "https://localhost:8080/"
    },
    "executionInfo": {
     "elapsed": 840,
     "status": "ok",
     "timestamp": 1615628457700,
     "user": {
      "displayName": "이건석",
      "photoUrl": "",
      "userId": "01486501454335936373"
     },
     "user_tz": -540
    },
    "id": "q7eaR6Senc_n",
    "outputId": "bc32a7f5-14aa-44fa-afb5-9d70e61772dd"
   },
   "outputs": [
    {
     "name": "stdout",
     "output_type": "stream",
     "text": [
      "Python is fun\n"
     ]
    }
   ],
   "source": [
    "head=\"Python\"\n",
    "tail=\" is fun\"\n",
    "print(head + tail)"
   ]
  },
  {
   "cell_type": "markdown",
   "metadata": {
    "id": "9PJaUJMxo2qh"
   },
   "source": [
    "* 문자열 곱"
   ]
  },
  {
   "cell_type": "code",
   "execution_count": 26,
   "metadata": {
    "colab": {
     "base_uri": "https://localhost:8080/"
    },
    "executionInfo": {
     "elapsed": 840,
     "status": "ok",
     "timestamp": 1615628470380,
     "user": {
      "displayName": "이건석",
      "photoUrl": "",
      "userId": "01486501454335936373"
     },
     "user_tz": -540
    },
    "id": "rG-Qgfy2nstS",
    "outputId": "90a2b5c0-c466-4372-a1cf-bdc835c49cf1"
   },
   "outputs": [
    {
     "name": "stdout",
     "output_type": "stream",
     "text": [
      "python python python \n"
     ]
    }
   ],
   "source": [
    "a=\"python \"\n",
    "print(a*3)"
   ]
  },
  {
   "cell_type": "markdown",
   "metadata": {
    "id": "wq5vD3jipQGA"
   },
   "source": [
    "* 문자열 길이"
   ]
  },
  {
   "cell_type": "code",
   "execution_count": 27,
   "metadata": {
    "colab": {
     "base_uri": "https://localhost:8080/"
    },
    "executionInfo": {
     "elapsed": 843,
     "status": "ok",
     "timestamp": 1615628486303,
     "user": {
      "displayName": "이건석",
      "photoUrl": "",
      "userId": "01486501454335936373"
     },
     "user_tz": -540
    },
    "id": "5T7Ppk-mn1hY",
    "outputId": "3f7d902b-201f-4b1f-feb9-4d06e834bd0d"
   },
   "outputs": [
    {
     "name": "stdout",
     "output_type": "stream",
     "text": [
      "17\n"
     ]
    }
   ],
   "source": [
    "a=\"Life is too short\"\n",
    "print(len(a))"
   ]
  },
  {
   "cell_type": "markdown",
   "metadata": {
    "id": "9X6BUmbqpncJ"
   },
   "source": [
    "* 변수(숫자 or 문자) 연결"
   ]
  },
  {
   "cell_type": "code",
   "execution_count": null,
   "metadata": {
    "colab": {
     "base_uri": "https://localhost:8080/"
    },
    "executionInfo": {
     "elapsed": 652,
     "status": "ok",
     "timestamp": 1615120461251,
     "user": {
      "displayName": "이건석",
      "photoUrl": "",
      "userId": "01486501454335936373"
     },
     "user_tz": -540
    },
    "id": "yqQ_BTsOq07K",
    "outputId": "76e4fedc-9384-4291-a174-bdf8d9bbb3de"
   },
   "outputs": [
    {
     "name": "stdout",
     "output_type": "stream",
     "text": [
      "5 * 2 = 10\n"
     ]
    }
   ],
   "source": [
    "print('5 * 2 =',5*2)"
   ]
  },
  {
   "cell_type": "markdown",
   "metadata": {
    "id": "Q9ids3Tsrtzv"
   },
   "source": [
    "* 이스케이프 코드\n",
    "* 프로그래밍을 위해 미리 정의한 문자 조합, 주로 출력을 위해 사용"
   ]
  },
  {
   "cell_type": "code",
   "execution_count": 28,
   "metadata": {
    "colab": {
     "base_uri": "https://localhost:8080/"
    },
    "executionInfo": {
     "elapsed": 831,
     "status": "ok",
     "timestamp": 1615628519205,
     "user": {
      "displayName": "이건석",
      "photoUrl": "",
      "userId": "01486501454335936373"
     },
     "user_tz": -540
    },
    "id": "bX7lBo-VrpxA",
    "outputId": "5fbbbfae-99dc-4cc9-f467-745956046453"
   },
   "outputs": [
    {
     "name": "stdout",
     "output_type": "stream",
     "text": [
      "이스케이프\n",
      "코드\n"
     ]
    }
   ],
   "source": [
    "a=\"이스케이프\\n코드\"\n",
    "print(a)"
   ]
  },
  {
   "cell_type": "code",
   "execution_count": 29,
   "metadata": {
    "colab": {
     "base_uri": "https://localhost:8080/"
    },
    "executionInfo": {
     "elapsed": 844,
     "status": "ok",
     "timestamp": 1615628528464,
     "user": {
      "displayName": "이건석",
      "photoUrl": "",
      "userId": "01486501454335936373"
     },
     "user_tz": -540
    },
    "id": "IKgPL54xv3M-",
    "outputId": "57415985-e98a-48e8-982b-7a1046b0fd30"
   },
   "outputs": [
    {
     "name": "stdout",
     "output_type": "stream",
     "text": [
      "이스케이프\t코드\n"
     ]
    }
   ],
   "source": [
    "a=\"이스케이프\\t코드\"\n",
    "print(a)"
   ]
  },
  {
   "cell_type": "code",
   "execution_count": 30,
   "metadata": {
    "colab": {
     "base_uri": "https://localhost:8080/"
    },
    "executionInfo": {
     "elapsed": 915,
     "status": "ok",
     "timestamp": 1615628540207,
     "user": {
      "displayName": "이건석",
      "photoUrl": "",
      "userId": "01486501454335936373"
     },
     "user_tz": -540
    },
    "id": "Z1EGz6CQv9KK",
    "outputId": "b21eabaa-74fd-447d-edbf-536632af7e59"
   },
   "outputs": [
    {
     "name": "stdout",
     "output_type": "stream",
     "text": [
      "이스케이프\\코드\n"
     ]
    }
   ],
   "source": [
    "a=\"이스케이프\\\\코드\"\n",
    "print(a)"
   ]
  },
  {
   "cell_type": "code",
   "execution_count": 31,
   "metadata": {
    "colab": {
     "base_uri": "https://localhost:8080/"
    },
    "executionInfo": {
     "elapsed": 912,
     "status": "ok",
     "timestamp": 1615628550084,
     "user": {
      "displayName": "이건석",
      "photoUrl": "",
      "userId": "01486501454335936373"
     },
     "user_tz": -540
    },
    "id": "9ECErXYWwJM4",
    "outputId": "a1e36b1b-f2b3-44d6-ac7e-d512c60b43dd"
   },
   "outputs": [
    {
     "name": "stdout",
     "output_type": "stream",
     "text": [
      "이스케이프'코드\"\n"
     ]
    }
   ],
   "source": [
    "a=\"이스케이프\\'코드\\\"\"\n",
    "print(a)"
   ]
  },
  {
   "cell_type": "markdown",
   "metadata": {
    "id": "Iq2GdkvfwftA"
   },
   "source": [
    "# 활용\n",
    "* 인덱싱: 가리킨다\n",
    "* 슬라이싱: 잘라낸다\n",
    "* 파이썬은 0부터 숫자를 센다"
   ]
  },
  {
   "cell_type": "code",
   "execution_count": 32,
   "metadata": {
    "colab": {
     "base_uri": "https://localhost:8080/"
    },
    "executionInfo": {
     "elapsed": 843,
     "status": "ok",
     "timestamp": 1615628587279,
     "user": {
      "displayName": "이건석",
      "photoUrl": "",
      "userId": "01486501454335936373"
     },
     "user_tz": -540
    },
    "id": "oh43A3TAwktj",
    "outputId": "1f893ea0-0ef4-4607-f997-968a1fd43fab"
   },
   "outputs": [
    {
     "name": "stdout",
     "output_type": "stream",
     "text": [
      "e\n",
      "o\n",
      "is to\n",
      "o short, You need Pytho\n",
      "python\n"
     ]
    }
   ],
   "source": [
    "a=\"Life is too short, You need Python\"\n",
    "print(a[3])\n",
    "print(a[-2])\n",
    "print(a[5:10])\n",
    "print(a[10:-1])\n",
    "\n",
    "a='pithon'\n",
    "b=a[:1]+'y'+a[2:]\n",
    "print(b)"
   ]
  },
  {
   "cell_type": "markdown",
   "metadata": {
    "id": "5UQVoH-yx0Vh"
   },
   "source": [
    "* 문자열 포매팅\n",
    "* %s: string, %d: Integer, %f: floating point\n",
    "* format() 함수"
   ]
  },
  {
   "cell_type": "code",
   "execution_count": 33,
   "metadata": {
    "colab": {
     "base_uri": "https://localhost:8080/"
    },
    "executionInfo": {
     "elapsed": 834,
     "status": "ok",
     "timestamp": 1615628686548,
     "user": {
      "displayName": "이건석",
      "photoUrl": "",
      "userId": "01486501454335936373"
     },
     "user_tz": -540
    },
    "id": "VHLC8NvKx39w",
    "outputId": "ce0c0591-de2a-49eb-885b-8feaf837b3f8"
   },
   "outputs": [
    {
     "name": "stdout",
     "output_type": "stream",
     "text": [
      "I have 3 apples\n"
     ]
    }
   ],
   "source": [
    "print(\"I have %s apples\" %3)"
   ]
  },
  {
   "cell_type": "code",
   "execution_count": 34,
   "metadata": {
    "colab": {
     "base_uri": "https://localhost:8080/"
    },
    "executionInfo": {
     "elapsed": 856,
     "status": "ok",
     "timestamp": 1615628697877,
     "user": {
      "displayName": "이건석",
      "photoUrl": "",
      "userId": "01486501454335936373"
     },
     "user_tz": -540
    },
    "id": "eR4aBO2TyJzw",
    "outputId": "92f9d2f4-0109-45dc-cfaa-746b900a250a"
   },
   "outputs": [
    {
     "name": "stdout",
     "output_type": "stream",
     "text": [
      "Error is 98%.\n"
     ]
    }
   ],
   "source": [
    "print(\"Error is %d%%.\" %98)"
   ]
  },
  {
   "cell_type": "code",
   "execution_count": 35,
   "metadata": {
    "colab": {
     "base_uri": "https://localhost:8080/"
    },
    "executionInfo": {
     "elapsed": 839,
     "status": "ok",
     "timestamp": 1615628719708,
     "user": {
      "displayName": "이건석",
      "photoUrl": "",
      "userId": "01486501454335936373"
     },
     "user_tz": -540
    },
    "id": "LaSyd8SiyLkn",
    "outputId": "4b8db0fd-356b-4cf7-c02b-f7be20e64c71"
   },
   "outputs": [
    {
     "name": "stdout",
     "output_type": "stream",
     "text": [
      "I eat 3 apples\n"
     ]
    }
   ],
   "source": [
    "number =3\n",
    "print(\"I eat {} apples\".format(number))"
   ]
  },
  {
   "cell_type": "code",
   "execution_count": null,
   "metadata": {
    "colab": {
     "base_uri": "https://localhost:8080/"
    },
    "executionInfo": {
     "elapsed": 642,
     "status": "ok",
     "timestamp": 1615122672792,
     "user": {
      "displayName": "이건석",
      "photoUrl": "",
      "userId": "01486501454335936373"
     },
     "user_tz": -540
    },
    "id": "dnaUywjSzhS9",
    "outputId": "b53e0d10-4538-4ad6-b6c4-7dd65947f0e2"
   },
   "outputs": [
    {
     "name": "stdout",
     "output_type": "stream",
     "text": [
      "3.4213\n"
     ]
    }
   ],
   "source": [
    "y =3.42134234\n",
    "print(\"{:0.4f}\".format(y))"
   ]
  },
  {
   "cell_type": "code",
   "execution_count": null,
   "metadata": {
    "colab": {
     "base_uri": "https://localhost:8080/"
    },
    "executionInfo": {
     "elapsed": 711,
     "status": "ok",
     "timestamp": 1615122669388,
     "user": {
      "displayName": "이건석",
      "photoUrl": "",
      "userId": "01486501454335936373"
     },
     "user_tz": -540
    },
    "id": "u0MgkyZOzQ46",
    "outputId": "33ee6c58-06ec-4f75-856a-d9167d3fa54f"
   },
   "outputs": [
    {
     "name": "stdout",
     "output_type": "stream",
     "text": [
      "I ate 10 apples. so I was sick for three days.\n"
     ]
    }
   ],
   "source": [
    "number =10\n",
    "day =\"three\"\n",
    "print( \"I ate {0} apples. so I was sick for {1} days.\".format(number, day))"
   ]
  },
  {
   "cell_type": "markdown",
   "metadata": {
    "id": "IdrU9obj0Jzy"
   },
   "source": [
    "* 문자 개수"
   ]
  },
  {
   "cell_type": "code",
   "execution_count": null,
   "metadata": {
    "colab": {
     "base_uri": "https://localhost:8080/"
    },
    "executionInfo": {
     "elapsed": 594,
     "status": "ok",
     "timestamp": 1615122737293,
     "user": {
      "displayName": "이건석",
      "photoUrl": "",
      "userId": "01486501454335936373"
     },
     "user_tz": -540
    },
    "id": "K14II9Q-0SCS",
    "outputId": "b3f7f6cc-e32b-44f9-ec04-07ffd6913dd3"
   },
   "outputs": [
    {
     "data": {
      "text/plain": [
       "2"
      ]
     },
     "execution_count": 49,
     "metadata": {
      "tags": []
     },
     "output_type": "execute_result"
    }
   ],
   "source": [
    "a='hobby'\n",
    "a.count('b')"
   ]
  },
  {
   "cell_type": "markdown",
   "metadata": {
    "id": "GZd_fzwt0nRd"
   },
   "source": [
    "* 문자 위치"
   ]
  },
  {
   "cell_type": "code",
   "execution_count": 36,
   "metadata": {
    "colab": {
     "base_uri": "https://localhost:8080/"
    },
    "executionInfo": {
     "elapsed": 965,
     "status": "ok",
     "timestamp": 1615628823534,
     "user": {
      "displayName": "이건석",
      "photoUrl": "",
      "userId": "01486501454335936373"
     },
     "user_tz": -540
    },
    "id": "6g0ZFP0c0sFg",
    "outputId": "280530cc-0c86-4a14-a67e-027d7398045d"
   },
   "outputs": [
    {
     "name": "stdout",
     "output_type": "stream",
     "text": [
      "14\n"
     ]
    },
    {
     "data": {
      "text/plain": [
       "8"
      ]
     },
     "execution_count": 36,
     "metadata": {
      "tags": []
     },
     "output_type": "execute_result"
    }
   ],
   "source": [
    "a =\"Python is the best choice\"\n",
    "print(a.find('b'))\n",
    "a =\"Life is too short\"\n",
    "a.index('t')"
   ]
  },
  {
   "cell_type": "markdown",
   "metadata": {
    "id": "nPsGJ3hW1FSy"
   },
   "source": [
    "* 문자열 삽입"
   ]
  },
  {
   "cell_type": "code",
   "execution_count": 37,
   "metadata": {
    "colab": {
     "base_uri": "https://localhost:8080/"
    },
    "executionInfo": {
     "elapsed": 879,
     "status": "ok",
     "timestamp": 1615628860476,
     "user": {
      "displayName": "이건석",
      "photoUrl": "",
      "userId": "01486501454335936373"
     },
     "user_tz": -540
    },
    "id": "ZKd-m6LN1HvS",
    "outputId": "dad61bc6-9e8c-4075-c0c5-750627cbdadd"
   },
   "outputs": [
    {
     "name": "stdout",
     "output_type": "stream",
     "text": [
      "a,b,c,d\n",
      "a,b,c,d\n"
     ]
    }
   ],
   "source": [
    "print(\",\".join('abcd'))\n",
    "print(\",\".join(['a', 'b', 'c', 'd']))"
   ]
  },
  {
   "cell_type": "markdown",
   "metadata": {
    "id": "j41Pe3uJ1z7N"
   },
   "source": [
    "* 소문자 대문자 바꾸기"
   ]
  },
  {
   "cell_type": "code",
   "execution_count": 38,
   "metadata": {
    "colab": {
     "base_uri": "https://localhost:8080/"
    },
    "executionInfo": {
     "elapsed": 825,
     "status": "ok",
     "timestamp": 1615628885660,
     "user": {
      "displayName": "이건석",
      "photoUrl": "",
      "userId": "01486501454335936373"
     },
     "user_tz": -540
    },
    "id": "uDFna4nB12DN",
    "outputId": "e87111d8-b514-484f-cdb6-646739fe71b4"
   },
   "outputs": [
    {
     "name": "stdout",
     "output_type": "stream",
     "text": [
      "HI\n",
      "hi\n"
     ]
    }
   ],
   "source": [
    "a =\"hi\"\n",
    "a = a.upper()\n",
    "print(a)\n",
    "a = a.lower()\n",
    "print(a)"
   ]
  },
  {
   "cell_type": "markdown",
   "metadata": {
    "id": "NDUozSRf188x"
   },
   "source": [
    "* 공백 지우기"
   ]
  },
  {
   "cell_type": "code",
   "execution_count": 39,
   "metadata": {
    "colab": {
     "base_uri": "https://localhost:8080/"
    },
    "executionInfo": {
     "elapsed": 902,
     "status": "ok",
     "timestamp": 1615628906138,
     "user": {
      "displayName": "이건석",
      "photoUrl": "",
      "userId": "01486501454335936373"
     },
     "user_tz": -540
    },
    "id": "dCiYh-jE2Ad-",
    "outputId": "1c2b247f-2d40-40e1-a110-b106a519076c"
   },
   "outputs": [
    {
     "name": "stdout",
     "output_type": "stream",
     "text": [
      "hi \n",
      " hi\n",
      "hi\n"
     ]
    }
   ],
   "source": [
    "a =\" hi \"\n",
    "print(a.lstrip())\n",
    "print(a.rstrip())\n",
    "print(a.strip())"
   ]
  },
  {
   "cell_type": "markdown",
   "metadata": {
    "id": "CYVYEfv52LUP"
   },
   "source": [
    "* 문자열 바꾸기"
   ]
  },
  {
   "cell_type": "code",
   "execution_count": 40,
   "metadata": {
    "colab": {
     "base_uri": "https://localhost:8080/"
    },
    "executionInfo": {
     "elapsed": 872,
     "status": "ok",
     "timestamp": 1615628957469,
     "user": {
      "displayName": "이건석",
      "photoUrl": "",
      "userId": "01486501454335936373"
     },
     "user_tz": -540
    },
    "id": "ordDRQtr2Kev",
    "outputId": "21f41ee3-cfcb-4d40-e60d-bbc631ac7a9b"
   },
   "outputs": [
    {
     "name": "stdout",
     "output_type": "stream",
     "text": [
      "Your leg is too short\n"
     ]
    }
   ],
   "source": [
    "a =\"Life is too short\"\n",
    "print(a.replace(\"Life\", \"Your leg\"))"
   ]
  },
  {
   "cell_type": "markdown",
   "metadata": {
    "id": "dwYfzYIz2VsO"
   },
   "source": [
    "* 문자열 나누기(split)"
   ]
  },
  {
   "cell_type": "code",
   "execution_count": null,
   "metadata": {
    "colab": {
     "base_uri": "https://localhost:8080/"
    },
    "executionInfo": {
     "elapsed": 619,
     "status": "ok",
     "timestamp": 1615123288805,
     "user": {
      "displayName": "이건석",
      "photoUrl": "",
      "userId": "01486501454335936373"
     },
     "user_tz": -540
    },
    "id": "H5x-zJDR2SS5",
    "outputId": "375b5345-9ddd-4b63-c927-137ec6ef195a"
   },
   "outputs": [
    {
     "name": "stdout",
     "output_type": "stream",
     "text": [
      "['Life', 'is', 'too', 'short']\n",
      "['a', 'b', 'c', 'd']\n"
     ]
    }
   ],
   "source": [
    "a =\"Life is too short\"\n",
    "print(a.split())\n",
    "b =\"a:b:c:d\"\n",
    "print(b.split(':'))"
   ]
  },
  {
   "cell_type": "markdown",
   "metadata": {
    "id": "FHo6T_kd2UNb"
   },
   "source": [
    "# 리스트 자료형\n",
    "* 한 개의 변수에 여러 개의 값을 저장 가능\n",
    "* 리스트 생성"
   ]
  },
  {
   "cell_type": "code",
   "execution_count": 41,
   "metadata": {
    "executionInfo": {
     "elapsed": 852,
     "status": "ok",
     "timestamp": 1615629011341,
     "user": {
      "displayName": "이건석",
      "photoUrl": "",
      "userId": "01486501454335936373"
     },
     "user_tz": -540
    },
    "id": "rzJyaLwG3Ep-"
   },
   "outputs": [],
   "source": [
    "a = []\n",
    "b = [1, 2, 3]\n",
    "c = ['Life', 'is', 'too', 'short']\n",
    "d = [1, 2, 'Life', 'is']\n",
    "e = [1, 2, ['Life', 'is']]"
   ]
  },
  {
   "cell_type": "markdown",
   "metadata": {
    "id": "kePFcFKG3LFV"
   },
   "source": [
    "* 리스트 인덱싱,값 수정 및 삭제"
   ]
  },
  {
   "cell_type": "code",
   "execution_count": 42,
   "metadata": {
    "colab": {
     "base_uri": "https://localhost:8080/"
    },
    "executionInfo": {
     "elapsed": 854,
     "status": "ok",
     "timestamp": 1615629035362,
     "user": {
      "displayName": "이건석",
      "photoUrl": "",
      "userId": "01486501454335936373"
     },
     "user_tz": -540
    },
    "id": "aWD0v7fA3OYd",
    "outputId": "dde2004f-b090-491d-8e3e-0fbb66054345"
   },
   "outputs": [
    {
     "name": "stdout",
     "output_type": "stream",
     "text": [
      "3\n",
      "4\n",
      "[1, 2]\n",
      "[1, 2, 4]\n",
      "[1, 4]\n",
      "[1]\n"
     ]
    }
   ],
   "source": [
    "a = [1, 2, 3]\n",
    "print(len(a))\n",
    "print(a[0]+a[2])\n",
    "print(a[0:2])\n",
    "a[2]=4\n",
    "print(a)\n",
    "del a[1]\n",
    "print(a)\n",
    "del a[1:]\n",
    "print(a)"
   ]
  },
  {
   "cell_type": "markdown",
   "metadata": {
    "id": "TMs17yLn3pN3"
   },
   "source": [
    "* 리스트 간 사칙연산"
   ]
  },
  {
   "cell_type": "code",
   "execution_count": 43,
   "metadata": {
    "colab": {
     "base_uri": "https://localhost:8080/"
    },
    "executionInfo": {
     "elapsed": 845,
     "status": "ok",
     "timestamp": 1615629120825,
     "user": {
      "displayName": "이건석",
      "photoUrl": "",
      "userId": "01486501454335936373"
     },
     "user_tz": -540
    },
    "id": "anxoMhqQ3raV",
    "outputId": "48342d58-0b93-455f-d001-11276b48e60c"
   },
   "outputs": [
    {
     "name": "stdout",
     "output_type": "stream",
     "text": [
      "[1, 2, 3, 4, 5, 6]\n",
      "[1, 2, 3, 1, 2, 3, 1, 2, 3]\n"
     ]
    }
   ],
   "source": [
    "a = [1, 2, 3]\n",
    "b = [4, 5, 6]\n",
    "print(a + b)\n",
    "print(a *3)"
   ]
  },
  {
   "cell_type": "markdown",
   "metadata": {
    "id": "ANYCUAHe38HR"
   },
   "source": [
    "* 리스트에 요소추가"
   ]
  },
  {
   "cell_type": "code",
   "execution_count": 44,
   "metadata": {
    "colab": {
     "base_uri": "https://localhost:8080/"
    },
    "executionInfo": {
     "elapsed": 818,
     "status": "ok",
     "timestamp": 1615629160351,
     "user": {
      "displayName": "이건석",
      "photoUrl": "",
      "userId": "01486501454335936373"
     },
     "user_tz": -540
    },
    "id": "qFefa7vC3zGQ",
    "outputId": "d1899110-2a89-4e27-d7c7-fa5758f8e496"
   },
   "outputs": [
    {
     "name": "stdout",
     "output_type": "stream",
     "text": [
      "[1, 2, 3, 4]\n",
      "[1, 2, 3, 4, [5, 6]]\n"
     ]
    }
   ],
   "source": [
    "a = [1, 2, 3]\n",
    "a.append(4)\n",
    "print(a)\n",
    "\n",
    "a.append([5,6])\n",
    "print(a)\n"
   ]
  },
  {
   "cell_type": "markdown",
   "metadata": {
    "id": "eTmp98ru4Cvj"
   },
   "source": [
    "* 리스트 정렬"
   ]
  },
  {
   "cell_type": "code",
   "execution_count": 45,
   "metadata": {
    "colab": {
     "base_uri": "https://localhost:8080/"
    },
    "executionInfo": {
     "elapsed": 843,
     "status": "ok",
     "timestamp": 1615629187672,
     "user": {
      "displayName": "이건석",
      "photoUrl": "",
      "userId": "01486501454335936373"
     },
     "user_tz": -540
    },
    "id": "P6zPJ4KN4HkB",
    "outputId": "5c178696-c062-481c-9852-248105015173"
   },
   "outputs": [
    {
     "name": "stdout",
     "output_type": "stream",
     "text": [
      "[1, 2, 3, 4]\n",
      "['a', 'b', 'c']\n"
     ]
    }
   ],
   "source": [
    "a = [1, 4, 3, 2]\n",
    "a.sort()\n",
    "print(a)\n",
    "\n",
    "a = ['a', 'c', 'b']\n",
    "a.sort()\n",
    "print(a)"
   ]
  },
  {
   "cell_type": "markdown",
   "metadata": {
    "id": "DnkPf7PA4XtA"
   },
   "source": [
    "* 리스트 뒤집기"
   ]
  },
  {
   "cell_type": "code",
   "execution_count": 46,
   "metadata": {
    "colab": {
     "base_uri": "https://localhost:8080/"
    },
    "executionInfo": {
     "elapsed": 838,
     "status": "ok",
     "timestamp": 1615629215091,
     "user": {
      "displayName": "이건석",
      "photoUrl": "",
      "userId": "01486501454335936373"
     },
     "user_tz": -540
    },
    "id": "Gk7lpQTW4a_3",
    "outputId": "b702e354-86af-4029-d56f-9c85895a5551"
   },
   "outputs": [
    {
     "name": "stdout",
     "output_type": "stream",
     "text": [
      "['b', 'c', 'a']\n"
     ]
    }
   ],
   "source": [
    "a = ['a', 'c', 'b']\n",
    "a.reverse()\n",
    "print(a)"
   ]
  },
  {
   "cell_type": "markdown",
   "metadata": {
    "id": "8E1-3cr_4ef3"
   },
   "source": [
    "* 리스트 위치반환"
   ]
  },
  {
   "cell_type": "code",
   "execution_count": null,
   "metadata": {
    "colab": {
     "base_uri": "https://localhost:8080/"
    },
    "executionInfo": {
     "elapsed": 720,
     "status": "ok",
     "timestamp": 1615123849494,
     "user": {
      "displayName": "이건석",
      "photoUrl": "",
      "userId": "01486501454335936373"
     },
     "user_tz": -540
    },
    "id": "k5mnfzxH4gbq",
    "outputId": "05126463-c239-4cbf-f1af-dd9568c4f6fd"
   },
   "outputs": [
    {
     "name": "stdout",
     "output_type": "stream",
     "text": [
      "2\n",
      "0\n"
     ]
    }
   ],
   "source": [
    "a = [1,2,3]\n",
    "print(a.index(3))\n",
    "print(a.index(1))"
   ]
  },
  {
   "cell_type": "markdown",
   "metadata": {
    "id": "7fgOojMd4lGi"
   },
   "source": [
    "* 리스트에 요소 삽입"
   ]
  },
  {
   "cell_type": "code",
   "execution_count": 47,
   "metadata": {
    "colab": {
     "base_uri": "https://localhost:8080/"
    },
    "executionInfo": {
     "elapsed": 844,
     "status": "ok",
     "timestamp": 1615629267033,
     "user": {
      "displayName": "이건석",
      "photoUrl": "",
      "userId": "01486501454335936373"
     },
     "user_tz": -540
    },
    "id": "dnWij-kP4mf8",
    "outputId": "19e1b27e-b4a6-4405-ec0e-c961c82aa88f"
   },
   "outputs": [
    {
     "name": "stdout",
     "output_type": "stream",
     "text": [
      "[4, 1, 2, 3]\n",
      "[4, 1, 2, 5, 3]\n"
     ]
    }
   ],
   "source": [
    "a = [1, 2, 3]\n",
    "a.insert(0, 4)\n",
    "print(a)\n",
    "\n",
    "a.insert(3, 5)\n",
    "print(a)"
   ]
  },
  {
   "cell_type": "markdown",
   "metadata": {
    "id": "c-Zz2u3Z4sOk"
   },
   "source": [
    "* 리스트 요소 제거"
   ]
  },
  {
   "cell_type": "code",
   "execution_count": 48,
   "metadata": {
    "colab": {
     "base_uri": "https://localhost:8080/"
    },
    "executionInfo": {
     "elapsed": 845,
     "status": "ok",
     "timestamp": 1615629300578,
     "user": {
      "displayName": "이건석",
      "photoUrl": "",
      "userId": "01486501454335936373"
     },
     "user_tz": -540
    },
    "id": "BiWty2hm4toU",
    "outputId": "f0258480-d4de-417e-e946-f4fe0bb339c9"
   },
   "outputs": [
    {
     "name": "stdout",
     "output_type": "stream",
     "text": [
      "[1, 2, 1, 2, 3]\n"
     ]
    }
   ],
   "source": [
    "a = [1, 2, 3, 1, 2, 3]\n",
    "a.remove(3)\n",
    "print(a)"
   ]
  },
  {
   "cell_type": "markdown",
   "metadata": {
    "id": "lFBTBRzh42oU"
   },
   "source": [
    "* 리스트 요소 끄집어내기"
   ]
  },
  {
   "cell_type": "code",
   "execution_count": 49,
   "metadata": {
    "colab": {
     "base_uri": "https://localhost:8080/"
    },
    "executionInfo": {
     "elapsed": 844,
     "status": "ok",
     "timestamp": 1615629315634,
     "user": {
      "displayName": "이건석",
      "photoUrl": "",
      "userId": "01486501454335936373"
     },
     "user_tz": -540
    },
    "id": "kIjY4t8c45Aj",
    "outputId": "a514b828-525a-4f28-f90f-2dbf2c89feba"
   },
   "outputs": [
    {
     "name": "stdout",
     "output_type": "stream",
     "text": [
      "3\n",
      "[1, 2]\n",
      "2\n",
      "[1, 3]\n"
     ]
    }
   ],
   "source": [
    "a = [1,2,3]\n",
    "b = a.pop()\n",
    "print(b)\n",
    "print(a)\n",
    "\n",
    "a = [1,2,3]\n",
    "b = a.pop(1)\n",
    "print(b)\n",
    "print(a)"
   ]
  },
  {
   "cell_type": "markdown",
   "metadata": {
    "id": "6-YMj55x5SQV"
   },
   "source": [
    "* 리스트에 포함된 요소 x의 개수 세기"
   ]
  },
  {
   "cell_type": "code",
   "execution_count": 50,
   "metadata": {
    "colab": {
     "base_uri": "https://localhost:8080/"
    },
    "executionInfo": {
     "elapsed": 832,
     "status": "ok",
     "timestamp": 1615629354972,
     "user": {
      "displayName": "이건석",
      "photoUrl": "",
      "userId": "01486501454335936373"
     },
     "user_tz": -540
    },
    "id": "4yV6PbiG5WhZ",
    "outputId": "c7e0bbc5-a0a4-4d8c-9e58-efd36ba40da6"
   },
   "outputs": [
    {
     "data": {
      "text/plain": [
       "2"
      ]
     },
     "execution_count": 50,
     "metadata": {
      "tags": []
     },
     "output_type": "execute_result"
    }
   ],
   "source": [
    "a = [1,2,3,1]\n",
    "a.count(1)"
   ]
  },
  {
   "cell_type": "markdown",
   "metadata": {
    "id": "zwWuvjja5ZIe"
   },
   "source": [
    "* 리스트 확장"
   ]
  },
  {
   "cell_type": "code",
   "execution_count": null,
   "metadata": {
    "colab": {
     "base_uri": "https://localhost:8080/"
    },
    "executionInfo": {
     "elapsed": 631,
     "status": "ok",
     "timestamp": 1615124089794,
     "user": {
      "displayName": "이건석",
      "photoUrl": "",
      "userId": "01486501454335936373"
     },
     "user_tz": -540
    },
    "id": "_peAQFFe5bQc",
    "outputId": "9eaa5a42-336d-4473-f8dc-851706975990"
   },
   "outputs": [
    {
     "name": "stdout",
     "output_type": "stream",
     "text": [
      "[1, 2, 3, 4, 5]\n"
     ]
    }
   ],
   "source": [
    "a = [1,2,3]\n",
    "a.extend([4,5])\n",
    "print(a)"
   ]
  },
  {
   "cell_type": "markdown",
   "metadata": {
    "id": "SfwPW_kS60GI"
   },
   "source": [
    "# 튜플 자료형\n",
    "* 리스트는 [ ]으로 둘러싸지만 튜플은 ( )으로 둘러싼다.\n",
    "* 리스트는 값의 수정이 가능하지만 튜플은 그 값을 바꿀 수 없다.\n",
    "* 튜플 생성"
   ]
  },
  {
   "cell_type": "code",
   "execution_count": 51,
   "metadata": {
    "executionInfo": {
     "elapsed": 848,
     "status": "ok",
     "timestamp": 1615629394725,
     "user": {
      "displayName": "이건석",
      "photoUrl": "",
      "userId": "01486501454335936373"
     },
     "user_tz": -540
    },
    "id": "q8zE8cNV6_PH"
   },
   "outputs": [],
   "source": [
    "t1 = ()\n",
    "t2 = (1,)\n",
    "t3 = (1, 2, 3)\n",
    "t4 =1, 2, 3\n",
    "t5 = ('a', 'b', ('ab', 'cd'))"
   ]
  },
  {
   "cell_type": "markdown",
   "metadata": {
    "id": "AzzAClaq7H3C"
   },
   "source": [
    "* 튜플의 인덱싱"
   ]
  },
  {
   "cell_type": "code",
   "execution_count": null,
   "metadata": {
    "colab": {
     "base_uri": "https://localhost:8080/"
    },
    "executionInfo": {
     "elapsed": 614,
     "status": "ok",
     "timestamp": 1615124587601,
     "user": {
      "displayName": "이건석",
      "photoUrl": "",
      "userId": "01486501454335936373"
     },
     "user_tz": -540
    },
    "id": "_QBGKGhN7KQh",
    "outputId": "24095b57-0c3a-449e-c1ac-2fbd82aac440"
   },
   "outputs": [
    {
     "name": "stdout",
     "output_type": "stream",
     "text": [
      "4\n",
      "1\n",
      "(2, 'a', 'b')\n"
     ]
    }
   ],
   "source": [
    "t1 = (1, 2, 'a', 'b')\n",
    "print(len(t1))\n",
    "print(t1[0])\n",
    "print(t1[1:])"
   ]
  },
  {
   "cell_type": "code",
   "execution_count": 52,
   "metadata": {
    "colab": {
     "base_uri": "https://localhost:8080/"
    },
    "executionInfo": {
     "elapsed": 847,
     "status": "ok",
     "timestamp": 1615629440064,
     "user": {
      "displayName": "이건석",
      "photoUrl": "",
      "userId": "01486501454335936373"
     },
     "user_tz": -540
    },
    "id": "TQZOHaT-7eJc",
    "outputId": "2a42f8f5-6335-49a7-e4b8-2c38f6a6cf1d"
   },
   "outputs": [
    {
     "name": "stdout",
     "output_type": "stream",
     "text": [
      "(1, 2, 'a', 'b', 3, 4)\n",
      "(3, 4, 3, 4, 3, 4)\n"
     ]
    }
   ],
   "source": [
    "t1 = (1, 2, 'a', 'b')\n",
    "t2 = (3, 4)\n",
    "print(t1 + t2)\n",
    "\n",
    "t2 = (3, 4)\n",
    "print(t2 *3)"
   ]
  },
  {
   "cell_type": "markdown",
   "metadata": {
    "id": "FMOVhe-i7ywQ"
   },
   "source": [
    "# 딕셔너리 자료형\n",
    "* 딕셔너리는 리스트나 튜플처럼 순차적으로(sequential) 해당 요솟값을 구하지 않고 Key(이름)를 통해 Value(값)를 얻는다.\n",
    "* {Key1:Value1, Key2:Value2, Key3:Value3, ...}\n",
    "* 딕셔너리 생성"
   ]
  },
  {
   "cell_type": "code",
   "execution_count": 53,
   "metadata": {
    "colab": {
     "base_uri": "https://localhost:8080/"
    },
    "executionInfo": {
     "elapsed": 844,
     "status": "ok",
     "timestamp": 1615629496065,
     "user": {
      "displayName": "이건석",
      "photoUrl": "",
      "userId": "01486501454335936373"
     },
     "user_tz": -540
    },
    "id": "lkhRnfCc7qZ1",
    "outputId": "582c940a-c8c6-4b5f-ddbc-64a544cd315b"
   },
   "outputs": [
    {
     "name": "stdout",
     "output_type": "stream",
     "text": [
      "John\n",
      "0119993323\n",
      "1118\n"
     ]
    }
   ],
   "source": [
    "dic = {'name':'John', 'phone':'0119993323', 'birth': '1118'}\n",
    "print(dic['name'])\n",
    "print(dic['phone'])\n",
    "print(dic['birth'])"
   ]
  },
  {
   "cell_type": "markdown",
   "metadata": {
    "id": "MhhAQThN8Ecy"
   },
   "source": [
    "* 딕셔너리 요소의 삭제"
   ]
  },
  {
   "cell_type": "code",
   "execution_count": 54,
   "metadata": {
    "colab": {
     "base_uri": "https://localhost:8080/"
    },
    "executionInfo": {
     "elapsed": 841,
     "status": "ok",
     "timestamp": 1615629524462,
     "user": {
      "displayName": "이건석",
      "photoUrl": "",
      "userId": "01486501454335936373"
     },
     "user_tz": -540
    },
    "id": "z4BDPEts8GK1",
    "outputId": "8dcf79e1-8d07-4596-8af0-7426a6f17087"
   },
   "outputs": [
    {
     "name": "stdout",
     "output_type": "stream",
     "text": [
      "{'phone': '0119993323', 'birth': '1118'}\n"
     ]
    }
   ],
   "source": [
    "del dic['name']\n",
    "print(dic)"
   ]
  },
  {
   "cell_type": "markdown",
   "metadata": {
    "id": "QGlmZPSB8Ih5"
   },
   "source": [
    "* key / value 추출"
   ]
  },
  {
   "cell_type": "code",
   "execution_count": 55,
   "metadata": {
    "colab": {
     "base_uri": "https://localhost:8080/"
    },
    "executionInfo": {
     "elapsed": 836,
     "status": "ok",
     "timestamp": 1615629551258,
     "user": {
      "displayName": "이건석",
      "photoUrl": "",
      "userId": "01486501454335936373"
     },
     "user_tz": -540
    },
    "id": "qrhAImeM8Lum",
    "outputId": "b67f84cc-000c-45ff-d22d-1d6caa1e1e6e"
   },
   "outputs": [
    {
     "name": "stdout",
     "output_type": "stream",
     "text": [
      "dict_keys(['phone', 'birth'])\n",
      "dict_values(['0119993323', '1118'])\n",
      "dict_items([('phone', '0119993323'), ('birth', '1118')])\n"
     ]
    }
   ],
   "source": [
    "#keys\n",
    "print(dic.keys())\n",
    "#values\n",
    "print(dic.values())\n",
    "#key and values\n",
    "print(dic.items())"
   ]
  },
  {
   "cell_type": "markdown",
   "metadata": {
    "id": "GWN9ZEDc8Xrf"
   },
   "source": [
    "* key 존재여부 확인"
   ]
  },
  {
   "cell_type": "code",
   "execution_count": 56,
   "metadata": {
    "colab": {
     "base_uri": "https://localhost:8080/"
    },
    "executionInfo": {
     "elapsed": 845,
     "status": "ok",
     "timestamp": 1615629592255,
     "user": {
      "displayName": "이건석",
      "photoUrl": "",
      "userId": "01486501454335936373"
     },
     "user_tz": -540
    },
    "id": "LXbQySpU8YOi",
    "outputId": "d3665082-dd40-4ffa-8556-faf33de6b092"
   },
   "outputs": [
    {
     "name": "stdout",
     "output_type": "stream",
     "text": [
      "True\n",
      "False\n",
      "True\n",
      "False\n"
     ]
    }
   ],
   "source": [
    "print('phone'in dic)\n",
    "print('0119993323'in dic)\n",
    "\n",
    "print('birth'in dic)\n",
    "print('1118'in dic)"
   ]
  },
  {
   "cell_type": "markdown",
   "metadata": {
    "id": "hA9vyU3L8wBd"
   },
   "source": [
    "# 집합형 자료형\n",
    "* 중복을 허용하지 않는다.\n",
    "* 순서가 없다(Unordered).\n",
    "* 집합 생성"
   ]
  },
  {
   "cell_type": "code",
   "execution_count": 57,
   "metadata": {
    "colab": {
     "base_uri": "https://localhost:8080/"
    },
    "executionInfo": {
     "elapsed": 835,
     "status": "ok",
     "timestamp": 1615629620712,
     "user": {
      "displayName": "이건석",
      "photoUrl": "",
      "userId": "01486501454335936373"
     },
     "user_tz": -540
    },
    "id": "9wmXH3X_8-kG",
    "outputId": "6a8ca1ae-13f4-42bb-d2a5-f0412292bfe9"
   },
   "outputs": [
    {
     "name": "stdout",
     "output_type": "stream",
     "text": [
      "{1, 2, 3, 4, 5, 6}\n",
      "{4, 5, 6, 7, 8, 9}\n"
     ]
    }
   ],
   "source": [
    "s1 = set([1, 2, 3, 4, 5, 6])\n",
    "s2 = set([4, 5, 6, 7, 8, 9])\n",
    "print(s1)\n",
    "print(s2)"
   ]
  },
  {
   "cell_type": "markdown",
   "metadata": {
    "id": "9mMt5JGl9CNv"
   },
   "source": [
    "* 교집합/합집합/차집합 구하기"
   ]
  },
  {
   "cell_type": "code",
   "execution_count": 58,
   "metadata": {
    "colab": {
     "base_uri": "https://localhost:8080/"
    },
    "executionInfo": {
     "elapsed": 843,
     "status": "ok",
     "timestamp": 1615629654080,
     "user": {
      "displayName": "이건석",
      "photoUrl": "",
      "userId": "01486501454335936373"
     },
     "user_tz": -540
    },
    "id": "WM94f3MS9DdR",
    "outputId": "3c7f2389-d54b-4fcf-cce6-1c2773d0e122"
   },
   "outputs": [
    {
     "name": "stdout",
     "output_type": "stream",
     "text": [
      "{4, 5, 6}\n",
      "{4, 5, 6}\n",
      "{1, 2, 3, 4, 5, 6, 7, 8, 9}\n",
      "{1, 2, 3, 4, 5, 6, 7, 8, 9}\n",
      "{1, 2, 3}\n",
      "{1, 2, 3}\n",
      "{8, 9, 7}\n",
      "{8, 9, 7}\n"
     ]
    }
   ],
   "source": [
    "#교집합\n",
    "print(s1 & s2)\n",
    "print(s1.intersection(s2))\n",
    "\n",
    "#합집합\n",
    "print(s1 | s2)\n",
    "print(s1.union(s2))\n",
    "\n",
    "#차집합\n",
    "print(s1 - s2)\n",
    "print(s1.difference(s2))\n",
    "print(s2 - s1)\n",
    "print(s2.difference(s1))"
   ]
  },
  {
   "cell_type": "markdown",
   "metadata": {
    "id": "-QMBB2G19MR-"
   },
   "source": [
    "* 값 추가하기"
   ]
  },
  {
   "cell_type": "code",
   "execution_count": 59,
   "metadata": {
    "colab": {
     "base_uri": "https://localhost:8080/"
    },
    "executionInfo": {
     "elapsed": 855,
     "status": "ok",
     "timestamp": 1615629709876,
     "user": {
      "displayName": "이건석",
      "photoUrl": "",
      "userId": "01486501454335936373"
     },
     "user_tz": -540
    },
    "id": "VPhjZjsD9Opb",
    "outputId": "13cb91fe-2e6f-43c2-dcdf-20ad53753d24"
   },
   "outputs": [
    {
     "name": "stdout",
     "output_type": "stream",
     "text": [
      "{1, 2, 3, 4}\n",
      "{1, 2, 3, 4, 5, 6}\n"
     ]
    }
   ],
   "source": [
    "s1 = set([1, 2, 3])\n",
    "s1.add(4)\n",
    "print(s1)\n",
    "\n",
    "s1 = set([1, 2, 3])\n",
    "s1.update([4, 5, 6])\n",
    "print(s1)"
   ]
  },
  {
   "cell_type": "markdown",
   "metadata": {
    "id": "V3JQDMxQ9Qyo"
   },
   "source": [
    "* 값 제거하기"
   ]
  },
  {
   "cell_type": "code",
   "execution_count": 60,
   "metadata": {
    "colab": {
     "base_uri": "https://localhost:8080/"
    },
    "executionInfo": {
     "elapsed": 848,
     "status": "ok",
     "timestamp": 1615629737997,
     "user": {
      "displayName": "이건석",
      "photoUrl": "",
      "userId": "01486501454335936373"
     },
     "user_tz": -540
    },
    "id": "oASEhwoM9R-m",
    "outputId": "cdbeb88f-42ba-4b7d-cb0c-b495cc919014"
   },
   "outputs": [
    {
     "name": "stdout",
     "output_type": "stream",
     "text": [
      "{1, 3}\n"
     ]
    }
   ],
   "source": [
    "s1 = set([1, 2, 3])\n",
    "s1.remove(2)\n",
    "print(s1)"
   ]
  },
  {
   "cell_type": "markdown",
   "metadata": {
    "id": "USr-zgd59Ug2"
   },
   "source": [
    "# 불 자료형\n",
    "* 불(bool) 자료형이란 참(True)과 거짓(False)을 나타내는 자료형"
   ]
  },
  {
   "cell_type": "code",
   "execution_count": 61,
   "metadata": {
    "colab": {
     "base_uri": "https://localhost:8080/"
    },
    "executionInfo": {
     "elapsed": 871,
     "status": "ok",
     "timestamp": 1615629765413,
     "user": {
      "displayName": "이건석",
      "photoUrl": "",
      "userId": "01486501454335936373"
     },
     "user_tz": -540
    },
    "id": "8eXFEsQa9XfJ",
    "outputId": "8b5a2a3e-3a7a-4e15-e6f7-83fbc13ef3f7"
   },
   "outputs": [
    {
     "name": "stdout",
     "output_type": "stream",
     "text": [
      "True\n",
      "True\n",
      "False\n"
     ]
    }
   ],
   "source": [
    "print(1==1)\n",
    "print(2>1)\n",
    "print(2<1)"
   ]
  },
  {
   "cell_type": "code",
   "execution_count": null,
   "metadata": {
    "colab": {
     "base_uri": "https://localhost:8080/"
    },
    "executionInfo": {
     "elapsed": 622,
     "status": "ok",
     "timestamp": 1615125220962,
     "user": {
      "displayName": "이건석",
      "photoUrl": "",
      "userId": "01486501454335936373"
     },
     "user_tz": -540
    },
    "id": "MvOSI7mR9wUy",
    "outputId": "d955df21-3bfd-46e9-9dc4-77094fbdd9c2"
   },
   "outputs": [
    {
     "name": "stdout",
     "output_type": "stream",
     "text": [
      "True\n",
      "False\n"
     ]
    }
   ],
   "source": [
    "print(bool([1,2,3]))\n",
    "print(bool([]))"
   ]
  },
  {
   "cell_type": "markdown",
   "metadata": {
    "id": "fqg_hgDQ-Qby"
   },
   "source": [
    "# 변수와 메모리 할당"
   ]
  },
  {
   "cell_type": "code",
   "execution_count": 62,
   "metadata": {
    "colab": {
     "base_uri": "https://localhost:8080/"
    },
    "executionInfo": {
     "elapsed": 851,
     "status": "ok",
     "timestamp": 1615629797504,
     "user": {
      "displayName": "이건석",
      "photoUrl": "",
      "userId": "01486501454335936373"
     },
     "user_tz": -540
    },
    "id": "782s3B71-To5",
    "outputId": "8c06aa1e-79d7-4003-be2e-a2f79727923b"
   },
   "outputs": [
    {
     "name": "stdout",
     "output_type": "stream",
     "text": [
      "140338267718112\n",
      "140338267718112\n"
     ]
    }
   ],
   "source": [
    "a = [1,2,3]\n",
    "print(id(a))\n",
    "b = a\n",
    "print(id(b))"
   ]
  },
  {
   "cell_type": "code",
   "execution_count": 63,
   "metadata": {
    "colab": {
     "base_uri": "https://localhost:8080/"
    },
    "executionInfo": {
     "elapsed": 848,
     "status": "ok",
     "timestamp": 1615629829133,
     "user": {
      "displayName": "이건석",
      "photoUrl": "",
      "userId": "01486501454335936373"
     },
     "user_tz": -540
    },
    "id": "5GYSEUkh_bTR",
    "outputId": "86c71a3a-44ef-47b3-9bb6-8c65a5109b59"
   },
   "outputs": [
    {
     "name": "stdout",
     "output_type": "stream",
     "text": [
      "[1, 4, 3]\n",
      "[1, 4, 3]\n"
     ]
    }
   ],
   "source": [
    "a[1] =4\n",
    "print(a)\n",
    "print(b)"
   ]
  },
  {
   "cell_type": "markdown",
   "metadata": {
    "id": "vkj5e-gN_pIc"
   },
   "source": [
    "* [:], copy를 통해 b 변수를 생성할 때 a 변수의 값을 가져오면서 a와는 다른 주소를 가리키도록 한다."
   ]
  },
  {
   "cell_type": "code",
   "execution_count": 64,
   "metadata": {
    "colab": {
     "base_uri": "https://localhost:8080/"
    },
    "executionInfo": {
     "elapsed": 840,
     "status": "ok",
     "timestamp": 1615629860918,
     "user": {
      "displayName": "이건석",
      "photoUrl": "",
      "userId": "01486501454335936373"
     },
     "user_tz": -540
    },
    "id": "a-Vk3Aj2_zYs",
    "outputId": "67d34aab-930c-49ff-cb32-c8a1d6cb38da"
   },
   "outputs": [
    {
     "name": "stdout",
     "output_type": "stream",
     "text": [
      "140338277600704\n",
      "140338267887968\n",
      "[1, 4, 3]\n",
      "[1, 2, 3]\n"
     ]
    }
   ],
   "source": [
    "a = [1,2,3]\n",
    "b = a[:]\n",
    "print(id(a))\n",
    "print(id(b))\n",
    "\n",
    "a[1] =4\n",
    "print(a)\n",
    "print(b)"
   ]
  },
  {
   "cell_type": "code",
   "execution_count": 8,
   "metadata": {
    "colab": {
     "base_uri": "https://localhost:8080/"
    },
    "executionInfo": {
     "elapsed": 925,
     "status": "ok",
     "timestamp": 1615629883746,
     "user": {
      "displayName": "이건석",
      "photoUrl": "",
      "userId": "01486501454335936373"
     },
     "user_tz": -540
    },
    "id": "sJ5BMXlf_22S",
    "outputId": "5a176b05-d944-4d15-ca12-f4a6237eb8eb"
   },
   "outputs": [
    {
     "name": "stdout",
     "output_type": "stream",
     "text": [
      "2201427693120\n",
      "2201427662848\n",
      "[1, 2, 3]\n",
      "[1, 2, 3]\n"
     ]
    },
    {
     "data": {
      "text/plain": [
       "False"
      ]
     },
     "execution_count": 8,
     "metadata": {},
     "output_type": "execute_result"
    }
   ],
   "source": [
    "from copy import copy\n",
    "a = [1,2,3]\n",
    "b = copy(a)\n",
    "print(id(a))\n",
    "print(id(b))\n",
    "\n",
    "#a[1] =4\n",
    "print(a)\n",
    "print(b)\n",
    "b is a\n",
    "#is로 썼을 땐 False가 나오지만 == 로 하면 True가 나옴. is는 주소를, ==은 내용을 비교함을 알 수 있음."
   ]
  },
  {
   "cell_type": "code",
   "execution_count": null,
   "metadata": {},
   "outputs": [],
   "source": []
  }
 ],
 "metadata": {
  "colab": {
   "authorship_tag": "ABX9TyMk6ptUS7s6SVbTc39oGI4V",
   "collapsed_sections": [],
   "name": "1week_variable.ipynb",
   "provenance": []
  },
  "kernelspec": {
   "display_name": "Python 3 (ipykernel)",
   "language": "python",
   "name": "python3"
  },
  "language_info": {
   "codemirror_mode": {
    "name": "ipython",
    "version": 3
   },
   "file_extension": ".py",
   "mimetype": "text/x-python",
   "name": "python",
   "nbconvert_exporter": "python",
   "pygments_lexer": "ipython3",
   "version": "3.9.13"
  }
 },
 "nbformat": 4,
 "nbformat_minor": 4
}
