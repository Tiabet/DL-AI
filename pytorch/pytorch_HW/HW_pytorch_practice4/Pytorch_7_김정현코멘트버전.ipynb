{
 "cells": [
  {
   "cell_type": "markdown",
   "metadata": {
    "id": "7geu2G7FLD12"
   },
   "source": [
    "DNN: torch.nn 모듈 이용"
   ]
  },
  {
   "cell_type": "code",
   "execution_count": 1,
   "metadata": {
    "executionInfo": {
     "elapsed": 437,
     "status": "ok",
     "timestamp": 1681809597931,
     "user": {
      "displayName": "최승훈",
      "userId": "10545016366834953850"
     },
     "user_tz": -540
    },
    "id": "K7cFXblbVCUs"
   },
   "outputs": [],
   "source": [
    "import torch\n",
    "from torch import nn\n",
    "import numpy as np\n",
    "import matplotlib.pyplot as plt"
   ]
  },
  {
   "cell_type": "code",
   "execution_count": 6,
   "metadata": {
    "colab": {
     "base_uri": "https://localhost:8080/"
    },
    "executionInfo": {
     "elapsed": 27,
     "status": "ok",
     "timestamp": 1681804976741,
     "user": {
      "displayName": "최승훈",
      "userId": "10545016366834953850"
     },
     "user_tz": -540
    },
    "id": "XOuHp1qWJ5Hf",
    "outputId": "0df9f6e7-26af-4c27-fae3-2fc3f69eb697"
   },
   "outputs": [
    {
     "name": "stdout",
     "output_type": "stream",
     "text": [
      "linear_layer1.weight : Parameter containing:\n",
      "tensor([[ 0.3643, -0.3121],\n",
      "        [-0.1371,  0.3319],\n",
      "        [-0.6657,  0.4241]], requires_grad=True)\n",
      "linear_layer1.bias : Parameter containing:\n",
      "tensor([-0.1455,  0.3597,  0.0983], requires_grad=True)\n",
      "\n",
      "linear_layer2.weight : Parameter containing:\n",
      "tensor([[-0.0707,  0.1601,  0.0285]], requires_grad=True)\n",
      "linear_layer2.bias : Parameter containing:\n",
      "tensor([0.2109], requires_grad=True)\n",
      "\n",
      "tensor([[0.3608],\n",
      "        [0.4152],\n",
      "        [0.4776]], grad_fn=<AddmmBackward0>)\n"
     ]
    }
   ],
   "source": [
    "#시드 고정\n",
    "#시드를 고정하면 weight, bias 들이 항상 같게 시작됨\n",
    "torch.manual_seed(1)\n",
    "\n",
    "#Linear를 통한 DNN 구성 (layer, 활성화함수, layer)\n",
    "linear_layer1 = nn.Linear(2,3)\n",
    "relu = nn.ReLU()\n",
    "linear_layer2 = nn.Linear(3,1)\n",
    "\n",
    "x = torch.tensor([[1.,2.],[3.,4.],[5.,6.]])\n",
    "#weight, bias 확인\n",
    "print('linear_layer1.weight :', linear_layer1.weight)\n",
    "print('linear_layer1.bias :', linear_layer1.bias)\n",
    "print()\n",
    "print('linear_layer2.weight :', linear_layer2.weight)\n",
    "print('linear_layer2.bias :', linear_layer2.bias)\n",
    "\n",
    "#DNN을 통과하여 예측치 확인\n",
    "out = linear_layer1(x)\n",
    "out = relu(out)\n",
    "y_pred = linear_layer2(out)\n",
    "print()\n",
    "print(y_pred)"
   ]
  },
  {
   "cell_type": "markdown",
   "metadata": {
    "id": "zvvDF4BJMp9V"
   },
   "source": [
    "nn.Sequential 함수 사용"
   ]
  },
  {
   "cell_type": "code",
   "execution_count": 7,
   "metadata": {
    "colab": {
     "base_uri": "https://localhost:8080/"
    },
    "executionInfo": {
     "elapsed": 21,
     "status": "ok",
     "timestamp": 1681804976742,
     "user": {
      "displayName": "최승훈",
      "userId": "10545016366834953850"
     },
     "user_tz": -540
    },
    "id": "X1L4ua7WMTBP",
    "outputId": "58af33bb-d55b-4357-9d83-9b10d11237e7"
   },
   "outputs": [
    {
     "name": "stdout",
     "output_type": "stream",
     "text": [
      "Sequential(\n",
      "  (0): Linear(in_features=2, out_features=3, bias=True)\n",
      "  (1): ReLU()\n",
      "  (2): Linear(in_features=3, out_features=1, bias=True)\n",
      ")\n",
      "linear_layer1.weight : Parameter containing:\n",
      "tensor([[ 0.3643, -0.3121],\n",
      "        [-0.1371,  0.3319],\n",
      "        [-0.6657,  0.4241]], requires_grad=True)\n",
      "linear_layer1.bias : Parameter containing:\n",
      "tensor([-0.1455,  0.3597,  0.0983], requires_grad=True)\n",
      "\n",
      "linear_layer2.weight : Parameter containing:\n",
      "tensor([[-0.0707,  0.1601,  0.0285]], requires_grad=True)\n",
      "linear_layer2.bias : Parameter containing:\n",
      "tensor([0.2109], requires_grad=True)\n",
      "\n",
      "tensor([[0.3608],\n",
      "        [0.4152],\n",
      "        [0.4776]], grad_fn=<AddmmBackward0>)\n"
     ]
    }
   ],
   "source": [
    "#Sequential로 동일한 작업 실행\n",
    "torch.manual_seed(1)\n",
    "\n",
    "model = nn.Sequential(\n",
    "    nn.Linear(2,3),\n",
    "    nn.ReLU(),\n",
    "    nn.Linear(3,1)\n",
    ")\n",
    "\n",
    "print(model)\n",
    "\n",
    "x = torch.tensor([[1.,2.],[3.,4.],[5.,6.]])\n",
    "print('linear_layer1.weight :', model[0].weight)\n",
    "print('linear_layer1.bias :', model[0].bias)\n",
    "print()\n",
    "print('linear_layer2.weight :', model[2].weight)\n",
    "print('linear_layer2.bias :', model[2].bias)\n",
    "print()\n",
    "y_pred = model(x)\n",
    "print(y_pred)"
   ]
  },
  {
   "cell_type": "markdown",
   "metadata": {
    "id": "gNxZdg0iPZyl"
   },
   "source": [
    "nn.Module 상속한 클래스 이용"
   ]
  },
  {
   "cell_type": "code",
   "execution_count": 8,
   "metadata": {
    "colab": {
     "base_uri": "https://localhost:8080/"
    },
    "executionInfo": {
     "elapsed": 17,
     "status": "ok",
     "timestamp": 1681804976743,
     "user": {
      "displayName": "최승훈",
      "userId": "10545016366834953850"
     },
     "user_tz": -540
    },
    "id": "2QhPP_-hNAFV",
    "outputId": "d08f610b-5c43-4263-a470-e66eebc06461"
   },
   "outputs": [
    {
     "name": "stdout",
     "output_type": "stream",
     "text": [
      "MyModel(\n",
      "  (fc1): Linear(in_features=2, out_features=3, bias=True)\n",
      "  (relu): ReLU()\n",
      "  (fc2): Linear(in_features=3, out_features=1, bias=True)\n",
      ")\n",
      "linear_layer1.weight : Parameter containing:\n",
      "tensor([[ 0.3643, -0.3121],\n",
      "        [-0.1371,  0.3319],\n",
      "        [-0.6657,  0.4241]], requires_grad=True)\n",
      "linear_layer1.bias : Parameter containing:\n",
      "tensor([-0.1455,  0.3597,  0.0983], requires_grad=True)\n",
      "\n",
      "linear_layer2.weight : Parameter containing:\n",
      "tensor([[-0.0707,  0.1601,  0.0285]], requires_grad=True)\n",
      "linear_layer2.bias : Parameter containing:\n",
      "tensor([0.2109], requires_grad=True)\n",
      "\n",
      "tensor([[0.3608],\n",
      "        [0.4152],\n",
      "        [0.4776]], grad_fn=<AddmmBackward0>)\n"
     ]
    }
   ],
   "source": [
    "torch.manual_seed(1)\n",
    "\n",
    "#클래스화 진행하여 동일한 작업 실행\n",
    "class MyModel(nn.Module):\n",
    "\n",
    "  def __init__(self):\n",
    "    super(MyModel, self).__init__()\n",
    "    self.fc1 = nn.Linear(2,3)\n",
    "    self.relu = nn.ReLU()\n",
    "    self.fc2 = nn.Linear(3,1)\n",
    "  \n",
    "  def forward(self, x):\n",
    "    out = self.fc1(x)\n",
    "    out = self.relu(out)\n",
    "    out = self.fc2(out)\n",
    "    return out\n",
    "  \n",
    "x = torch.tensor([[1.,2.],[3.,4.],[5.,6.]])\n",
    "model = MyModel()\n",
    "print(model)\n",
    "print('linear_layer1.weight :',model.fc1.weight)\n",
    "print('linear_layer1.bias :', model.fc1.bias)\n",
    "print()\n",
    "print('linear_layer2.weight :', model.fc2.weight)\n",
    "print('linear_layer2.bias :', model.fc2.bias)\n",
    "print()\n",
    "y_pred = model(x)\n",
    "print(y_pred)"
   ]
  },
  {
   "cell_type": "code",
   "execution_count": 10,
   "metadata": {
    "colab": {
     "base_uri": "https://localhost:8080/"
    },
    "executionInfo": {
     "elapsed": 548,
     "status": "ok",
     "timestamp": 1681804977279,
     "user": {
      "displayName": "최승훈",
      "userId": "10545016366834953850"
     },
     "user_tz": -540
    },
    "id": "4EcqIcuxQKZn",
    "outputId": "f330ffe5-9093-49a1-99ae-0854c2325bb8"
   },
   "outputs": [
    {
     "name": "stdout",
     "output_type": "stream",
     "text": [
      "학습을 진행하는 기기:  cpu\n",
      "<class 'pandas.core.frame.DataFrame'>\n",
      "RangeIndex: 506 entries, 0 to 505\n",
      "Data columns (total 14 columns):\n",
      " #   Column   Non-Null Count  Dtype  \n",
      "---  ------   --------------  -----  \n",
      " 0   crim     506 non-null    float64\n",
      " 1   zn       506 non-null    float64\n",
      " 2   indus    506 non-null    float64\n",
      " 3   chas     506 non-null    int64  \n",
      " 4   nox      506 non-null    float64\n",
      " 5   rm       506 non-null    float64\n",
      " 6   age      506 non-null    float64\n",
      " 7   dis      506 non-null    float64\n",
      " 8   rad      506 non-null    int64  \n",
      " 9   tax      506 non-null    int64  \n",
      " 10  ptratio  506 non-null    float64\n",
      " 11  b        506 non-null    float64\n",
      " 12  lstat    506 non-null    float64\n",
      " 13  medv     506 non-null    float64\n",
      "dtypes: float64(11), int64(3)\n",
      "memory usage: 55.5 KB\n",
      "None\n"
     ]
    }
   ],
   "source": [
    "#gpu 사용가능하면 설정\n",
    "device = torch.device(\"cuda\" if torch.cuda.is_available() else \"cpu\")\n",
    "print(\"학습을 진행하는 기기: \", device)\n",
    "\n",
    "#데이터 확인\n",
    "import pandas as pd\n",
    "boston = pd.read_csv('Boston_Housing.csv')\n",
    "print(boston.info())"
   ]
  },
  {
   "cell_type": "code",
   "execution_count": 11,
   "metadata": {
    "colab": {
     "base_uri": "https://localhost:8080/"
    },
    "executionInfo": {
     "elapsed": 12,
     "status": "ok",
     "timestamp": 1681804977279,
     "user": {
      "displayName": "최승훈",
      "userId": "10545016366834953850"
     },
     "user_tz": -540
    },
    "id": "4P_fMfZ3T1Kq",
    "outputId": "56156d85-7ba0-44a9-80bc-822f3f72df9b"
   },
   "outputs": [
    {
     "name": "stdout",
     "output_type": "stream",
     "text": [
      "      crim    zn  indus  chas    nox     rm   age     dis  rad  tax  ptratio  \\\n",
      "0  0.00632  18.0   2.31     0  0.538  6.575  65.2  4.0900    1  296     15.3   \n",
      "1  0.02731   0.0   7.07     0  0.469  6.421  78.9  4.9671    2  242     17.8   \n",
      "2  0.02729   0.0   7.07     0  0.469  7.185  61.1  4.9671    2  242     17.8   \n",
      "3  0.03237   0.0   2.18     0  0.458  6.998  45.8  6.0622    3  222     18.7   \n",
      "4  0.06905   0.0   2.18     0  0.458  7.147  54.2  6.0622    3  222     18.7   \n",
      "\n",
      "        b  lstat  medv  \n",
      "0  396.90   4.98  24.0  \n",
      "1  396.90   9.14  21.6  \n",
      "2  392.83   4.03  34.7  \n",
      "3  394.63   2.94  33.4  \n",
      "4  396.90   5.33  36.2  \n"
     ]
    }
   ],
   "source": [
    "print(boston.head())"
   ]
  },
  {
   "cell_type": "code",
   "execution_count": 12,
   "metadata": {
    "colab": {
     "base_uri": "https://localhost:8080/"
    },
    "executionInfo": {
     "elapsed": 10,
     "status": "ok",
     "timestamp": 1681804977280,
     "user": {
      "displayName": "최승훈",
      "userId": "10545016366834953850"
     },
     "user_tz": -540
    },
    "id": "-XncycepT7Pk",
    "outputId": "59ab1863-89af-4604-dc71-e70bc2de1013"
   },
   "outputs": [
    {
     "data": {
      "text/plain": [
       "crim       0\n",
       "zn         0\n",
       "indus      0\n",
       "chas       0\n",
       "nox        0\n",
       "rm         0\n",
       "age        0\n",
       "dis        0\n",
       "rad        0\n",
       "tax        0\n",
       "ptratio    0\n",
       "b          0\n",
       "lstat      0\n",
       "medv       0\n",
       "dtype: int64"
      ]
     },
     "execution_count": 12,
     "metadata": {},
     "output_type": "execute_result"
    }
   ],
   "source": [
    "boston.isnull().sum()"
   ]
  },
  {
   "cell_type": "code",
   "execution_count": 13,
   "metadata": {
    "colab": {
     "base_uri": "https://localhost:8080/"
    },
    "executionInfo": {
     "elapsed": 8,
     "status": "ok",
     "timestamp": 1681804977281,
     "user": {
      "displayName": "최승훈",
      "userId": "10545016366834953850"
     },
     "user_tz": -540
    },
    "id": "PtWElLIWUAE1",
    "outputId": "44de8305-6d2b-4608-ae7c-844553dcda24"
   },
   "outputs": [
    {
     "name": "stdout",
     "output_type": "stream",
     "text": [
      "<class 'numpy.ndarray'>\n",
      "<class 'numpy.ndarray'>\n",
      "(506, 13)\n",
      "(506, 1)\n"
     ]
    }
   ],
   "source": [
    "# Convert from Pandas dataframe to numpy arrays\n",
    "# values 함수 사용하여 numpy 배열로 전환\n",
    "X = boston.drop(labels =['medv'], axis = 1).values\n",
    "y = boston[['medv']].values\n",
    "print(type(X))\n",
    "print(type(y))\n",
    "print(X.shape)\n",
    "print(y.shape)"
   ]
  },
  {
   "cell_type": "code",
   "execution_count": 15,
   "metadata": {
    "id": "CtZFz5VMUeDU"
   },
   "outputs": [],
   "source": [
    "#StandardScaler 사용하여 정규화 진행\n",
    "from sklearn.preprocessing import StandardScaler\n",
    "scaler = StandardScaler()\n",
    "scaler.fit(X)\n",
    "X_scaled = scaler.transform(X)"
   ]
  },
  {
   "cell_type": "code",
   "execution_count": 16,
   "metadata": {
    "colab": {
     "base_uri": "https://localhost:8080/"
    },
    "executionInfo": {
     "elapsed": 15,
     "status": "ok",
     "timestamp": 1681804977661,
     "user": {
      "displayName": "최승훈",
      "userId": "10545016366834953850"
     },
     "user_tz": -540
    },
    "id": "SfKrvBmbVn-k",
    "outputId": "9aba4aa1-0b8b-4fd1-afd4-e883c3d99be5"
   },
   "outputs": [
    {
     "name": "stdout",
     "output_type": "stream",
     "text": [
      "(354, 13) (354, 1) (152, 13) (152, 1)\n"
     ]
    }
   ],
   "source": [
    "from sklearn.model_selection import train_test_split\n",
    "#X,y train-test 셋으로 분리\n",
    "\n",
    "X_train, X_test, y_train, y_test = train_test_split(X_scaled, y, test_size = 0.3, random_state = 1)\n",
    "print(X_train.shape, y_train.shape, X_test.shape, y_test.shape)"
   ]
  },
  {
   "cell_type": "code",
   "execution_count": 18,
   "metadata": {
    "id": "EUe6SQtMWBbU"
   },
   "outputs": [],
   "source": [
    "#데이터 텐서화\n",
    "#신경망이 학습할 수 있도록 텐서화\n",
    "import torch\n",
    "import torch.nn as nn\n",
    "import torch.nn.functional as F\n",
    "from torch import nn, optim"
   ]
  },
  {
   "cell_type": "code",
   "execution_count": 19,
   "metadata": {
    "colab": {
     "base_uri": "https://localhost:8080/"
    },
    "executionInfo": {
     "elapsed": 14,
     "status": "ok",
     "timestamp": 1681804977662,
     "user": {
      "displayName": "최승훈",
      "userId": "10545016366834953850"
     },
     "user_tz": -540
    },
    "id": "4kC8-SFoWbpv",
    "outputId": "22453c8c-b91a-4f90-9cc5-dc6c5224ecb8"
   },
   "outputs": [
    {
     "name": "stdout",
     "output_type": "stream",
     "text": [
      "torch.Size([354, 13]) torch.Size([354, 1]) torch.Size([152, 13]) torch.Size([152, 1])\n"
     ]
    }
   ],
   "source": [
    "n_train = X_train.shape[0]\n",
    "X_train = torch.tensor(X_train, device = device, dtype = torch.float)\n",
    "X_test = torch.tensor(X_test, device = device, dtype = torch.float)\n",
    "y_train = torch.tensor(y_train, device = device, dtype = torch.float)\n",
    "y_test = torch.tensor(y_test, device = device, dtype = torch.float)\n",
    "print(X_train.shape, y_train.shape, X_test.shape, y_test.shape)"
   ]
  },
  {
   "cell_type": "code",
   "execution_count": 20,
   "metadata": {
    "id": "PcXtMvx8W5Rp"
   },
   "outputs": [],
   "source": [
    "#데이터셋 클래스\n",
    "#데이터셋엔 init, len, getitem 함수가 꼭 선언되어야함\n",
    "class BostonDataset(torch.utils.data.Dataset):\n",
    "  '''\n",
    "  Prepare the Boston dataset for regression\n",
    "  '''\n",
    "\n",
    "  def __init__(self, X, y):\n",
    "    self.X = X\n",
    "    self.y = y\n",
    "  \n",
    "  def __len__(self):\n",
    "    return len(self.X)\n",
    "\n",
    "  def __getitem__(self, index):\n",
    "    x = self.X[index]\n",
    "    y = self.y[index]\n",
    "    return x, y"
   ]
  },
  {
   "cell_type": "code",
   "execution_count": 23,
   "metadata": {
    "colab": {
     "base_uri": "https://localhost:8080/"
    },
    "executionInfo": {
     "elapsed": 10,
     "status": "ok",
     "timestamp": 1681804977662,
     "user": {
      "displayName": "최승훈",
      "userId": "10545016366834953850"
     },
     "user_tz": -540
    },
    "id": "WuxQiFoCXY2E",
    "outputId": "6c412417-0316-4b05-c19f-36d5abc40fc7"
   },
   "outputs": [
    {
     "name": "stdout",
     "output_type": "stream",
     "text": [
      "354\n",
      "(tensor([-0.3472, -0.4877, -0.4373, -0.2726, -0.1442, -0.4782, -0.2409,  0.4338,\n",
      "        -0.6380, -0.6013,  1.1765,  0.4411, -0.6158]), tensor([20.4000]))\n"
     ]
    }
   ],
   "source": [
    "dataset = BostonDataset(X_train, y_train)\n",
    "print(len(dataset))\n",
    "print(dataset[0])"
   ]
  },
  {
   "cell_type": "code",
   "execution_count": 25,
   "metadata": {
    "id": "k1a6qYdzXrxE"
   },
   "outputs": [],
   "source": [
    "#시드 고정\n",
    "torch.manual_seed(0)\n",
    "#학습을 위한 dataloader 생성\n",
    "trainloader = torch.utils.data.DataLoader(dataset, batch_size = 16, shuffle=True)"
   ]
  },
  {
   "cell_type": "code",
   "execution_count": 29,
   "metadata": {
    "id": "yeYW4UQPYJy0"
   },
   "outputs": [],
   "source": [
    "#모델 생성, 총 4층의 히든 레이어 사용\n",
    "class BostonModel(nn.Module):\n",
    "    def __init__(self):\n",
    "        super(BostonModel,self).__init__() # 모델 연산 정의\n",
    "        self.fc1 = nn.Linear(X_train.shape[1],32)\n",
    "        self.fc2 = nn.Linear(32, 16)\n",
    "        self.fc3 = nn.Linear(16, 8)\n",
    "        self.fc4 = nn.Linear(8,1)\n",
    "    def forward(self,x):\n",
    "        # Linear 계산 후 활성화 함수 ReLU를 적용한다.\n",
    "        x = F.relu(self.fc1(x))\n",
    "        x = F.relu(self.fc2(x))\n",
    "        x = F.relu(self.fc3(x))\n",
    "        x = self.fc4(x)\n",
    "        return x\n",
    "\n",
    "model = BostonModel().to(device)"
   ]
  },
  {
   "cell_type": "code",
   "execution_count": 30,
   "metadata": {
    "id": "Ix7WaVTQZXel"
   },
   "outputs": [],
   "source": [
    "# Define the Loss function and optimizer\n",
    "learning_rate = 0.0001\n",
    "loss_function = nn.MSELoss()\n",
    "optimizer = torch.optim.Adam(model.parameters(), lr = learning_rate)"
   ]
  },
  {
   "cell_type": "code",
   "execution_count": 31,
   "metadata": {
    "colab": {
     "base_uri": "https://localhost:8080/"
    },
    "executionInfo": {
     "elapsed": 35129,
     "status": "ok",
     "timestamp": 1681809393720,
     "user": {
      "displayName": "최승훈",
      "userId": "10545016366834953850"
     },
     "user_tz": -540
    },
    "id": "uIIDkllOZ_nk",
    "outputId": "09043a6e-731e-44b1-8224-14e115d1299a"
   },
   "outputs": [
    {
     "name": "stdout",
     "output_type": "stream",
     "text": [
      "Epoch 1/1000 loss : 13369.784\n",
      "Epoch 100/1000 loss : 837.592\n",
      "Epoch 200/1000 loss : 485.346\n",
      "Epoch 300/1000 loss : 375.939\n",
      "Epoch 400/1000 loss : 301.780\n",
      "Epoch 500/1000 loss : 257.357\n",
      "Epoch 600/1000 loss : 235.135\n",
      "Epoch 700/1000 loss : 221.791\n",
      "Epoch 800/1000 loss : 210.948\n",
      "Epoch 900/1000 loss : 196.488\n",
      "Epoch 1000/1000 loss : 241.035\n"
     ]
    }
   ],
   "source": [
    "num_epochs = 1000\n",
    "epoch_losses = []\n",
    "for epoch in range(num_epochs):\n",
    "  running_loss = 0.0\n",
    "  for inputs, labels in trainloader:\n",
    "    #forward pass\n",
    "    outputs = model(inputs)\n",
    "    #loss\n",
    "    loss = loss_function(outputs, labels)\n",
    "    #backward pass\n",
    "    #computing gradients\n",
    "    loss.backward()\n",
    "    #파라미터 업데이트\n",
    "    #updated weights based on computed gradients\n",
    "    optimizer.step()\n",
    "    #다음 iters의 loss.backward()에서 gradient를 새로 계산하므로 grad 0으로 초기화\n",
    "    optimizer.zero_grad()\n",
    "\n",
    "    #accumulating running loss\n",
    "    running_loss += loss.item()\n",
    "\n",
    "  epoch_losses.append(running_loss)\n",
    "  if (epoch ==0):\n",
    "    print('Epoch %d/%d loss : %.3f' % (epoch + 1, num_epochs, running_loss))\n",
    "  if (epoch+1) % 100 ==0:\n",
    "     print('Epoch %d/%d loss : %.3f' % (epoch + 1, num_epochs, running_loss))"
   ]
  },
  {
   "cell_type": "code",
   "execution_count": 33,
   "metadata": {
    "colab": {
     "base_uri": "https://localhost:8080/",
     "height": 449
    },
    "executionInfo": {
     "elapsed": 893,
     "status": "ok",
     "timestamp": 1681809641877,
     "user": {
      "displayName": "최승훈",
      "userId": "10545016366834953850"
     },
     "user_tz": -540
    },
    "id": "f6oS_lagpc_k",
    "outputId": "c4b38ff6-6d06-4be6-ab92-2cc68c75052b"
   },
   "outputs": [
    {
     "data": {
      "image/png": "[encoded data removed]",
      "text/plain": [
       "<Figure size 640x480 with 1 Axes>"
      ]
     },
     "metadata": {},
     "output_type": "display_data"
    }
   ],
   "source": [
    "plt.plot(range(num_epochs), epoch_losses)\n",
    "plt.xlabel('Epochs')\n",
    "plt.ylabel('Loss')\n",
    "plt.show()"
   ]
  },
  {
   "cell_type": "code",
   "execution_count": 34,
   "metadata": {
    "colab": {
     "base_uri": "https://localhost:8080/"
    },
    "executionInfo": {
     "elapsed": 7,
     "status": "ok",
     "timestamp": 1681810190395,
     "user": {
      "displayName": "최승훈",
      "userId": "10545016366834953850"
     },
     "user_tz": -540
    },
    "id": "_1Gm6CYHqnf0",
    "outputId": "ff3646f6-a374-4c6c-bd12-a0a9f07067c8"
   },
   "outputs": [
    {
     "name": "stdout",
     "output_type": "stream",
     "text": [
      "y_test_pred.requires_grad=  True\n",
      "y_test.requires_grad=  False\n",
      "MSE: 8.2388\n",
      "R2: 0.9016\n"
     ]
    }
   ],
   "source": [
    "#모델 성능평가\n",
    "\n",
    "from sklearn.metrics import mean_squared_error, r2_score\n",
    "\n",
    "#예측치\n",
    "y_test_pred = model(X_test)\n",
    "#예측치는 grad가 존재하지만 실제값은 없음\n",
    "print('y_test_pred.requires_grad= ', y_test_pred.requires_grad)\n",
    "print('y_test.requires_grad= ', y_test.requires_grad)\n",
    "mse = mean_squared_error(y_test_pred.detach().cpu().numpy(), y_test.detach().cpu().numpy())\n",
    "print('MSE: {:.4f}'.format(mse))\n",
    "R2 = r2_score(y_test_pred.detach().cpu().numpy(), y_test.detach().cpu().numpy())\n",
    "print( 'R2: {:.4f}'.format(R2))"
   ]
  },
  {
   "cell_type": "code",
   "execution_count": 35,
   "metadata": {
    "colab": {
     "base_uri": "https://localhost:8080/",
     "height": 470
    },
    "executionInfo": {
     "elapsed": 1106,
     "status": "ok",
     "timestamp": 1681810467749,
     "user": {
      "displayName": "최승훈",
      "userId": "10545016366834953850"
     },
     "user_tz": -540
    },
    "id": "dUI6W5bxspsR",
    "outputId": "345efa71-0171-4e05-d167-453b52ce8eb3"
   },
   "outputs": [
    {
     "data": {
      "image/png": "[encoded data removed]",
      "text/plain": [
       "<Figure size 500x500 with 1 Axes>"
      ]
     },
     "metadata": {},
     "output_type": "display_data"
    }
   ],
   "source": [
    "#train 데이터와 test 데이터에 대한 예측치 시각화\n",
    "y_train_pred = model(X_train)\n",
    "y_test_pred = model(X_test)\n",
    "y_train_pred = y_train_pred.detach().numpy()\n",
    "y_test_pred = y_test_pred.detach().numpy()\n",
    "\n",
    "plt.figure(figsize=(5,5), dpi=100)\n",
    "plt.xlabel(\"medv\")\n",
    "plt.ylabel(\"predicted medv\")\n",
    "plt.xlim(0, 60)\n",
    "plt.ylim(0, 60)\n",
    "\n",
    "plt.scatter(y_train, y_train_pred, lw=1, color = 'r', label = 'train data')\n",
    "plt.scatter(y_test, y_test_pred, lw=1, color = 'b', label = 'test data')\n",
    "plt.plot([0,60],[0,60],color = 'green', lw=2, linestyle='solid')\n",
    "plt.legend()\n",
    "plt.show()"
   ]
  },
  {
   "cell_type": "markdown",
   "metadata": {
    "id": "t3AT4Q8uuFvu"
   },
   "source": [
    "예제 4.2 당뇨병 발병 유무 분류"
   ]
  },
  {
   "cell_type": "code",
   "execution_count": 37,
   "metadata": {
    "colab": {
     "base_uri": "https://localhost:8080/"
    },
    "executionInfo": {
     "elapsed": 307,
     "status": "ok",
     "timestamp": 1681810729731,
     "user": {
      "displayName": "최승훈",
      "userId": "10545016366834953850"
     },
     "user_tz": -540
    },
    "id": "O43hvwA9uJhn",
    "outputId": "3245d3f0-1608-4ea0-8112-99fdd6c53a6c"
   },
   "outputs": [
    {
     "name": "stdout",
     "output_type": "stream",
     "text": [
      "학습을 진행하는 기기:  cpu\n",
      "<class 'pandas.core.frame.DataFrame'>\n",
      "RangeIndex: 768 entries, 0 to 767\n",
      "Data columns (total 9 columns):\n",
      " #   Column                    Non-Null Count  Dtype  \n",
      "---  ------                    --------------  -----  \n",
      " 0   Pregnancies               768 non-null    int64  \n",
      " 1   Glucose                   768 non-null    int64  \n",
      " 2   BloodPressure             768 non-null    int64  \n",
      " 3   SkinThickness             768 non-null    int64  \n",
      " 4   Insulin                   768 non-null    int64  \n",
      " 5   BMI                       768 non-null    float64\n",
      " 6   DiabetesPedigreeFunction  768 non-null    float64\n",
      " 7   Age                       768 non-null    int64  \n",
      " 8   Outcome                   768 non-null    int64  \n",
      "dtypes: float64(2), int64(7)\n",
      "memory usage: 54.1 KB\n",
      "None\n",
      "   Pregnancies  Glucose  BloodPressure  SkinThickness  Insulin   BMI  \\\n",
      "0            6      148             72             35        0  33.6   \n",
      "1            1       85             66             29        0  26.6   \n",
      "2            8      183             64              0        0  23.3   \n",
      "3            1       89             66             23       94  28.1   \n",
      "4            0      137             40             35      168  43.1   \n",
      "\n",
      "   DiabetesPedigreeFunction  Age  Outcome  \n",
      "0                     0.627   50        1  \n",
      "1                     0.351   31        0  \n",
      "2                     0.672   32        1  \n",
      "3                     0.167   21        0  \n",
      "4                     2.288   33        1  \n"
     ]
    }
   ],
   "source": [
    "#gpu 사용 가능하면 설정\n",
    "device = torch.device('cuda' if torch.cuda.is_available() else 'cpu')\n",
    "print('학습을 진행하는 기기: ', device)\n",
    "\n",
    "#데이터 확인\n",
    "diabetes = pd.read_csv('pima-indians-diabetes.csv')\n",
    "print(diabetes.info())\n",
    "print(diabetes.head())"
   ]
  },
  {
   "cell_type": "code",
   "execution_count": 38,
   "metadata": {
    "colab": {
     "base_uri": "https://localhost:8080/"
    },
    "executionInfo": {
     "elapsed": 4,
     "status": "ok",
     "timestamp": 1681810758330,
     "user": {
      "displayName": "최승훈",
      "userId": "10545016366834953850"
     },
     "user_tz": -540
    },
    "id": "aVuy2V3Tu3GS",
    "outputId": "9068921c-ad7a-4ff6-e953-d76c29f710af"
   },
   "outputs": [
    {
     "data": {
      "text/plain": [
       "Pregnancies                 0\n",
       "Glucose                     0\n",
       "BloodPressure               0\n",
       "SkinThickness               0\n",
       "Insulin                     0\n",
       "BMI                         0\n",
       "DiabetesPedigreeFunction    0\n",
       "Age                         0\n",
       "Outcome                     0\n",
       "dtype: int64"
      ]
     },
     "execution_count": 38,
     "metadata": {},
     "output_type": "execute_result"
    }
   ],
   "source": [
    "diabetes.isnull().sum()"
   ]
  },
  {
   "cell_type": "code",
   "execution_count": 41,
   "metadata": {
    "colab": {
     "base_uri": "https://localhost:8080/"
    },
    "executionInfo": {
     "elapsed": 6,
     "status": "ok",
     "timestamp": 1681810823343,
     "user": {
      "displayName": "최승훈",
      "userId": "10545016366834953850"
     },
     "user_tz": -540
    },
    "id": "vIGQavPnu5fq",
    "outputId": "fab0de65-bf37-451f-c611-168179e94cb3"
   },
   "outputs": [
    {
     "name": "stdout",
     "output_type": "stream",
     "text": [
      "<class 'numpy.ndarray'>\n",
      "<class 'numpy.ndarray'>\n",
      "(768, 8) (768, 1)\n"
     ]
    }
   ],
   "source": [
    "# Convert from Pandas dataframe to numpy arrays\n",
    "# values 사용하면 자동으로 ndarray로 변환 가능\n",
    "X = diabetes.drop(labels = ['Outcome'], axis = 1).values\n",
    "y = diabetes[['Outcome']].values\n",
    "\n",
    "print(type(X))\n",
    "print(type(y))\n",
    "print(X.shape, y.shape)"
   ]
  },
  {
   "cell_type": "code",
   "execution_count": 42,
   "metadata": {
    "colab": {
     "base_uri": "https://localhost:8080/"
    },
    "executionInfo": {
     "elapsed": 265,
     "status": "ok",
     "timestamp": 1681810886734,
     "user": {
      "displayName": "최승훈",
      "userId": "10545016366834953850"
     },
     "user_tz": -540
    },
    "id": "NMmmFlG5vJ9l",
    "outputId": "2006a048-7ce5-4313-d328-97a2d3ffe2c9"
   },
   "outputs": [
    {
     "name": "stdout",
     "output_type": "stream",
     "text": [
      "(614, 8) (154, 8) (614, 1) (154, 1)\n"
     ]
    }
   ],
   "source": [
    "#train, test 분리\n",
    "X_train, X_test, y_train, y_test = train_test_split(X, y, test_size = 0.2, random_state = 0)\n",
    "print(X_train.shape, X_test.shape, y_train.shape, y_test.shape)"
   ]
  },
  {
   "cell_type": "code",
   "execution_count": 43,
   "metadata": {
    "colab": {
     "base_uri": "https://localhost:8080/"
    },
    "executionInfo": {
     "elapsed": 319,
     "status": "ok",
     "timestamp": 1681810968447,
     "user": {
      "displayName": "최승훈",
      "userId": "10545016366834953850"
     },
     "user_tz": -540
    },
    "id": "gvmiGhAqvVOM",
    "outputId": "6e68d0db-a213-4074-8d82-23c8708a50ad"
   },
   "outputs": [
    {
     "name": "stdout",
     "output_type": "stream",
     "text": [
      "torch.Size([614, 8]) torch.Size([154, 8]) torch.Size([614, 1]) torch.Size([154, 1])\n"
     ]
    }
   ],
   "source": [
    "#Creating Tensors\n",
    "X_train = torch.FloatTensor(X_train).to(device)\n",
    "X_test = torch.FloatTensor(X_test).to(device)\n",
    "y_train = torch.LongTensor(y_train).to(device)\n",
    "y_test = torch.LongTensor(y_test).to(device)\n",
    "\n",
    "print(X_train.shape, X_test.shape, y_train.shape, y_test.shape)"
   ]
  },
  {
   "cell_type": "code",
   "execution_count": 44,
   "metadata": {
    "executionInfo": {
     "elapsed": 2,
     "status": "ok",
     "timestamp": 1681810993393,
     "user": {
      "displayName": "최승훈",
      "userId": "10545016366834953850"
     },
     "user_tz": -540
    },
    "id": "zkGvuYLrvsuo"
   },
   "outputs": [],
   "source": [
    "#데이터셋은 torch의 TensorDataset 활용\n",
    "dataset = torch.utils.data.TensorDataset(X_train,y_train)"
   ]
  },
  {
   "cell_type": "code",
   "execution_count": 45,
   "metadata": {
    "executionInfo": {
     "elapsed": 2,
     "status": "ok",
     "timestamp": 1681811024162,
     "user": {
      "displayName": "최승훈",
      "userId": "10545016366834953850"
     },
     "user_tz": -540
    },
    "id": "xGKvENKTvcEa"
   },
   "outputs": [],
   "source": [
    "#위에서 생성했던 데이터로더 그대로 활용\n",
    "torch.manual_seed(0)\n",
    "trainloader = torch.utils.data.DataLoader(dataset, batch_size=16, shuffle=True)"
   ]
  },
  {
   "cell_type": "code",
   "execution_count": 46,
   "metadata": {
    "colab": {
     "base_uri": "https://localhost:8080/"
    },
    "executionInfo": {
     "elapsed": 415,
     "status": "ok",
     "timestamp": 1681811260881,
     "user": {
      "displayName": "최승훈",
      "userId": "10545016366834953850"
     },
     "user_tz": -540
    },
    "id": "gOvbquGvv6bG",
    "outputId": "ecc62b4f-5fe2-4425-e8d8-58ac96ce4f1a"
   },
   "outputs": [
    {
     "name": "stdout",
     "output_type": "stream",
     "text": [
      "<bound method Module.parameters of Diabetes_model(\n",
      "  (fc1): Linear(in_features=8, out_features=20, bias=True)\n",
      "  (fc2): Linear(in_features=20, out_features=10, bias=True)\n",
      "  (fc3): Linear(in_features=10, out_features=2, bias=True)\n",
      ")>\n"
     ]
    }
   ],
   "source": [
    "#Creating the model\n",
    "class Diabetes_model(nn.Module):\n",
    "  def __init__(self):\n",
    "    super().__init__()\n",
    "    self.fc1 = nn.Linear(X_train.shape[1], 20)\n",
    "    self.fc2 = nn.Linear(20,10)\n",
    "    self.fc3 = nn.Linear(10,2)\n",
    "  def forward(self, x):\n",
    "    x = F.relu(self.fc1(x))\n",
    "    x = F.relu(self.fc2(x))\n",
    "    x = self.fc3(x)\n",
    "    return x\n",
    "  \n",
    "model = Diabetes_model().to(device)\n",
    "print(model.parameters)"
   ]
  },
  {
   "cell_type": "code",
   "execution_count": 47,
   "metadata": {
    "executionInfo": {
     "elapsed": 275,
     "status": "ok",
     "timestamp": 1681811328118,
     "user": {
      "displayName": "최승훈",
      "userId": "10545016366834953850"
     },
     "user_tz": -540
    },
    "id": "LcAdaSquw0F8"
   },
   "outputs": [],
   "source": [
    "# Define the loss function and optimizer\n",
    "learning_rate = 0.0001\n",
    "loss_function = nn.CrossEntropyLoss()\n",
    "optimizer = torch.optim.Adam(model.parameters(), lr=learning_rate)"
   ]
  },
  {
   "cell_type": "code",
   "execution_count": 48,
   "metadata": {
    "colab": {
     "base_uri": "https://localhost:8080/"
    },
    "executionInfo": {
     "elapsed": 103349,
     "status": "ok",
     "timestamp": 1681812162121,
     "user": {
      "displayName": "최승훈",
      "userId": "10545016366834953850"
     },
     "user_tz": -540
    },
    "id": "5maeN0_GxTcx",
    "outputId": "c5532385-895e-47c1-a3e5-3c6fbb5523c3"
   },
   "outputs": [
    {
     "name": "stdout",
     "output_type": "stream",
     "text": [
      "Epoch 1/2000 loss : 102.391\n",
      "Epoch 100/2000 loss : 22.760\n",
      "Epoch 200/2000 loss : 21.899\n",
      "Epoch 300/2000 loss : 21.102\n",
      "Epoch 400/2000 loss : 20.683\n",
      "Epoch 500/2000 loss : 20.409\n",
      "Epoch 600/2000 loss : 19.959\n",
      "Epoch 700/2000 loss : 19.649\n",
      "Epoch 800/2000 loss : 19.470\n",
      "Epoch 900/2000 loss : 19.404\n",
      "Epoch 1000/2000 loss : 18.807\n",
      "Epoch 1100/2000 loss : 18.800\n",
      "Epoch 1200/2000 loss : 18.695\n",
      "Epoch 1300/2000 loss : 18.247\n",
      "Epoch 1400/2000 loss : 18.109\n",
      "Epoch 1500/2000 loss : 17.895\n",
      "Epoch 1600/2000 loss : 17.782\n",
      "Epoch 1700/2000 loss : 17.586\n",
      "Epoch 1800/2000 loss : 17.507\n",
      "Epoch 1900/2000 loss : 17.386\n",
      "Epoch 2000/2000 loss : 17.162\n"
     ]
    }
   ],
   "source": [
    "#2000에폭동안 모델 학습 진행\n",
    "\n",
    "num_epochs = 2000\n",
    "epoch_loss = []\n",
    "for epoch in range(num_epochs):\n",
    "  running_loss = 0.0\n",
    "  for inputs, labels in trainloader:\n",
    "    y_pred = model(inputs)\n",
    "    loss = loss_function(y_pred, labels.view(-1))\n",
    "    loss.backward()\n",
    "    optimizer.step()\n",
    "    optimizer.zero_grad()\n",
    "\n",
    "    running_loss += loss.item()\n",
    "  \n",
    "  epoch_loss.append(running_loss)\n",
    "\n",
    "  if(epoch==0):\n",
    "    print('Epoch %d/%d loss : %.3f' % (epoch + 1, num_epochs, running_loss))\n",
    "  if(epoch+1) % 100 ==0:\n",
    "    print('Epoch %d/%d loss : %.3f' % (epoch + 1, num_epochs, running_loss))"
   ]
  },
  {
   "cell_type": "code",
   "execution_count": 49,
   "metadata": {
    "colab": {
     "base_uri": "https://localhost:8080/",
     "height": 449
    },
    "executionInfo": {
     "elapsed": 622,
     "status": "ok",
     "timestamp": 1681812389334,
     "user": {
      "displayName": "최승훈",
      "userId": "10545016366834953850"
     },
     "user_tz": -540
    },
    "id": "OXG7XOCmz28D",
    "outputId": "1e7a1626-e8e1-47b9-9265-2347790d9459"
   },
   "outputs": [
    {
     "data": {
      "image/png": "[encoded data removed]",
      "text/plain": [
       "<Figure size 640x480 with 1 Axes>"
      ]
     },
     "metadata": {},
     "output_type": "display_data"
    }
   ],
   "source": [
    "#시각화 진행\n",
    "plt.plot(range(num_epochs), epoch_loss)\n",
    "plt.xlabel('Epochs')\n",
    "plt.ylabel('Loss')\n",
    "plt.show()"
   ]
  },
  {
   "cell_type": "code",
   "execution_count": 43,
   "metadata": {
    "colab": {
     "base_uri": "https://localhost:8080/"
    },
    "executionInfo": {
     "elapsed": 4,
     "status": "ok",
     "timestamp": 1681812478344,
     "user": {
      "displayName": "최승훈",
      "userId": "10545016366834953850"
     },
     "user_tz": -540
    },
    "id": "Nqtalddy1Hlt",
    "outputId": "37200438-f4f1-4468-86bb-42ed98c77a86"
   },
   "outputs": [
    {
     "name": "stdout",
     "output_type": "stream",
     "text": [
      "1\n",
      "0\n",
      "0\n",
      "1\n",
      "0\n",
      "0\n",
      "1\n",
      "1\n",
      "0\n",
      "1\n",
      "1\n"
     ]
    }
   ],
   "source": [
    "#테스트셋에 예측 실행\n",
    "predictions = []\n",
    "for i, data in enumerate(X_test):\n",
    "  y_pred = model(data)\n",
    "  predictions.append(y_pred.argmax().item())\n",
    "  if (i <=10):\n",
    "    print(y_pred.argmax().item())"
   ]
  },
  {
   "cell_type": "code",
   "execution_count": 44,
   "metadata": {
    "colab": {
     "base_uri": "https://localhost:8080/"
    },
    "executionInfo": {
     "elapsed": 257,
     "status": "ok",
     "timestamp": 1681812505516,
     "user": {
      "displayName": "최승훈",
      "userId": "10545016366834953850"
     },
     "user_tz": -540
    },
    "id": "6RGS-9lc1dVv",
    "outputId": "29498955-5af6-425f-a345-9059fd8600d4"
   },
   "outputs": [
    {
     "name": "stdout",
     "output_type": "stream",
     "text": [
      "Confusion Matrix : \n",
      " [[88 19]\n",
      " [17 30]]\n",
      "Precision :  0.6122\n",
      "Sensitivity :  0.6383\n",
      "Specificity :  0.8224\n",
      "Accuracy :  0.7662\n"
     ]
    }
   ],
   "source": [
    "from sklearn.metrics import confusion_matrix\n",
    "# confusion matrix\n",
    "confusion_matrix = confusion_matrix(y_test.cpu().numpy(), predictions)\n",
    "TN=confusion_matrix[0][0]\n",
    "FP=confusion_matrix[0][1]\n",
    "FN=confusion_matrix[1][0]\n",
    "TP=confusion_matrix[1][1]\n",
    "precision= TP/(TP+FP)\n",
    "sensitivity=TP/(TP+FN)\n",
    "specificity=TN/(FP+TN)\n",
    "accuracy=(TP+TN)/(TP+TN+FP+FN)\n",
    "print (\"Confusion Matrix : \\n\", confusion_matrix)\n",
    "print (\"Precision : \", round(precision,4))\n",
    "print (\"Sensitivity : \", round(sensitivity,4))\n",
    "print (\"Specificity : \", round(specificity,4))\n",
    "print (\"Accuracy : \", round(accuracy,4))"
   ]
  },
  {
   "cell_type": "code",
   "execution_count": 45,
   "metadata": {
    "colab": {
     "base_uri": "https://localhost:8080/",
     "height": 472
    },
    "executionInfo": {
     "elapsed": 487,
     "status": "ok",
     "timestamp": 1681812525743,
     "user": {
      "displayName": "최승훈",
      "userId": "10545016366834953850"
     },
     "user_tz": -540
    },
    "id": "Alk9Uaox1kC_",
    "outputId": "f6a2a07d-6c0d-407e-a88d-29d62e3ba2d7"
   },
   "outputs": [
    {
     "data": {
      "image/png": "[encoded data removed]",
      "text/plain": [
       "<Figure size 640x480 with 1 Axes>"
      ]
     },
     "metadata": {},
     "output_type": "display_data"
    }
   ],
   "source": [
    "from sklearn.metrics import roc_curve, roc_auc_score\n",
    "#ROC 커브 생성\n",
    "#최고의 결과는 아니지만 어느정도 잘 분류가 된 모습으로 보임\n",
    "fpr, tpr, _ = roc_curve(y_test.cpu().numpy(),  predictions)\n",
    "auc = roc_auc_score(y_test.cpu().numpy(), predictions)\n",
    "auc=round(auc,4)\n",
    "plt.plot(fpr,tpr,label=\"AUC =\"+str(auc))\n",
    "plt.legend(loc=4)\n",
    "plt.title(\"ROC Curve\")\n",
    "plt.ylabel('True Positive Rate')\n",
    "plt.xlabel('False Positive Rate')\n",
    "plt.show()"
   ]
  }
 ],
 "metadata": {
  "colab": {
   "authorship_tag": "ABX9TyN89aBFUzfpbtBN3y722P04",
   "provenance": []
  },
  "kernelspec": {
   "display_name": "Python 3 (ipykernel)",
   "language": "python",
   "name": "python3"
  },
  "language_info": {
   "codemirror_mode": {
    "name": "ipython",
    "version": 3
   },
   "file_extension": ".py",
   "mimetype": "text/x-python",
   "name": "python",
   "nbconvert_exporter": "python",
   "pygments_lexer": "ipython3",
   "version": "3.9.13"
  }
 },
 "nbformat": 4,
 "nbformat_minor": 4
}
