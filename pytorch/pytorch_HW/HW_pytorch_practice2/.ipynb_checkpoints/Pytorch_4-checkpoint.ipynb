{
 "cells": [
  {
   "cell_type": "markdown",
   "metadata": {
    "id": "1BzYu13EHIQm"
   },
   "source": [
    "4.1 로지스틱 회귀분석"
   ]
  },
  {
   "cell_type": "code",
   "execution_count": 1,
   "metadata": {
    "id": "ZOJOK_A_A7_C"
   },
   "outputs": [],
   "source": [
    "import statsmodels.api as sm\n",
    "import pandas as pd"
   ]
  },
  {
   "cell_type": "code",
   "execution_count": 4,
   "metadata": {
    "colab": {
     "base_uri": "https://localhost:8080/"
    },
    "id": "9A89YZodEIUV",
    "outputId": "34172194-bc81-411a-f857-acf80f4fda8a"
   },
   "outputs": [
    {
     "name": "stdout",
     "output_type": "stream",
     "text": [
      "<class 'pandas.core.frame.DataFrame'>\n",
      "Index: 30 entries, 16 to 19\n",
      "Data columns (total 4 columns):\n",
      " #   Column           Non-Null Count  Dtype  \n",
      "---  ------           --------------  -----  \n",
      " 0   gmat             30 non-null     int64  \n",
      " 1   gpa              30 non-null     float64\n",
      " 2   work_experience  30 non-null     int64  \n",
      " 3   admitted         30 non-null     int64  \n",
      "dtypes: float64(1), int64(3)\n",
      "memory usage: 1.2 KB\n",
      "None\n"
     ]
    }
   ],
   "source": [
    "#df = pd.read_csv('/content/sample_data/student_admission_train.csv', index_col = 0)\n",
    "#데이터 읽기\n",
    "df = pd.read_csv('student_admission_train.csv', index_col = 0)\n",
    "print(df.info())"
   ]
  },
  {
   "cell_type": "code",
   "execution_count": 5,
   "metadata": {
    "colab": {
     "base_uri": "https://localhost:8080/"
    },
    "id": "hRNAxCRFEQr2",
    "outputId": "ee50f886-4ab7-4682-b297-fbb5f67ecea6"
   },
   "outputs": [
    {
     "name": "stdout",
     "output_type": "stream",
     "text": [
      "    gmat  gpa  work_experience  admitted\n",
      "16   580  2.7                4         0\n",
      "33   660  3.3                6         1\n",
      "8    740  3.3                5         1\n",
      "38   590  1.7                4         0\n",
      "32   660  4.0                4         1\n"
     ]
    }
   ],
   "source": [
    "#데이터 확인\n",
    "print(df.head())"
   ]
  },
  {
   "cell_type": "code",
   "execution_count": 6,
   "metadata": {
    "colab": {
     "base_uri": "https://localhost:8080/"
    },
    "id": "vrFrLg6cEh9L",
    "outputId": "8854b080-6808-4af3-a2a4-972b215e0cb7"
   },
   "outputs": [
    {
     "name": "stdout",
     "output_type": "stream",
     "text": [
      "<class 'pandas.core.frame.DataFrame'>\n",
      "<class 'pandas.core.frame.DataFrame'>\n",
      "(30, 3)\n",
      "(30, 1)\n"
     ]
    }
   ],
   "source": [
    "#종속변수, 독립변수들 확인\n",
    "X = df[['gmat', 'gpa','work_experience']]\n",
    "Y = df[['admitted']]\n",
    "\n",
    "print(type(X))\n",
    "print(type(Y))\n",
    "print(X.shape)\n",
    "print(Y.shape)"
   ]
  },
  {
   "cell_type": "code",
   "execution_count": 7,
   "metadata": {
    "colab": {
     "base_uri": "https://localhost:8080/"
    },
    "id": "bd85YUZRElgY",
    "outputId": "b6645bb2-91cf-4e9b-eee9-825b9b331400"
   },
   "outputs": [
    {
     "name": "stdout",
     "output_type": "stream",
     "text": [
      "Optimization terminated successfully.\n",
      "         Current function value: 0.247296\n",
      "         Iterations 8\n"
     ]
    }
   ],
   "source": [
    "#로지스틱회귀분석 적용\n",
    "X = sm.add_constant(X)\n",
    "model = sm.Logit(Y, X)\n",
    "results = model.fit()"
   ]
  },
  {
   "cell_type": "code",
   "execution_count": 10,
   "metadata": {
    "colab": {
     "base_uri": "https://localhost:8080/"
    },
    "id": "ENNVqL9LE8nA",
    "outputId": "acb954ee-3053-4534-a174-e4b9f701fc20"
   },
   "outputs": [
    {
     "name": "stdout",
     "output_type": "stream",
     "text": [
      "                           Logit Regression Results                           \n",
      "==============================================================================\n",
      "Dep. Variable:               admitted   No. Observations:                   30\n",
      "Model:                          Logit   Df Residuals:                       26\n",
      "Method:                           MLE   Df Model:                            3\n",
      "Date:                Wed, 08 May 2024   Pseudo R-squ.:                  0.6432\n",
      "Time:                        15:50:24   Log-Likelihood:                -7.4189\n",
      "converged:                       True   LL-Null:                       -20.794\n",
      "Covariance Type:            nonrobust   LLR p-value:                 6.639e-06\n",
      "===================================================================================\n",
      "                      coef    std err          z      P>|z|      [0.025      0.975]\n",
      "-----------------------------------------------------------------------------------\n",
      "Intercept         -16.3315      8.601     -1.899      0.058     -33.189       0.526\n",
      "gmat                0.0025      0.018      0.141      0.888      -0.032       0.037\n",
      "gpa                 3.3208      2.397      1.385      0.166      -1.378       8.020\n",
      "work_experience     0.9975      0.585      1.704      0.088      -0.150       2.145\n",
      "===================================================================================\n"
     ]
    }
   ],
   "source": [
    "#결과 확인\n",
    "print(results.summary())"
   ]
  },
  {
   "cell_type": "code",
   "execution_count": 11,
   "metadata": {
    "colab": {
     "base_uri": "https://localhost:8080/"
    },
    "id": "hLRoY8E5FOGx",
    "outputId": "6cd68ba2-271e-44b2-a514-aea181acc63d"
   },
   "outputs": [
    {
     "name": "stdout",
     "output_type": "stream",
     "text": [
      "Optimization terminated successfully.\n",
      "         Current function value: 0.247296\n",
      "         Iterations 8\n",
      "                           Logit Regression Results                           \n",
      "==============================================================================\n",
      "Dep. Variable:               admitted   No. Observations:                   30\n",
      "Model:                          Logit   Df Residuals:                       26\n",
      "Method:                           MLE   Df Model:                            3\n",
      "Date:                Wed, 08 May 2024   Pseudo R-squ.:                  0.6432\n",
      "Time:                        15:50:26   Log-Likelihood:                -7.4189\n",
      "converged:                       True   LL-Null:                       -20.794\n",
      "Covariance Type:            nonrobust   LLR p-value:                 6.639e-06\n",
      "===================================================================================\n",
      "                      coef    std err          z      P>|z|      [0.025      0.975]\n",
      "-----------------------------------------------------------------------------------\n",
      "Intercept         -16.3315      8.601     -1.899      0.058     -33.189       0.526\n",
      "gmat                0.0025      0.018      0.141      0.888      -0.032       0.037\n",
      "gpa                 3.3208      2.397      1.385      0.166      -1.378       8.020\n",
      "work_experience     0.9975      0.585      1.704      0.088      -0.150       2.145\n",
      "===================================================================================\n"
     ]
    }
   ],
   "source": [
    "#Logit.from_formula() 함수 이용\n",
    "#종속, 독립 변수 따로 선언하지 않고 from_formula()로도 적용 가능\n",
    "model = sm.Logit.from_formula('admitted ~ gmat + gpa + work_experience', df)\n",
    "results = model.fit()\n",
    "\n",
    "print(results.summary())"
   ]
  },
  {
   "cell_type": "code",
   "execution_count": 12,
   "metadata": {
    "colab": {
     "base_uri": "https://localhost:8080/"
    },
    "id": "sUb8b2wkFv7q",
    "outputId": "839a720c-c408-48b0-a85d-1acf601e890b"
   },
   "outputs": [
    {
     "name": "stdout",
     "output_type": "stream",
     "text": [
      "   const  gmat  gpa  work_experience\n",
      "0      1   590    2                3\n"
     ]
    }
   ],
   "source": [
    "#예측할 값 생성\n",
    "new_candidates = {'const':[1],\n",
    "                  'gmat': [590],\n",
    "                  'gpa': [2],\n",
    "                  'work_experience': [3]\n",
    "                  }\n",
    "df2 = pd.DataFrame(new_candidates)\n",
    "print(df2)"
   ]
  },
  {
   "cell_type": "code",
   "execution_count": 13,
   "metadata": {
    "colab": {
     "base_uri": "https://localhost:8080/"
    },
    "id": "-Qsr_rbeGHHk",
    "outputId": "5835273a-613a-460c-8928-c04a687c699e"
   },
   "outputs": [
    {
     "name": "stdout",
     "output_type": "stream",
     "text": [
      "0    0.005377\n",
      "dtype: float64\n"
     ]
    }
   ],
   "source": [
    "#예측 진행\n",
    "y_pred=results.predict(df2)\n",
    "print (y_pred)"
   ]
  },
  {
   "cell_type": "code",
   "execution_count": 14,
   "metadata": {
    "colab": {
     "base_uri": "https://localhost:8080/"
    },
    "id": "qKbVJ8X-GJGp",
    "outputId": "ae53cc81-232c-47bd-a463-fdc58a674afe"
   },
   "outputs": [
    {
     "name": "stdout",
     "output_type": "stream",
     "text": [
      "0    0\n",
      "dtype: int8\n"
     ]
    }
   ],
   "source": [
    "#임계값 선언 + 임계값 넘는지 확인 (분류 작업)\n",
    "import numpy as np\n",
    "threshold = 0.5\n",
    "\n",
    "y_pred = (y_pred > threshold).astype(np.int8) \n",
    "print(y_pred)"
   ]
  },
  {
   "cell_type": "code",
   "execution_count": 17,
   "metadata": {
    "colab": {
     "base_uri": "https://localhost:8080/"
    },
    "id": "xkoPwv2iGj91",
    "outputId": "2dc48376-ef86-49b9-b70b-559b30893635"
   },
   "outputs": [
    {
     "name": "stdout",
     "output_type": "stream",
     "text": [
      "   const  gmat  gpa  work_experience\n",
      "0      1   590  2.0                3\n",
      "1      1   740  3.7                4\n",
      "2      1   680  3.3                6\n",
      "3      1   610  2.3                1\n",
      "4      1   710  3.0                5\n"
     ]
    }
   ],
   "source": [
    "#새로운 예측할 값들 선언\n",
    "new_candidates = {'const':[1,1,1,1,1],\n",
    "                  'gmat': [590,740,680,610,710],\n",
    "                  'gpa': [2,3.7,3.3,2.3,3],\n",
    "                  'work_experience': [3,4,6,1,5]\n",
    "                  }\n",
    "\n",
    "df2 = pd.DataFrame(new_candidates,columns= ['const', 'gmat', 'gpa','work_experience'])\n",
    "\n",
    "print(df2)"
   ]
  },
  {
   "cell_type": "code",
   "execution_count": 18,
   "metadata": {
    "colab": {
     "base_uri": "https://localhost:8080/"
    },
    "id": "FD6HTNaYG73-",
    "outputId": "98d6d7b6-974c-49dc-a8f1-3dd01f3199dd"
   },
   "outputs": [
    {
     "name": "stdout",
     "output_type": "stream",
     "text": [
      "0    0.005377\n",
      "1    0.857911\n",
      "2    0.910066\n",
      "3    0.002089\n",
      "4    0.597692\n",
      "dtype: float64\n"
     ]
    }
   ],
   "source": [
    "#예측치 생성\n",
    "y_pred=results.predict(df2)\n",
    "print (y_pred)"
   ]
  },
  {
   "cell_type": "code",
   "execution_count": 19,
   "metadata": {
    "colab": {
     "base_uri": "https://localhost:8080/"
    },
    "id": "3dJ9d1JxG_rH",
    "outputId": "3b9943d9-0804-46da-a1dd-13cb55736b18"
   },
   "outputs": [
    {
     "name": "stdout",
     "output_type": "stream",
     "text": [
      "0    0\n",
      "1    1\n",
      "2    1\n",
      "3    0\n",
      "4    1\n",
      "dtype: int8\n"
     ]
    }
   ],
   "source": [
    "#임계값으로 분류작업 실행\n",
    "y_pred = (y_pred > threshold).astype(np.int8) \n",
    "print(y_pred)"
   ]
  },
  {
   "cell_type": "markdown",
   "metadata": {
    "id": "RpGsdAKwHLwh"
   },
   "source": [
    "4.2 머신러닝 기반 로지스틱 회귀분석"
   ]
  },
  {
   "cell_type": "markdown",
   "metadata": {
    "id": "BfP1MRE9H_9a"
   },
   "source": [
    "1) scikit-learn을 이용한 머신러닝"
   ]
  },
  {
   "cell_type": "code",
   "execution_count": 20,
   "metadata": {
    "id": "7FiIgvXQHDTr"
   },
   "outputs": [],
   "source": [
    "import pandas as pd\n",
    "from sklearn.linear_model import LogisticRegression"
   ]
  },
  {
   "cell_type": "code",
   "execution_count": 23,
   "metadata": {
    "colab": {
     "base_uri": "https://localhost:8080/"
    },
    "id": "z9xvrAkbIFNL",
    "outputId": "d55324f7-5787-4c12-c4c9-1f33bbc5504e"
   },
   "outputs": [
    {
     "name": "stdout",
     "output_type": "stream",
     "text": [
      "<class 'pandas.core.frame.DataFrame'>\n",
      "Index: 30 entries, 16 to 19\n",
      "Data columns (total 4 columns):\n",
      " #   Column           Non-Null Count  Dtype  \n",
      "---  ------           --------------  -----  \n",
      " 0   gmat             30 non-null     int64  \n",
      " 1   gpa              30 non-null     float64\n",
      " 2   work_experience  30 non-null     int64  \n",
      " 3   admitted         30 non-null     int64  \n",
      "dtypes: float64(1), int64(3)\n",
      "memory usage: 1.2 KB\n",
      "None\n"
     ]
    }
   ],
   "source": [
    "#데이터 읽기\n",
    "df = pd.read_csv('student_admission_train.csv', index_col = 0)\n",
    "print(df.info())"
   ]
  },
  {
   "cell_type": "code",
   "execution_count": 24,
   "metadata": {
    "colab": {
     "base_uri": "https://localhost:8080/"
    },
    "id": "L-7k0mIdIKJ_",
    "outputId": "cd78460f-f20e-4196-ee1b-9cd09326315c"
   },
   "outputs": [
    {
     "name": "stdout",
     "output_type": "stream",
     "text": [
      "    gmat  gpa  work_experience  admitted\n",
      "16   580  2.7                4         0\n",
      "33   660  3.3                6         1\n",
      "8    740  3.3                5         1\n",
      "38   590  1.7                4         0\n",
      "32   660  4.0                4         1\n"
     ]
    }
   ],
   "source": [
    "#데이터 확인\n",
    "print(df.head())"
   ]
  },
  {
   "cell_type": "code",
   "execution_count": 25,
   "metadata": {
    "colab": {
     "base_uri": "https://localhost:8080/"
    },
    "id": "_8ylzcRFIMRx",
    "outputId": "15026d66-3082-4578-b935-9ae5a4877af9"
   },
   "outputs": [
    {
     "name": "stdout",
     "output_type": "stream",
     "text": [
      "(30, 3)\n",
      "(30,)\n"
     ]
    }
   ],
   "source": [
    "#독립, 종속 변수 선언\n",
    "X = df[['gmat', 'gpa','work_experience']]\n",
    "y = df['admitted']\n",
    "print(X.shape)\n",
    "print(y.shape)"
   ]
  },
  {
   "cell_type": "code",
   "execution_count": 26,
   "metadata": {
    "colab": {
     "base_uri": "https://localhost:8080/",
     "height": 75
    },
    "id": "DFJmjanLIch6",
    "outputId": "b11632b3-32e1-45d2-ab95-e125b080865e"
   },
   "outputs": [
    {
     "data": {
      "text/plain": [
       "LogisticRegression(random_state=0)"
      ]
     },
     "execution_count": 26,
     "metadata": {},
     "output_type": "execute_result"
    }
   ],
   "source": [
    "#싸이킷런의 로지스틱회귀 모델 생성\n",
    "model = LogisticRegression(random_state=0, fit_intercept = True)\n",
    "model.fit(X, y)"
   ]
  },
  {
   "cell_type": "code",
   "execution_count": 27,
   "metadata": {
    "colab": {
     "base_uri": "https://localhost:8080/"
    },
    "id": "E8ryR1wkIxR-",
    "outputId": "4f3552fd-5f14-4c80-f425-cb1599aeb579"
   },
   "outputs": [
    {
     "name": "stdout",
     "output_type": "stream",
     "text": [
      "Intercept: [-17.61897717]\n",
      "Coefficient: [[0.01779153 0.83599655 0.87068199]]\n"
     ]
    }
   ],
   "source": [
    "#절편\n",
    "print('Intercept:', model.intercept_)\n",
    "#기울기\n",
    "print('Coefficient:', model.coef_)"
   ]
  },
  {
   "cell_type": "code",
   "execution_count": 28,
   "metadata": {
    "colab": {
     "base_uri": "https://localhost:8080/"
    },
    "id": "BHzM6di2I4Mn",
    "outputId": "7532f9a2-95b5-4440-bc29-cfeedab82a08"
   },
   "outputs": [
    {
     "name": "stdout",
     "output_type": "stream",
     "text": [
      "Intercept: -17.6190\n",
      "Coefficient: 0.0178, 0.8360, 0.8707\n"
     ]
    }
   ],
   "source": [
    "#4번째 자리까지 출력\n",
    "#절편\n",
    "print('Intercept: {:.4f}'.format(model.intercept_[0]))\n",
    "#기울기\n",
    "print('Coefficient: {:.4f}, {:.4f}, {:.4f}'.format(model.coef_[0][0], model.coef_[0][1], model.coef_[0][2]))"
   ]
  },
  {
   "cell_type": "code",
   "execution_count": 29,
   "metadata": {
    "colab": {
     "base_uri": "https://localhost:8080/"
    },
    "id": "GiKgk5IbJlwD",
    "outputId": "579e15b2-af10-45a3-d97b-1fbe4972ad64"
   },
   "outputs": [
    {
     "name": "stdout",
     "output_type": "stream",
     "text": [
      "   gmat  gpa  work_experience\n",
      "0   590    2                3\n"
     ]
    },
    {
     "data": {
      "text/plain": [
       "array([[0.9446918, 0.0553082]])"
      ]
     },
     "execution_count": 29,
     "metadata": {},
     "output_type": "execute_result"
    }
   ],
   "source": [
    "#예측할 값 생성\n",
    "new_candidates = {'gmat': [590],\n",
    "                  'gpa': [2],\n",
    "                  'work_experience': [3]\n",
    "                  }\n",
    "df2 = pd.DataFrame(new_candidates)\n",
    "print(df2)\n",
    "\n",
    "model.predict_proba(df2)"
   ]
  },
  {
   "cell_type": "code",
   "execution_count": 30,
   "metadata": {
    "colab": {
     "base_uri": "https://localhost:8080/"
    },
    "id": "h7hixinIJsE4",
    "outputId": "30c97083-21eb-4b97-d573-2e69527133bf"
   },
   "outputs": [
    {
     "data": {
      "text/plain": [
       "array([0], dtype=int64)"
      ]
     },
     "execution_count": 30,
     "metadata": {},
     "output_type": "execute_result"
    }
   ],
   "source": [
    "#모델로 예측\n",
    "model.predict(df2)\n",
    "#임계값은 0.5가 디폴트 in scikit-learn"
   ]
  },
  {
   "cell_type": "code",
   "execution_count": 34,
   "metadata": {
    "colab": {
     "base_uri": "https://localhost:8080/"
    },
    "id": "tX6uHBO0J8VS",
    "outputId": "2088ded3-aa18-4852-8952-65e12ca64557"
   },
   "outputs": [
    {
     "name": "stdout",
     "output_type": "stream",
     "text": [
      "   gmat  gpa  work_experience\n",
      "0   590  2.0                3\n",
      "1   740  3.7                4\n",
      "2   680  3.3                6\n",
      "3   610  2.3                1\n",
      "4   710  3.0                5\n"
     ]
    },
    {
     "data": {
      "text/plain": [
       "array([0, 1, 1, 0, 1], dtype=int64)"
      ]
     },
     "execution_count": 34,
     "metadata": {},
     "output_type": "execute_result"
    }
   ],
   "source": [
    "#예측할값들 생성 및 분류 결과 확인\n",
    "new_candidates = { 'gmat': [590,740,680,610,710],\n",
    "                  'gpa': [2,3.7,3.3,2.3,3],\n",
    "                  'work_experience': [3,4,6,1,5]\n",
    "                  }\n",
    "df2 = pd.DataFrame(new_candidates)\n",
    "print(df2)\n",
    "\n",
    "preds = model.predict(df2)\n",
    "preds"
   ]
  },
  {
   "cell_type": "markdown",
   "metadata": {
    "id": "rzjOcl_-KVWT"
   },
   "source": [
    "2) 파이토치를 이용한 머신러닝"
   ]
  },
  {
   "cell_type": "code",
   "execution_count": 35,
   "metadata": {
    "colab": {
     "base_uri": "https://localhost:8080/"
    },
    "id": "M3_Ain58KCFq",
    "outputId": "1f2f37e3-9af8-413f-f8b7-89329462ae98"
   },
   "outputs": [
    {
     "name": "stdout",
     "output_type": "stream",
     "text": [
      "(30, 3)\n",
      "(30,)\n"
     ]
    }
   ],
   "source": [
    "#동일하게 데이터 확인 및 선언\n",
    "df = pd.read_csv('student_admission_train.csv', index_col = 0)\n",
    "\n",
    "X = df.drop('admitted' , axis = 1).values #independent Feature\n",
    "y = df['admitted'].values #dependent Feature\n",
    "print(X.shape)\n",
    "print(y.shape)"
   ]
  },
  {
   "cell_type": "code",
   "execution_count": 36,
   "metadata": {
    "colab": {
     "base_uri": "https://localhost:8080/"
    },
    "id": "Xd5DRvsHKhj_",
    "outputId": "dbc45505-85b3-4f0f-8c50-9aa69b4ffb45"
   },
   "outputs": [
    {
     "name": "stdout",
     "output_type": "stream",
     "text": [
      "epoch= 1000 a= [[-0.01169533]\n",
      " [ 1.9504064 ]\n",
      " [ 1.0378833 ]] b= [-2.3987281] loss= 0.33742687\n",
      "epoch= 2000 a= [[-0.01215907]\n",
      " [ 3.0220306 ]\n",
      " [ 1.0444834 ]] b= [-5.6585784] loss= 0.2865037\n",
      "epoch= 3000 a= [[-0.00905974]\n",
      " [ 3.3389423 ]\n",
      " [ 1.0351689 ]] b= [-8.757814] loss= 0.26448843\n",
      "epoch= 4000 a= [[-0.00553526]\n",
      " [ 3.3626137 ]\n",
      " [ 1.0202284 ]] b= [-11.047943] loss= 0.2552468\n",
      "epoch= 5000 a= [[-3.2167248e-03]\n",
      " [ 3.3418429e+00]\n",
      " [ 1.0111605e+00]] b= [-12.680666] loss= 0.2509293\n",
      "epoch= 6000 a= [[-1.4392906e-03]\n",
      " [ 3.3284016e+00]\n",
      " [ 1.0103050e+00]] b= [-13.821628] loss= 0.24911262\n",
      "epoch= 7000 a= [[-1.4997509e-04]\n",
      " [ 3.3232067e+00]\n",
      " [ 1.0063467e+00]] b= [-14.614344] loss= 0.2480493\n",
      "epoch= 8000 a= [[6.0543354e-04]\n",
      " [3.3226161e+00]\n",
      " [1.0045247e+00]] b= [-15.163621] loss= 0.24785964\n",
      "epoch= 9000 a= [[1.2166179e-03]\n",
      " [3.3247826e+00]\n",
      " [1.0061495e+00]] b= [-15.54363] loss= 0.2478847\n",
      "epoch= 10000 a= [[1.9446432e-03]\n",
      " [3.3270214e+00]\n",
      " [1.0044274e+00]] b= [-15.806318] loss= 0.24828358\n"
     ]
    }
   ],
   "source": [
    "#cpu 상에서 진행했음\n",
    "import torch\n",
    "from torch import sigmoid\n",
    "import torch.nn.functional as F\n",
    "\n",
    "device = torch.device(\"cuda\" if torch.cuda.is_available() else \"cpu\")\n",
    "\n",
    "#tensor 생성\n",
    "X_tensor = torch.FloatTensor(X).to(device)\n",
    "y_tensor = torch.FloatTensor(y).view(-1,1).to(device)\n",
    "\n",
    "#시드 고정\n",
    "torch.manual_seed(1)\n",
    "\n",
    "W = torch.zeros((3, 1), device=device, requires_grad=True)\n",
    "b = torch.zeros(1, device=device, requires_grad=True)\n",
    "\n",
    "#10000에폭동안 학습 진행\n",
    "learning_rate = 0.01\n",
    "optimizer=torch.optim.Adam([W,b],lr=learning_rate)\n",
    "epochs=10000\n",
    "\n",
    "for epoch in range(epochs):\n",
    "    y_pred = torch.sigmoid(X_tensor.matmul(W)+ b).to(device)\n",
    "    #y_pred = torch.sigmoid(torch.matmul(X_tensor, W)+ b)     \n",
    "    #loss = F.binary_cross_entropy(y_pred, y_tensor)\n",
    "    loss = -(y_tensor * torch.log(y_pred) + \n",
    "             (1 - y_tensor) * torch.log(1 - y_pred)).mean()\n",
    "\n",
    "    optimizer.zero_grad()\n",
    "    loss.backward()\n",
    "    optimizer.step()\n",
    "   #1000에폭마다 결과 학인\n",
    "    if (epoch+1) % 1000 == 0:\n",
    "        print('epoch=',epoch+1, 'a=',W.detach().cpu().numpy(),\n",
    "              'b=',b.detach().cpu().numpy(),'loss=',loss.detach().cpu().numpy())"
   ]
  },
  {
   "cell_type": "code",
   "execution_count": 37,
   "metadata": {
    "colab": {
     "base_uri": "https://localhost:8080/"
    },
    "id": "AZuDQ8SvL5Eb",
    "outputId": "6ab53274-c491-472d-ced0-ea529d514007"
   },
   "outputs": [
    {
     "name": "stdout",
     "output_type": "stream",
     "text": [
      "   gmat  gpa  work_experience\n",
      "0   590    2                3\n",
      "tensor([[590.,   2.,   3.]])\n"
     ]
    }
   ],
   "source": [
    "#새로운 예측치 생성하고 텐서 변환\n",
    "new_candidates = {'gmat': [590],\n",
    "                  'gpa': [2],\n",
    "                  'work_experience': [3]\n",
    "                  }\n",
    "df2 = pd.DataFrame(new_candidates)\n",
    "print(df2)\n",
    "\n",
    "X = df2.values\n",
    "X_tensor = torch.FloatTensor(X).to(device)\n",
    "print(X_tensor)"
   ]
  },
  {
   "cell_type": "code",
   "execution_count": 38,
   "metadata": {
    "colab": {
     "base_uri": "https://localhost:8080/"
    },
    "id": "XWdbt9ihMrK1",
    "outputId": "0c0f837d-12aa-4ecf-9c34-eb6220c19429"
   },
   "outputs": [
    {
     "name": "stdout",
     "output_type": "stream",
     "text": [
      "tensor([[0.0067]], grad_fn=<SigmoidBackward0>)\n",
      "tensor([[False]])\n",
      "[[0]]\n"
     ]
    }
   ],
   "source": [
    "#토치에 시그모이드 함수 사용해서 분류 작업 실행\n",
    "threshold = 0.5\n",
    "y_pred = torch.sigmoid(X_tensor.matmul(W)+ b).to(device)\n",
    "print(y_pred) \n",
    "prediction = y_pred >= torch.FloatTensor([0.5]).to(device)\n",
    "print(prediction)\n",
    "prediction = (y_pred.detach().cpu().numpy() > threshold).astype(np.int8)\n",
    "print(prediction)"
   ]
  },
  {
   "cell_type": "code",
   "execution_count": 39,
   "metadata": {
    "colab": {
     "base_uri": "https://localhost:8080/"
    },
    "id": "UiHZNEBJM6oJ",
    "outputId": "c6786d73-901a-4ca1-d4e5-c9d951129c5a"
   },
   "outputs": [
    {
     "name": "stdout",
     "output_type": "stream",
     "text": [
      "   gmat  gpa  work_experience\n",
      "0   590  2.0                3\n",
      "1   740  3.7                4\n",
      "2   680  3.3                6\n",
      "3   610  2.3                1\n",
      "4   710  3.0                5\n",
      "tensor([[590.0000,   2.0000,   3.0000],\n",
      "        [740.0000,   3.7000,   4.0000],\n",
      "        [680.0000,   3.3000,   6.0000],\n",
      "        [610.0000,   2.3000,   1.0000],\n",
      "        [710.0000,   3.0000,   5.0000]])\n"
     ]
    }
   ],
   "source": [
    "#예측할 값들 여러 개 생성하고 텐서 변환\n",
    "new_candidates = { 'gmat': [590,740,680,610,710],\n",
    "                  'gpa': [2,3.7,3.3,2.3,3],\n",
    "                  'work_experience': [3,4,6,1,5]\n",
    "                  }\n",
    "df2 = pd.DataFrame(new_candidates)\n",
    "print(df2)\n",
    "\n",
    "X = df2.values\n",
    "X_tensor = torch.FloatTensor(X).to(device)\n",
    "print(X_tensor)"
   ]
  },
  {
   "cell_type": "code",
   "execution_count": null,
   "metadata": {
    "colab": {
     "base_uri": "https://localhost:8080/"
    },
    "id": "gpQ2K9QmM9I2",
    "outputId": "74de8583-65b5-4222-cafc-0d82b82d8176"
   },
   "outputs": [
    {
     "name": "stdout",
     "output_type": "stream",
     "text": [
      "tensor([[0.0052],\n",
      "        [0.8375],\n",
      "        [0.9022],\n",
      "        [0.0020],\n",
      "        [0.5665]], grad_fn=<SigmoidBackward0>)\n",
      "tensor([[False],\n",
      "        [ True],\n",
      "        [ True],\n",
      "        [False],\n",
      "        [ True]])\n",
      "[[0]\n",
      " [1]\n",
      " [1]\n",
      " [0]\n",
      " [1]]\n"
     ]
    }
   ],
   "source": [
    "#임계치 0.5로 설정하고 시그모이드 함수 이용해서 분류 작업 실행\n",
    "y_pred = torch.sigmoid(X_tensor.matmul(W)+ b).to(device)\n",
    "print(y_pred)\n",
    "prediction = y_pred >= torch.FloatTensor([0.5]).to(device)\n",
    "print(prediction)\n",
    "prediction = (y_pred.detach().cpu().numpy() > threshold).astype(np.int8) \n",
    "print(prediction)"
   ]
  },
  {
   "cell_type": "markdown",
   "metadata": {
    "id": "L6lw7t3MPeyr"
   },
   "source": [
    "* 크로스 엔트로피 함수"
   ]
  },
  {
   "cell_type": "code",
   "execution_count": 40,
   "metadata": {
    "colab": {
     "base_uri": "https://localhost:8080/"
    },
    "id": "2yCRm2t4NBmd",
    "outputId": "6deca2e5-bd2d-40a8-c3e3-fa49bf956f97"
   },
   "outputs": [
    {
     "name": "stdout",
     "output_type": "stream",
     "text": [
      "ce_loss : 1.058963656425476\n"
     ]
    }
   ],
   "source": [
    "#크로스 엔트로피 임의의 값들에 대해 계산\n",
    "import torch\n",
    "import torch.nn as nn\n",
    "\n",
    "output =torch.tensor([[0.1, 0.2, 0.6, 0.1]],dtype=torch.float)\n",
    "target = torch.tensor([2],dtype=torch.long)\n",
    "ce_loss = nn.CrossEntropyLoss()\n",
    "loss = ce_loss(output, target)\n",
    "print('ce_loss :', loss.item())"
   ]
  },
  {
   "cell_type": "code",
   "execution_count": 41,
   "metadata": {
    "colab": {
     "base_uri": "https://localhost:8080/"
    },
    "id": "tAHF0TXBPxcr",
    "outputId": "28aa0c8c-6b13-42c2-ac8e-26ee3dd41b18"
   },
   "outputs": [
    {
     "name": "stdout",
     "output_type": "stream",
     "text": [
      "output :  tensor([[0.1000, 0.2000, 0.6000, 0.1000]])\n",
      "softmax : tensor([[0.2104, 0.2325, 0.3468, 0.2104]])\n",
      "target :  tensor([0., 0., 1., 0.])\n",
      "ce_loss : 1.0589637756347656\n"
     ]
    }
   ],
   "source": [
    "#식 직접 구현\n",
    "output =torch.tensor([[0.1, 0.2, 0.6, 0.1]],dtype=torch.float)\n",
    "target = torch.tensor([0.0, 0.0, 1.0, 0.0])\n",
    "softmax = nn.functional.softmax(output, dim=1)\n",
    "print('output : ', output)\n",
    "print('softmax :', softmax)\n",
    "print('target : ', target)\n",
    "ce_loss= -torch.sum(target*torch.log(softmax))\n",
    "print('ce_loss :', ce_loss.item())"
   ]
  },
  {
   "cell_type": "code",
   "execution_count": 42,
   "metadata": {
    "colab": {
     "base_uri": "https://localhost:8080/"
    },
    "id": "jj2ayAuxP2ja",
    "outputId": "03d73a4e-2b93-442c-8b09-f29a258e29e6"
   },
   "outputs": [
    {
     "name": "stdout",
     "output_type": "stream",
     "text": [
      "bce_loss : 0.12692803144454956\n"
     ]
    }
   ],
   "source": [
    "#binary target\n",
    "output =torch.tensor([6, 4],dtype=torch.float)\n",
    "target = torch.tensor([1.0, 0.0])\n",
    "softmax = nn.functional.softmax(output, dim=0)\n",
    "bce_loss = nn.BCELoss()\n",
    "loss = bce_loss(softmax, target)\n",
    "print('bce_loss :', loss.item())"
   ]
  },
  {
   "cell_type": "code",
   "execution_count": 43,
   "metadata": {
    "colab": {
     "base_uri": "https://localhost:8080/"
    },
    "id": "x1yMx6XGRPQJ",
    "outputId": "3a25b652-2d34-4f83-a25b-ba9b523adfa4"
   },
   "outputs": [
    {
     "name": "stdout",
     "output_type": "stream",
     "text": [
      "output :  tensor([6., 4.])\n",
      "softmax : tensor([0.8808, 0.1192])\n",
      "target :  tensor([1., 0.])\n",
      "bce_loss : 0.12692806124687195\n"
     ]
    }
   ],
   "source": [
    "#직접 구현\n",
    "output =torch.tensor([6, 4],dtype=torch.float)\n",
    "target = torch.tensor([1.0, 0.0])\n",
    "softmax = nn.functional.softmax(output, dim=0)\n",
    "print('output : ', output)\n",
    "print('softmax :', softmax)\n",
    "print('target : ', target)\n",
    "bce_loss= -torch.sum(target*torch.log(softmax))\n",
    "print('bce_loss :', bce_loss.item())"
   ]
  },
  {
   "cell_type": "code",
   "execution_count": 44,
   "metadata": {
    "colab": {
     "base_uri": "https://localhost:8080/"
    },
    "id": "OJEZVItdRTSC",
    "outputId": "555c34ea-883a-4199-a4ef-244f622b92ef"
   },
   "outputs": [
    {
     "name": "stdout",
     "output_type": "stream",
     "text": [
      "tensor([0.6614, 0.2669, 0.0617, 0.6213], requires_grad=True)\n",
      "tensor([1., 0., 0., 1.])\n",
      "sigmoid :  tensor([0.6596, 0.5663, 0.5154, 0.6505], grad_fn=<SigmoidBackward0>)\n",
      "bce_loss :  tensor(0.6015, grad_fn=<BinaryCrossEntropyBackward0>)\n"
     ]
    }
   ],
   "source": [
    "#배치 4개, 클래스 2개\n",
    "torch.manual_seed(1)\n",
    "\n",
    "m = nn.Sigmoid()\n",
    "bce_loss = nn.BCELoss()\n",
    "input = torch.randn(4, requires_grad=True)\n",
    "print(input)\n",
    "target = torch.empty(4).random_(2)\n",
    "print(target)\n",
    "print('sigmoid : ', m(input))\n",
    "loss = bce_loss(m(input), target)\n",
    "print('bce_loss : ', loss)"
   ]
  },
  {
   "cell_type": "code",
   "execution_count": 46,
   "metadata": {
    "colab": {
     "base_uri": "https://localhost:8080/"
    },
    "id": "pVQwLEkhSY8s",
    "outputId": "00d0da1d-a84a-43b6-8eb1-dcacee90df8f"
   },
   "outputs": [
    {
     "name": "stdout",
     "output_type": "stream",
     "text": [
      "tensor([0.6614, 0.2669, 0.0617, 0.6213], requires_grad=True)\n",
      "tensor([1., 0., 0., 1.])\n",
      "sigmoid :  tensor([0.6596, 0.5663, 0.5154, 0.6505], grad_fn=<SigmoidBackward0>)\n",
      "bce_loss :  tensor(0.6015, grad_fn=<DivBackward0>)\n"
     ]
    }
   ],
   "source": [
    "# 직접 구현\n",
    "torch.manual_seed(1)\n",
    "\n",
    "m = nn.Sigmoid()\n",
    "input = torch.randn(4, requires_grad=True)\n",
    "print(input)\n",
    "target = torch.empty(4).random_(2)\n",
    "print(target)\n",
    "#크로스엔트로피 계산하는 함수\n",
    "def BCE(input, target):\n",
    "    total_bce_loss = torch.sum(-target * torch.log(m(input)) - (1 - target) * torch.log(1 - m(input)))\n",
    "    num_of_samples = input.shape[0]\n",
    "    mean_bce_loss = total_bce_loss / num_of_samples\n",
    "    return mean_bce_loss\n",
    "print('sigmoid : ', m(input))\n",
    "loss = BCE(input, target)\n",
    "print('bce_loss : ', loss)"
   ]
  },
  {
   "cell_type": "markdown",
   "metadata": {
    "id": "TwXv6Ja1S9Y8"
   },
   "source": [
    "4.4 머신러닝을 이용한 분류모델의 성능 평가"
   ]
  },
  {
   "cell_type": "code",
   "execution_count": 47,
   "metadata": {
    "id": "Ujga4UsJSpgj"
   },
   "outputs": [],
   "source": [
    "#ROC 곡선 그리기\n",
    "fpr = np.array([1, 0.5, 0.25, 0.25, 0, 0])\n",
    "tpr = np.array([1, 1, 0.5, 0.33, 0.33, 0])"
   ]
  },
  {
   "cell_type": "code",
   "execution_count": 48,
   "metadata": {
    "colab": {
     "base_uri": "https://localhost:8080/",
     "height": 472
    },
    "id": "HxnL_mCvWCmf",
    "outputId": "bc79c7f5-86ed-4054-8868-7c3a89378c9a"
   },
   "outputs": [
    {
     "data": {
      "image/png": "[encoded data removed]",
      "text/plain": [
       "<Figure size 640x480 with 1 Axes>"
      ]
     },
     "metadata": {},
     "output_type": "display_data"
    }
   ],
   "source": [
    "import matplotlib.pyplot as plt\n",
    "plt.title('Recevier Operating Characteristic')\n",
    "plt.plot(fpr, tpr, 'b')\n",
    "plt.plot([0,1],[0,1],'r--')\n",
    "plt.xlim([-0.01,1.01])\n",
    "plt.ylim([-0.01,1.01])\n",
    "plt.xlabel('False Positive Rate')\n",
    "plt.ylabel('True Positive Rate')\n",
    "plt.show()\n",
    "\n",
    "#임계값을 더 세분하면 더 부드러운 곡선 얻을 수 있음"
   ]
  },
  {
   "cell_type": "code",
   "execution_count": 49,
   "metadata": {
    "colab": {
     "base_uri": "https://localhost:8080/"
    },
    "id": "vGN_uYvGWYKA",
    "outputId": "cd117d2e-b708-49ba-b3b3-8640f1addd23"
   },
   "outputs": [
    {
     "name": "stdout",
     "output_type": "stream",
     "text": [
      "FPR :  [0.  0.  0.5 0.5 1. ]\n",
      "TPR :  [0.  0.5 0.5 1.  1. ]\n",
      "thresholds : [1.8  0.8  0.4  0.35 0.1 ]\n"
     ]
    }
   ],
   "source": [
    "#scikit-learn 이용한 ROC 곡선\n",
    "from sklearn import metrics\n",
    "\n",
    "y_true = np.array([1, 1, 2, 2])\n",
    "y_score = np.array([0.1, 0.4, 0.35, 0.8])\n",
    "fpr, tpr, thresholds = metrics.roc_curve(y_true, y_score, pos_label=2)\n",
    "print(\"FPR : \", fpr)\n",
    "print(\"TPR : \", tpr)\n",
    "print(\"thresholds :\", thresholds)"
   ]
  },
  {
   "cell_type": "code",
   "execution_count": 50,
   "metadata": {
    "colab": {
     "base_uri": "https://localhost:8080/",
     "height": 472
    },
    "id": "ljvb99bYW_Jj",
    "outputId": "cda8fab4-7860-488c-dd42-2322ebb92b4a"
   },
   "outputs": [
    {
     "data": {
      "image/png": "[encoded data removed]",
      "text/plain": [
       "<Figure size 640x480 with 1 Axes>"
      ]
     },
     "metadata": {},
     "output_type": "display_data"
    }
   ],
   "source": [
    "#ROC 커브 확인\n",
    "auc = metrics.roc_auc_score(y_true, y_score)\n",
    "\n",
    "plt.title('ROC curve')\n",
    "plt.plot(fpr, tpr, label=\"AUC = \"+str(auc))\n",
    "plt.legend(loc=4)\n",
    "plt.xlabel('False Positive Rate')\n",
    "plt.ylabel('True Positive Rate')\n",
    "plt.show()"
   ]
  },
  {
   "cell_type": "code",
   "execution_count": 52,
   "metadata": {
    "colab": {
     "base_uri": "https://localhost:8080/"
    },
    "id": "48pF33r3XExS",
    "outputId": "c7c448f9-093d-4481-d3d9-7b5eb9d29c23"
   },
   "outputs": [
    {
     "name": "stdout",
     "output_type": "stream",
     "text": [
      "    BMI  diabetic\n",
      "0  33.6         1\n",
      "1  26.6         0\n",
      "2  28.1         0\n",
      "3  31.0         1\n",
      "4  30.5         1\n"
     ]
    }
   ],
   "source": [
    "#BMI, diabetic 데이터 생성\n",
    "BMI = [33.6, 26.6, 28.1, 31.0, 30.5, 25.8, 45.8, 43.3, 39.3, 29.0, ]\n",
    "diabetic = [1, 0, 0, 1, 1,  0, 1, 1, 0, 1]\n",
    "\n",
    "df = pd.DataFrame(\n",
    "    {\"BMI\": BMI, \"diabetic\": diabetic}\n",
    ")\n",
    "\n",
    "print(df.head())"
   ]
  },
  {
   "cell_type": "code",
   "execution_count": 53,
   "metadata": {
    "id": "4sKiWMn7XRu_"
   },
   "outputs": [],
   "source": [
    "X = df[['BMI']]\n",
    "Y = df['diabetic']"
   ]
  },
  {
   "cell_type": "code",
   "execution_count": 54,
   "metadata": {
    "colab": {
     "base_uri": "https://localhost:8080/",
     "height": 75
    },
    "id": "yfUoXyO9XUcB",
    "outputId": "949de375-465e-4a28-aa93-62b89d99b78b"
   },
   "outputs": [
    {
     "data": {
      "text/plain": [
       "LogisticRegression(random_state=0)"
      ]
     },
     "execution_count": 54,
     "metadata": {},
     "output_type": "execute_result"
    }
   ],
   "source": [
    "#로지스틱회귀모형 생성하고 학습\n",
    "model = LogisticRegression(random_state = 0)\n",
    "model.fit(X,Y)"
   ]
  },
  {
   "cell_type": "code",
   "execution_count": 55,
   "metadata": {
    "colab": {
     "base_uri": "https://localhost:8080/"
    },
    "id": "TSWUt6GiXbfO",
    "outputId": "bf084b7e-fd88-499f-d544-f6ea1f6df164"
   },
   "outputs": [
    {
     "name": "stdout",
     "output_type": "stream",
     "text": [
      "[-4.58162116]\n",
      "[0.15420755]\n"
     ]
    }
   ],
   "source": [
    "#계수, 기울기 확인\n",
    "print(model.intercept_)\n",
    "print(model.coef_[0])"
   ]
  },
  {
   "cell_type": "code",
   "execution_count": 56,
   "metadata": {
    "id": "dE7PuwuTXgYD"
   },
   "outputs": [],
   "source": [
    "#시그모이드 함수 선언\n",
    "def sigmoid(x):\n",
    "  return 1/ (1 + np.exp(-(x)))"
   ]
  },
  {
   "cell_type": "code",
   "execution_count": 57,
   "metadata": {
    "colab": {
     "base_uri": "https://localhost:8080/"
    },
    "id": "XwkiAyW-XrCV",
    "outputId": "cea59ad4-21b8-44b1-9c0a-c2f4b807a84a"
   },
   "outputs": [
    {
     "name": "stdout",
     "output_type": "stream",
     "text": [
      "        BMI\n",
      "0  0.645600\n",
      "1  0.382323\n",
      "2  0.438220\n",
      "3  0.549540\n",
      "4  0.530390\n",
      "5  0.353642\n",
      "6  0.922805\n",
      "7  0.890471\n",
      "8  0.814382\n",
      "9  0.472627\n"
     ]
    }
   ],
   "source": [
    "y_pred_prob = sigmoid(model.coef_[0]*X+model.intercept_)\n",
    "print(y_pred_prob)"
   ]
  },
  {
   "cell_type": "code",
   "execution_count": 58,
   "metadata": {
    "colab": {
     "base_uri": "https://localhost:8080/",
     "height": 490
    },
    "id": "Fvu1Tj2hXvNO",
    "outputId": "fd478724-248a-43b5-fd74-2e1102203f95"
   },
   "outputs": [
    {
     "name": "stdout",
     "output_type": "stream",
     "text": [
      "thresholds= [1.9228051  0.9228051  0.89047145 0.81438152 0.47262685 0.35364247]\n"
     ]
    },
    {
     "data": {
      "image/png": "[encoded data removed]",
      "text/plain": [
       "<Figure size 640x480 with 1 Axes>"
      ]
     },
     "metadata": {},
     "output_type": "display_data"
    }
   ],
   "source": [
    "#ROC 커브 확인\n",
    "plt.title('ROC curve')\n",
    "fpr, tpr, thresholds = metrics.roc_curve(Y,  y_pred_prob)\n",
    "print('thresholds=', thresholds)\n",
    "auc = metrics.roc_auc_score(Y, y_pred_prob)\n",
    "auc = round(auc,4) \n",
    "plt.plot(fpr,tpr,label=\"auc=\"+str(auc))\n",
    "plt.legend(loc=4)\n",
    "plt.xlabel('False Positive Rate')\n",
    "plt.ylabel('True Positive Rate')\n",
    "plt.show()"
   ]
  },
  {
   "cell_type": "code",
   "execution_count": 59,
   "metadata": {
    "colab": {
     "base_uri": "https://localhost:8080/",
     "height": 75
    },
    "id": "KjKuQFC4YKhU",
    "outputId": "6b8ee7f2-7b1c-4653-d73c-5700c1265f99"
   },
   "outputs": [
    {
     "data": {
      "text/plain": [
       "LogisticRegression(random_state=0)"
      ]
     },
     "execution_count": 59,
     "metadata": {},
     "output_type": "execute_result"
    }
   ],
   "source": [
    "#좀 더 세련된 코드\n",
    "BMI = [33.6, 26.6, 28.1, 31.0, 30.5, 25.8, 45.8, 43.3, 39.3, 29.0, ]\n",
    "diabetic = [1, 0, 0, 1, 1,  0, 1, 1, 0, 1]\n",
    "\n",
    "df = pd.DataFrame(\n",
    "    {\"BMI\": BMI, \"diabetic\": diabetic}\n",
    ")\n",
    "\n",
    "X = df[['BMI']]\n",
    "Y = df['diabetic']\n",
    "\n",
    "model = LogisticRegression(random_state=0)\n",
    "model.fit(X, Y)"
   ]
  },
  {
   "cell_type": "code",
   "execution_count": 60,
   "metadata": {
    "colab": {
     "base_uri": "https://localhost:8080/",
     "height": 633
    },
    "id": "m3hlBqzNYV5G",
    "outputId": "6a0a6152-a7d5-4334-fb31-0b16c421e495"
   },
   "outputs": [
    {
     "name": "stdout",
     "output_type": "stream",
     "text": [
      "prediced probability shape= (10, 2)\n",
      "prediced probability =\n",
      " [[0.35440031 0.64559969]\n",
      " [0.61767711 0.38232289]\n",
      " [0.56177994 0.43822006]\n",
      " [0.45045984 0.54954016]\n",
      " [0.46961022 0.53038978]]\n",
      "y=1, prediced probability = [0.64559969 0.38232289 0.43822006 0.54954016 0.53038978]\n",
      "threshold = [1.9228051  0.9228051  0.89047145 0.81438152 0.47262685 0.35364247]\n"
     ]
    },
    {
     "data": {
      "image/png": "[encoded data removed]",
      "text/plain": [
       "<Figure size 640x480 with 1 Axes>"
      ]
     },
     "metadata": {},
     "output_type": "display_data"
    }
   ],
   "source": [
    "plt.title('ROC curve')\n",
    "y_pred_proba = model.predict_proba(X)\n",
    "print(\"prediced probability shape=\", y_pred_proba.shape)\n",
    "print(\"prediced probability =\\n\", y_pred_proba[0:5,:])\n",
    "# 레이블 값이 1일때의 예측 확률을 추출 \n",
    "y_pred_proba = model.predict_proba(X)[:,1]\n",
    "print(\"y=1, prediced probability =\", y_pred_proba[0:5])\n",
    "fpr, tpr, thresholds = metrics.roc_curve(Y,  y_pred_proba)\n",
    "print(\"threshold =\", thresholds)\n",
    "auc = metrics.roc_auc_score(Y, y_pred_proba)\n",
    "auc = round(auc,4) \n",
    "plt.plot(fpr,tpr,label=\"auc=\"+str(auc))\n",
    "plt.legend(loc=4)\n",
    "plt.xlabel('False Positive Rate')\n",
    "plt.ylabel('True Positive Rate')\n",
    "plt.show()"
   ]
  },
  {
   "cell_type": "markdown",
   "metadata": {
    "id": "yIZqSHVEYsOt"
   },
   "source": [
    "예제 4.4"
   ]
  },
  {
   "cell_type": "code",
   "execution_count": 61,
   "metadata": {
    "id": "zwGPzJxEYr3R"
   },
   "outputs": [],
   "source": [
    "df = pd.read_csv('student_admission_train.csv', index_col = 0)\n",
    "\n",
    "X = df.drop('admitted' , axis = 1).values\n",
    "y = df['admitted'].values"
   ]
  },
  {
   "cell_type": "code",
   "execution_count": 63,
   "metadata": {
    "colab": {
     "base_uri": "https://localhost:8080/"
    },
    "id": "O-4PKxsMY653",
    "outputId": "8c28b496-afb6-4e56-80d7-e5a412df6e2c"
   },
   "outputs": [
    {
     "name": "stdout",
     "output_type": "stream",
     "text": [
      "epoch= 5000 a= [[-3.1317426e-03]\n",
      " [ 3.3428986e+00]\n",
      " [ 1.0126784e+00]] b= [-12.673044] loss= 0.2507648\n",
      "epoch= 10000 a= [[1.7445625e-03]\n",
      " [3.3263445e+00]\n",
      " [1.0008180e+00]] b= [-15.801152] loss= 0.24743111\n"
     ]
    }
   ],
   "source": [
    "#파이토치 사용해서 모델 생성하고 학습 진행\n",
    "device = torch.device(\"cuda\" if torch.cuda.is_available() else \"cpu\")\n",
    "\n",
    "X_tensor = torch.FloatTensor(X).to(device)\n",
    "y_tensor = torch.FloatTensor(y).view(-1,1).to(device)\n",
    "\n",
    "torch.manual_seed(1)\n",
    "\n",
    "#원래는 randn 으로!\n",
    "W = torch.zeros((3, 1), device=device, requires_grad=True)\n",
    "b = torch.zeros(1, device=device, requires_grad=True)\n",
    "\n",
    "learning_rate =0.01\n",
    "optimizer=torch.optim.Adam([W,b],lr=learning_rate)\n",
    "\n",
    "epochs=10000\n",
    "for epoch in range(epochs):\n",
    "    y_pred = torch.sigmoid(X_tensor.matmul(W)+ b).to(device) \n",
    "    #파이토치의 크로스엔트로피 함수 사용\n",
    "    loss = F.binary_cross_entropy(y_pred, y_tensor)\n",
    "   \n",
    "    optimizer.zero_grad()\n",
    "    loss.backward()\n",
    "    optimizer.step()\n",
    "   \n",
    "    if (epoch+1) % 5000 == 0:\n",
    "        print('epoch=',epoch+1, 'a=',W.detach().cpu().numpy(),\n",
    "              'b=', b.detach().cpu().numpy(), 'loss=',loss.detach().cpu().numpy())"
   ]
  },
  {
   "cell_type": "code",
   "execution_count": 65,
   "metadata": {
    "colab": {
     "base_uri": "https://localhost:8080/"
    },
    "id": "AMd8feRJZQdP",
    "outputId": "d95e764a-e27d-487d-f1c6-c18b1e704151"
   },
   "outputs": [
    {
     "name": "stdout",
     "output_type": "stream",
     "text": [
      "tensor([[2.4340e-03],\n",
      "        [2.5344e-02],\n",
      "        [2.4015e-02],\n",
      "        [5.9896e-02],\n",
      "        [8.2368e-04],\n",
      "        [6.0710e-01],\n",
      "        [3.8262e-01],\n",
      "        [2.2818e-02],\n",
      "        [7.9676e-01],\n",
      "        [9.7702e-01]], grad_fn=<SigmoidBackward0>)\n",
      "[[0]\n",
      " [0]\n",
      " [0]\n",
      " [0]\n",
      " [0]\n",
      " [1]\n",
      " [0]\n",
      " [0]\n",
      " [1]\n",
      " [1]]\n"
     ]
    }
   ],
   "source": [
    "#성능 평가\n",
    "df2 = pd.read_csv('student_admission_test.csv', index_col = 0)\n",
    "\n",
    "X_test = df2.drop('admitted' , axis = 1).values\n",
    "y_test = df2['admitted'].values\n",
    "\n",
    "X_tensor = torch.FloatTensor(X_test).to(device)\n",
    "y_tensor = torch.FloatTensor(y_test).to(device)\n",
    "\n",
    "threshold = 0.5\n",
    "y_pred = torch.sigmoid(X_tensor.matmul(W)+ b).to(device)\n",
    "print(y_pred)\n",
    "\n",
    "prediction = (y_pred.detach().cpu().numpy() > threshold).astype(np.int8) \n",
    "print(prediction)"
   ]
  },
  {
   "cell_type": "code",
   "execution_count": 68,
   "metadata": {
    "colab": {
     "base_uri": "https://localhost:8080/"
    },
    "id": "-jSN22SXZusj",
    "outputId": "a76ae36a-802a-4142-acda-a12b285a64ab"
   },
   "outputs": [
    {
     "name": "stdout",
     "output_type": "stream",
     "text": [
      "Confusion Matrix : \n",
      " [[6 0]\n",
      " [1 3]]\n",
      "Precision :  1.0\n",
      "Sensitivity :  0.75\n",
      "Specificity :  1.0\n",
      "Accuracy :  0.9\n"
     ]
    }
   ],
   "source": [
    "from sklearn.metrics import confusion_matrix\n",
    "# confusion matrix\n",
    "# confusino matrix 사용하여 정밀도, 민감도, 특이도, 정확도 확인\n",
    "confusion_matrix = confusion_matrix(y_test, prediction)\n",
    "TN=confusion_matrix[0][0]\n",
    "FP=confusion_matrix[0][1]\n",
    "FN=confusion_matrix[1][0]\n",
    "TP=confusion_matrix[1][1]\n",
    "precision= TP/(TP+FP)\n",
    "sensitivity=TP/(TP+FN)\n",
    "specificity=TN/(FP+TN)\n",
    "accuracy=(TP+TN)/(TP+TN+FP+FN)\n",
    "print (\"Confusion Matrix : \\n\", confusion_matrix)\n",
    "print (\"Precision : \", precision)\n",
    "print (\"Sensitivity : \", sensitivity)\n",
    "print (\"Specificity : \", specificity)\n",
    "print (\"Accuracy : \", accuracy)"
   ]
  },
  {
   "cell_type": "code",
   "execution_count": 69,
   "metadata": {
    "colab": {
     "base_uri": "https://localhost:8080/"
    },
    "id": "6RaJJLaNaKHB",
    "outputId": "cee80145-31f6-46a7-c93a-5a6e6e2052b3"
   },
   "outputs": [
    {
     "name": "stdout",
     "output_type": "stream",
     "text": [
      "Accuracy : 0.9\n",
      "Precision : 1.0\n",
      "Sensitivity : 0.75\n"
     ]
    }
   ],
   "source": [
    "#sklearn.metrics 모듈에서 제공되는 함수로 구하기\n",
    "from sklearn.metrics import accuracy_score, precision_score, recall_score\n",
    "print(\"Accuracy :\",metrics.accuracy_score(y_test, prediction))\n",
    "print(\"Precision :\",metrics.precision_score(y_test, prediction))\n",
    "print(\"Sensitivity :\",metrics.recall_score(y_test, prediction))"
   ]
  },
  {
   "cell_type": "code",
   "execution_count": 70,
   "metadata": {
    "colab": {
     "base_uri": "https://localhost:8080/",
     "height": 472
    },
    "id": "Ur8X3wtUaRKy",
    "outputId": "3ebc2c85-c53d-4d38-e9d0-0f0203ffd8da"
   },
   "outputs": [
    {
     "data": {
      "image/png": "[encoded data removed]",
      "text/plain": [
       "<Figure size 640x480 with 1 Axes>"
      ]
     },
     "metadata": {},
     "output_type": "display_data"
    }
   ],
   "source": [
    "fpr, tpr, _ = metrics.roc_curve(y_test, y_pred.detach().cpu().numpy())\n",
    "auc = metrics.roc_auc_score(y_test, y_pred.detach().cpu().numpy())\n",
    "plt.plot(fpr, tpr, label=\"AUC =\"+str(auc))\n",
    "plt.legend(loc=4)\n",
    "plt.title(\"ROC Curve\")\n",
    "plt.ylabel('True Positive Rate')\n",
    "plt.xlabel('False Positive Rate')\n",
    "plt.show()\n",
    "#완벽한 분류 모델 의미!"
   ]
  },
  {
   "cell_type": "markdown",
   "metadata": {
    "id": "EHUDFSL6adEk"
   },
   "source": [
    "예제 4.5"
   ]
  },
  {
   "cell_type": "code",
   "execution_count": 71,
   "metadata": {
    "id": "yCbLJ0rTamkj"
   },
   "outputs": [],
   "source": [
    "#scikit-learn 이용\n",
    "pima = pd.read_csv('pima-indians-diabetes.csv')\n",
    "\n",
    "X = pima[['Pregnancies', 'Glucose','BloodPressure','SkinThickness','Insulin','BMI','DiabetesPedigreeFunction','Age']]\n",
    "y = pima['Outcome']"
   ]
  },
  {
   "cell_type": "code",
   "execution_count": 72,
   "metadata": {
    "id": "SZ-48Y8LdpJh"
   },
   "outputs": [],
   "source": [
    "from sklearn.model_selection import train_test_split\n",
    "X_train,X_test,y_train,y_test=train_test_split(X,y,test_size=0.25,random_state=0)"
   ]
  },
  {
   "cell_type": "code",
   "execution_count": 73,
   "metadata": {
    "colab": {
     "base_uri": "https://localhost:8080/",
     "height": 238
    },
    "id": "Lm8mvMSEdxNr",
    "outputId": "5df9dc72-a389-4243-fb52-3e62257a3781"
   },
   "outputs": [
    {
     "name": "stderr",
     "output_type": "stream",
     "text": [
      "C:\\Anaconda\\lib\\site-packages\\sklearn\\linear_model\\_logistic.py:814: ConvergenceWarning: lbfgs failed to converge (status=1):\n",
      "STOP: TOTAL NO. of ITERATIONS REACHED LIMIT.\n",
      "\n",
      "Increase the number of iterations (max_iter) or scale the data as shown in:\n",
      "    https://scikit-learn.org/stable/modules/preprocessing.html\n",
      "Please also refer to the documentation for alternative solver options:\n",
      "    https://scikit-learn.org/stable/modules/linear_model.html#logistic-regression\n",
      "  n_iter_i = _check_optimize_result(\n"
     ]
    },
    {
     "data": {
      "text/plain": [
       "LogisticRegression()"
      ]
     },
     "execution_count": 73,
     "metadata": {},
     "output_type": "execute_result"
    }
   ],
   "source": [
    "# instantiate the model (using the default parameters)\n",
    "model = LogisticRegression()\n",
    "\n",
    "# fit the model with data\n",
    "model.fit(X_train,y_train)"
   ]
  },
  {
   "cell_type": "code",
   "execution_count": 74,
   "metadata": {
    "id": "ohKG3ciod2st"
   },
   "outputs": [],
   "source": [
    "#prediction\n",
    "y_pred = model.predict(X_test)"
   ]
  },
  {
   "cell_type": "code",
   "execution_count": 75,
   "metadata": {
    "colab": {
     "base_uri": "https://localhost:8080/"
    },
    "id": "TLWgdT0od7VQ",
    "outputId": "90d2033b-8bab-45f0-889c-6dc95f979b68"
   },
   "outputs": [
    {
     "name": "stdout",
     "output_type": "stream",
     "text": [
      "Confusion Matrix : \n",
      " [[115  15]\n",
      " [ 25  37]]\n",
      "Precision :  0.7115\n",
      "Sensitivity :  0.5968\n",
      "Specificity :  0.8846\n",
      "Accuracy :  0.7917\n"
     ]
    }
   ],
   "source": [
    "#confusion matrix\n",
    "confusion_matrix = metrics.confusion_matrix(y_test, y_pred)\n",
    "TN=confusion_matrix[0][0]\n",
    "FP=confusion_matrix[0][1]\n",
    "FN=confusion_matrix[1][0]\n",
    "TP=confusion_matrix[1][1]\n",
    "precision= TP/(TP+FP)\n",
    "sensitivity=TP/(TP+FN)\n",
    "specificity=TN/(FP+TN)\n",
    "accuracy=(TP+TN)/(TP+TN+FP+FN)\n",
    "print(\"Confusion Matrix : \\n\", confusion_matrix)\n",
    "print(\"Precision : \", round(precision,4))\n",
    "print(\"Sensitivity : \", round(sensitivity,4))\n",
    "print(\"Specificity : \", round(specificity,4))\n",
    "print(\"Accuracy : \", round(accuracy,4))"
   ]
  },
  {
   "cell_type": "code",
   "execution_count": 76,
   "metadata": {
    "colab": {
     "base_uri": "https://localhost:8080/",
     "height": 597
    },
    "id": "20D9tIFRd-mA",
    "outputId": "94491cc6-5a22-43ec-df57-03067dafa60f"
   },
   "outputs": [
    {
     "name": "stdout",
     "output_type": "stream",
     "text": [
      "(192, 2)\n",
      "[[0.0256825  0.9743175 ]\n",
      " [0.83974778 0.16025222]\n",
      " [0.92321132 0.07678868]\n",
      " [0.31945504 0.68054496]\n",
      " [0.877972   0.122028  ]]\n",
      "[0.9743175  0.16025222 0.07678868 0.68054496 0.122028  ]\n"
     ]
    },
    {
     "data": {
      "image/png": "[encoded data removed]",
      "text/plain": [
       "<Figure size 640x480 with 1 Axes>"
      ]
     },
     "metadata": {},
     "output_type": "display_data"
    }
   ],
   "source": [
    "#ROC 및 AUC 곡선\n",
    "y_pred_proba = model.predict_proba(X_test)\n",
    "print(y_pred_proba.shape)\n",
    "print(y_pred_proba[0:5,:])\n",
    "# 레이블 값이 1일때의 예측 확률을 추출 \n",
    "y_pred_proba = model.predict_proba(X_test)[:,1]\n",
    "print(y_pred_proba[0:5])\n",
    "fpr, tpr, thresholds = metrics.roc_curve(y_test, y_pred_proba)\n",
    "auc = metrics.roc_auc_score(y_test, y_pred_proba)\n",
    "auc =round(auc, 4)\n",
    "plt.plot(fpr, tpr, label=\"AUC =\"+str(auc))\n",
    "plt.legend(loc=4)\n",
    "plt.title(\"ROC Curve\")\n",
    "plt.ylabel('True Positive Rate')\n",
    "plt.xlabel('False Positive Rate')\n",
    "plt.show()"
   ]
  },
  {
   "cell_type": "code",
   "execution_count": 78,
   "metadata": {
    "colab": {
     "base_uri": "https://localhost:8080/"
    },
    "id": "Hq_X6ioPeOu_",
    "outputId": "42628ee8-0343-4785-f34b-18e0d224d87a"
   },
   "outputs": [
    {
     "name": "stdout",
     "output_type": "stream",
     "text": [
      "   Pregnancies  Glucose  BloodPressure  SkinThickness  Insulin   BMI  \\\n",
      "0            6      148             72             35        0  33.6   \n",
      "1            1       85             66             29        0  26.6   \n",
      "2            8      183             64              0        0  23.3   \n",
      "3            1       89             66             23       94  28.1   \n",
      "4            0      137             40             35      168  43.1   \n",
      "\n",
      "   DiabetesPedigreeFunction  Age  Outcome  \n",
      "0                     0.627   50        1  \n",
      "1                     0.351   31        0  \n",
      "2                     0.672   32        1  \n",
      "3                     0.167   21        0  \n",
      "4                     2.288   33        1  \n"
     ]
    }
   ],
   "source": [
    "#파이토치 이용\n",
    "pima = pd.read_csv('pima-indians-diabetes.csv')\n",
    "print(pima.head())\n",
    "\n",
    "X = pima.drop('Outcome' , axis = 1).values\n",
    "y = pima['Outcome'].values "
   ]
  },
  {
   "cell_type": "code",
   "execution_count": 79,
   "metadata": {
    "colab": {
     "base_uri": "https://localhost:8080/"
    },
    "id": "2rne5dSOe7sU",
    "outputId": "10a8cc95-e6a2-402b-ea19-a16fb736535d"
   },
   "outputs": [
    {
     "name": "stdout",
     "output_type": "stream",
     "text": [
      "torch.Size([576, 8])\n",
      "torch.Size([576, 1])\n"
     ]
    }
   ],
   "source": [
    "device = torch.device(\"cuda\" if torch.cuda.is_available() else \"cpu\")\n",
    "\n",
    "from sklearn.model_selection import train_test_split\n",
    "X_train,X_test,y_train,y_test = train_test_split(X,y , test_size =0.25,random_state=0)\n",
    "\n",
    "# Creating Tensors\n",
    "X_train=torch.FloatTensor(X_train).to(device)\n",
    "X_test=torch.FloatTensor(X_test).to(device)\n",
    "y_train=torch.FloatTensor(y_train).view(-1,1).to(device)\n",
    "y_test=torch.FloatTensor(y_test).view(-1,1).to(device)\n",
    "\n",
    "print(X_train.shape)\n",
    "print(y_train.shape)\n",
    "\n",
    "import torch\n",
    "from torch import sigmoid\n",
    "import torch.nn.functional as F\n",
    "\n",
    "W = torch.zeros((8, 1),device=device, requires_grad=True)\n",
    "b = torch.zeros(1, device=device, requires_grad=True)"
   ]
  },
  {
   "cell_type": "code",
   "execution_count": 80,
   "metadata": {
    "colab": {
     "base_uri": "https://localhost:8080/"
    },
    "id": "J2zTx7HhfD0m",
    "outputId": "64b8a196-f7cd-4aaa-da7a-5bf1d4e23302"
   },
   "outputs": [
    {
     "name": "stdout",
     "output_type": "stream",
     "text": [
      "epoch= 1000 a= [[ 8.3903380e-02]\n",
      " [ 2.2933830e-02]\n",
      " [-1.8483382e-02]\n",
      " [ 5.4355571e-03]\n",
      " [-3.6933174e-04]\n",
      " [ 4.2829316e-02]\n",
      " [ 5.6375259e-01]\n",
      " [ 8.6207855e-03]] b= [-4.4469104] loss= 0.5074573\n",
      "epoch= 2000 a= [[ 8.5417539e-02]\n",
      " [ 3.0134091e-02]\n",
      " [-1.3203008e-02]\n",
      " [ 5.9247133e-03]\n",
      " [-6.3663686e-04]\n",
      " [ 7.3381811e-02]\n",
      " [ 7.8555828e-01]\n",
      " [ 1.8081060e-02]] b= [-7.151678] loss= 0.48512304\n",
      "epoch= 3000 a= [[ 0.08653622]\n",
      " [ 0.03248981]\n",
      " [-0.01168014]\n",
      " [ 0.00595997]\n",
      " [-0.00087583]\n",
      " [ 0.08430726]\n",
      " [ 0.86665976]\n",
      " [ 0.02112634]] b= [-8.09872] loss= 0.48283917\n"
     ]
    }
   ],
   "source": [
    "optimizer=torch.optim.Adam([W,b],lr=0.01)\n",
    "epochs=3000\n",
    "for epoch in range(epochs):\n",
    "    y_pred = torch.sigmoid(X_train.matmul(W)+ b).to(device)   \n",
    "    loss = F.binary_cross_entropy(y_pred, y_train)\n",
    "\n",
    "    optimizer.zero_grad()\n",
    "    loss.backward()\n",
    "    optimizer.step()\n",
    "   \n",
    "    if (epoch+1) % 1000 == 0:\n",
    "        print('epoch=',epoch+1, 'a=', W.detach().cpu().numpy(),\n",
    "              'b=', b.detach().cpu().numpy(), 'loss=',loss.detach().cpu().numpy())"
   ]
  },
  {
   "cell_type": "code",
   "execution_count": 81,
   "metadata": {
    "id": "2h8VQcvjfLAD"
   },
   "outputs": [],
   "source": [
    "y_pred = torch.sigmoid(X_test.matmul(W)+ b).to(device)\n",
    "prediction = y_pred >= torch.FloatTensor([0.5]).to(device)"
   ]
  },
  {
   "cell_type": "code",
   "execution_count": 82,
   "metadata": {
    "colab": {
     "base_uri": "https://localhost:8080/"
    },
    "id": "N7AOoT16fOtX",
    "outputId": "2513b740-d3c4-4b10-98c5-743bcae0573a"
   },
   "outputs": [
    {
     "name": "stdout",
     "output_type": "stream",
     "text": [
      "Confusion Matrix : \n",
      " [[117  13]\n",
      " [ 26  36]]\n",
      "Precision :  0.7347\n",
      "Sensitivity :  0.5806\n",
      "Specificity :  0.9\n",
      "Accuracy :  0.7969\n"
     ]
    }
   ],
   "source": [
    "#confusion matrix\n",
    "confusion_matrix = metrics.confusion_matrix(y_test.cpu().numpy(), prediction.cpu().numpy())\n",
    "TN=confusion_matrix[0][0]\n",
    "FP=confusion_matrix[0][1]\n",
    "FN=confusion_matrix[1][0]\n",
    "TP=confusion_matrix[1][1]\n",
    "precision= TP/(TP+FP)\n",
    "sensitivity=TP/(TP+FN)\n",
    "specificity=TN/(FP+TN)\n",
    "accuracy=(TP+TN)/(TP+TN+FP+FN)\n",
    "print (\"Confusion Matrix : \\n\", confusion_matrix)\n",
    "print (\"Precision : \", round(precision,4))\n",
    "print (\"Sensitivity : \", round(sensitivity,4))\n",
    "print (\"Specificity : \", round(specificity,4))\n",
    "print (\"Accuracy : \", round(accuracy,4))"
   ]
  },
  {
   "cell_type": "code",
   "execution_count": 83,
   "metadata": {
    "colab": {
     "base_uri": "https://localhost:8080/",
     "height": 472
    },
    "id": "MlfHxpQXfR8x",
    "outputId": "f090d1a2-fe1e-4a45-d8d3-470cfed56cf0"
   },
   "outputs": [
    {
     "data": {
      "image/png": "[encoded data removed]",
      "text/plain": [
       "<Figure size 640x480 with 1 Axes>"
      ]
     },
     "metadata": {},
     "output_type": "display_data"
    }
   ],
   "source": [
    "#ROC 및 AUC 곡선\n",
    "fpr, tpr, _ = metrics.roc_curve(y_test,  y_pred.detach().cpu().numpy())\n",
    "auc = metrics.roc_auc_score(y_test, y_pred_proba)\n",
    "auc=round(auc,4)\n",
    "plt.plot(fpr,tpr,label=\"AUC=\"+str(auc))\n",
    "plt.legend(loc=4)\n",
    "plt.title(\"ROC Curve\")\n",
    "plt.ylabel('True Positive Rate')\n",
    "plt.xlabel('False Positive Rate')\n",
    "plt.show()"
   ]
  },
  {
   "cell_type": "code",
   "execution_count": null,
   "metadata": {
    "id": "zM0WG6I8fXEM"
   },
   "outputs": [],
   "source": []
  },
  {
   "cell_type": "code",
   "execution_count": null,
   "metadata": {},
   "outputs": [],
   "source": []
  }
 ],
 "metadata": {
  "colab": {
   "provenance": []
  },
  "kernelspec": {
   "display_name": "Python 3 (ipykernel)",
   "language": "python",
   "name": "python3"
  },
  "language_info": {
   "codemirror_mode": {
    "name": "ipython",
    "version": 3
   },
   "file_extension": ".py",
   "mimetype": "text/x-python",
   "name": "python",
   "nbconvert_exporter": "python",
   "pygments_lexer": "ipython3",
   "version": "3.9.13"
  }
 },
 "nbformat": 4,
 "nbformat_minor": 4
}
