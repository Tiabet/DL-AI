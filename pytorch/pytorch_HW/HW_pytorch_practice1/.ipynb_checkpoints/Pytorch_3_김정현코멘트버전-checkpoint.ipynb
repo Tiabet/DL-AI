{
 "cells": [
  {
   "cell_type": "code",
   "execution_count": 1,
   "metadata": {
    "id": "PQsjL2i23nl6"
   },
   "outputs": [],
   "source": [
    "import pandas as pd\n",
    "import matplotlib.pyplot as plt"
   ]
  },
  {
   "cell_type": "code",
   "execution_count": 2,
   "metadata": {
    "colab": {
     "base_uri": "https://localhost:8080/",
     "height": 36
    },
    "id": "a2zwK1EWHxrz",
    "outputId": "7508124b-d531-42a1-d5eb-02955c1043fd"
   },
   "outputs": [
    {
     "data": {
      "text/plain": [
       "'C:\\\\Users\\\\kkksk\\\\Development\\\\Python Study\\\\pytorch\\\\pytorch_HW\\\\HW_pytorch_practice1'"
      ]
     },
     "execution_count": 2,
     "metadata": {},
     "output_type": "execute_result"
    }
   ],
   "source": [
    "import os\n",
    "os.getcwd()"
   ]
  },
  {
   "cell_type": "code",
   "execution_count": 3,
   "metadata": {
    "id": "aVqHZGSVJnWH"
   },
   "outputs": [],
   "source": [
    "df = pd.read_csv(\"native_plant_richness.txt\", sep = '\\t')"
   ]
  },
  {
   "cell_type": "code",
   "execution_count": 4,
   "metadata": {
    "colab": {
     "base_uri": "https://localhost:8080/"
    },
    "id": "lrQB0VmMJsoS",
    "outputId": "e0f00e1f-4226-4a28-f661-490e08e8c1f4"
   },
   "outputs": [
    {
     "name": "stdout",
     "output_type": "stream",
     "text": [
      "<class 'pandas.core.frame.DataFrame'>\n",
      "RangeIndex: 22 entries, 0 to 21\n",
      "Data columns (total 2 columns):\n",
      " #   Column    Non-Null Count  Dtype  \n",
      "---  ------    --------------  -----  \n",
      " 0   ntv_rich  22 non-null     float64\n",
      " 1   area      22 non-null     float64\n",
      "dtypes: float64(2)\n",
      "memory usage: 480.0 bytes\n",
      "None\n"
     ]
    }
   ],
   "source": [
    "#데이터셋 정보 확인\n",
    "print(df.info())"
   ]
  },
  {
   "cell_type": "code",
   "execution_count": 5,
   "metadata": {
    "colab": {
     "base_uri": "https://localhost:8080/"
    },
    "id": "nvavsD0MJyw1",
    "outputId": "f144c815-a2a8-451c-e111-e56b2fdf7eb8"
   },
   "outputs": [
    {
     "name": "stdout",
     "output_type": "stream",
     "text": [
      "   ntv_rich      area\n",
      "0  1.897627  1.602060\n",
      "1  1.633468  0.477121\n",
      "2  2.597695  3.432488\n",
      "3  2.238046  1.785330\n",
      "4  2.712650  3.075547\n"
     ]
    }
   ],
   "source": [
    "print(df.head())"
   ]
  },
  {
   "cell_type": "code",
   "execution_count": 6,
   "metadata": {
    "colab": {
     "base_uri": "https://localhost:8080/"
    },
    "id": "tjwZyoXPJ3DA",
    "outputId": "22134be2-a175-409b-f7ca-fd638cc7f59e"
   },
   "outputs": [
    {
     "name": "stdout",
     "output_type": "stream",
     "text": [
      "0    1.897627\n",
      "1    1.633468\n",
      "2    2.597695\n",
      "3    2.238046\n",
      "4    2.712650\n",
      "Name: ntv_rich, dtype: float64\n",
      "0    1.897627\n",
      "1    1.633468\n",
      "2    2.597695\n",
      "3    2.238046\n",
      "4    2.712650\n",
      "Name: ntv_rich, dtype: float64\n"
     ]
    }
   ],
   "source": [
    "#종속변수, 독립변수 설정\n",
    "x = df['area']\n",
    "y = df['ntv_rich']\n",
    "\n",
    "print(df.ntv_rich.head())\n",
    "print(df['ntv_rich'].head())"
   ]
  },
  {
   "cell_type": "code",
   "execution_count": 7,
   "metadata": {
    "colab": {
     "base_uri": "https://localhost:8080/"
    },
    "id": "lUq2vxWOKIvN",
    "outputId": "24c6fdd9-f91c-4e36-cb73-6e9ae182a07b"
   },
   "outputs": [
    {
     "name": "stdout",
     "output_type": "stream",
     "text": [
      "a =  0.3557\n",
      "b =  1.336\n"
     ]
    }
   ],
   "source": [
    "#회귀직선 생성\n",
    "xbar = x.mean()\n",
    "ybar = y.mean()\n",
    "s_xy = ((x-xbar)*(y-ybar)).sum()\n",
    "s_xx = ((x-xbar)**2).sum()\n",
    "a = s_xy/s_xx\n",
    "b = ybar-a*xbar\n",
    "print('a = ', round(a,4))\n",
    "print('b = ', round(b,4))"
   ]
  },
  {
   "cell_type": "code",
   "execution_count": 8,
   "metadata": {
    "colab": {
     "base_uri": "https://localhost:8080/"
    },
    "id": "QCN9ZKQxKf4X",
    "outputId": "4d4f6675-ebdc-4587-82a4-cdf11add77cb"
   },
   "outputs": [
    {
     "name": "stdout",
     "output_type": "stream",
     "text": [
      "prediction =  2.0475\n"
     ]
    }
   ],
   "source": [
    "#회귀직선 예측\n",
    "x_0 = 2\n",
    "predicted = a*x_0 + b\n",
    "print('prediction = ', round(predicted,4))"
   ]
  },
  {
   "cell_type": "code",
   "execution_count": 9,
   "metadata": {
    "colab": {
     "base_uri": "https://localhost:8080/",
     "height": 295
    },
    "id": "lxQDQfzbKsS-",
    "outputId": "26952662-367b-4b87-9ec7-32d197463fce"
   },
   "outputs": [
    {
     "data": {
      "image/png": "[encoded data removed]",
      "text/plain": [
       "<Figure size 640x480 with 1 Axes>"
      ]
     },
     "metadata": {},
     "output_type": "display_data"
    }
   ],
   "source": [
    "#그래프 생성\n",
    "plt.title('area vs ntv_rich')\n",
    "plt.scatter(df['area'],df['ntv_rich'])\n",
    "plt.plot(df['area'],a*df['area'] +b, color = 'red')\n",
    "plt.xlabel('area')\n",
    "plt.ylabel('ntv_rich')\n",
    "plt.show()"
   ]
  },
  {
   "cell_type": "markdown",
   "metadata": {
    "id": "xQLQINn1MQqB"
   },
   "source": [
    " - statsmodels 패키지를 사용한 구현"
   ]
  },
  {
   "cell_type": "code",
   "execution_count": 10,
   "metadata": {
    "id": "eiGoct8OMTxh"
   },
   "outputs": [],
   "source": [
    "from statsmodels.formula.api import ols"
   ]
  },
  {
   "cell_type": "code",
   "execution_count": 11,
   "metadata": {
    "id": "3C21rmQ2M--p"
   },
   "outputs": [],
   "source": [
    "#데이터셋 확인\n",
    "df = pd.read_csv(\"native_plant_richness.txt\", sep = '\\t')"
   ]
  },
  {
   "cell_type": "code",
   "execution_count": 12,
   "metadata": {
    "id": "9vw9mFXWNDtD"
   },
   "outputs": [],
   "source": [
    "model = ols('ntv_rich ~ area', data = df)"
   ]
  },
  {
   "cell_type": "code",
   "execution_count": 13,
   "metadata": {
    "colab": {
     "base_uri": "https://localhost:8080/"
    },
    "id": "WI3JYumiNJYW",
    "outputId": "c02ecefd-f718-43f6-9925-9f63b881e940"
   },
   "outputs": [
    {
     "name": "stdout",
     "output_type": "stream",
     "text": [
      "                            OLS Regression Results                            \n",
      "==============================================================================\n",
      "Dep. Variable:               ntv_rich   R-squared:                       0.828\n",
      "Model:                            OLS   Adj. R-squared:                  0.819\n",
      "Method:                 Least Squares   F-statistic:                     96.13\n",
      "Date:                Fri, 03 May 2024   Prob (F-statistic):           4.40e-09\n",
      "Time:                        18:24:43   Log-Likelihood:                 4.0471\n",
      "No. Observations:                  22   AIC:                            -4.094\n",
      "Df Residuals:                      20   BIC:                            -1.912\n",
      "Df Model:                           1                                         \n",
      "Covariance Type:            nonrobust                                         \n",
      "==============================================================================\n",
      "                 coef    std err          t      P>|t|      [0.025      0.975]\n",
      "------------------------------------------------------------------------------\n",
      "Intercept      1.3360      0.096     13.869      0.000       1.135       1.537\n",
      "area           0.3557      0.036      9.805      0.000       0.280       0.431\n",
      "==============================================================================\n",
      "Omnibus:                        0.057   Durbin-Watson:                   1.542\n",
      "Prob(Omnibus):                  0.972   Jarque-Bera (JB):                0.278\n",
      "Skew:                          -0.033   Prob(JB):                        0.870\n",
      "Kurtosis:                       2.453   Cond. No.                         6.33\n",
      "==============================================================================\n",
      "\n",
      "Notes:\n",
      "[1] Standard Errors assume that the covariance matrix of the errors is correctly specified.\n"
     ]
    }
   ],
   "source": [
    "result = model.fit()\n",
    "print(result.summary())"
   ]
  },
  {
   "cell_type": "code",
   "execution_count": 14,
   "metadata": {
    "colab": {
     "base_uri": "https://localhost:8080/"
    },
    "id": "3D05bPkDNOQp",
    "outputId": "e31cfffc-b10c-4a12-9ff0-82fea04877b9"
   },
   "outputs": [
    {
     "data": {
      "text/plain": [
       "Intercept    1.336048\n",
       "area         0.355739\n",
       "dtype: float64"
      ]
     },
     "execution_count": 14,
     "metadata": {},
     "output_type": "execute_result"
    }
   ],
   "source": [
    "result.params"
   ]
  },
  {
   "cell_type": "code",
   "execution_count": 15,
   "metadata": {
    "colab": {
     "base_uri": "https://localhost:8080/",
     "height": 295
    },
    "id": "bN31aurUNkms",
    "outputId": "df76e9d8-5780-4843-a818-5c0e5d5c862e"
   },
   "outputs": [
    {
     "data": {
      "image/png": "[encoded data removed]",
      "text/plain": [
       "<Figure size 640x480 with 1 Axes>"
      ]
     },
     "metadata": {},
     "output_type": "display_data"
    }
   ],
   "source": [
    "#ols를 활용해 생성된 선형회귀직선 그래프화\n",
    "plt.title('area vs ntv_rich')\n",
    "y = df.ntv_rich\n",
    "x = df.area\n",
    "plt.scatter(x, y, alpha = 0.5)\n",
    "plt.plot(x, result.params[1]*df['area']+result.params[0], color = 'red')\n",
    "plt.xlabel('area')\n",
    "plt.ylabel('ntv_rich')\n",
    "plt.show()"
   ]
  },
  {
   "cell_type": "markdown",
   "metadata": {
    "id": "fRf21HtEODpo"
   },
   "source": [
    " - 파이토치 이용한 회귀계수 직접 구현"
   ]
  },
  {
   "cell_type": "code",
   "execution_count": 17,
   "metadata": {
    "id": "AYchAHt0OOZp"
   },
   "outputs": [
    {
     "name": "stdout",
     "output_type": "stream",
     "text": [
      "cpu\n"
     ]
    }
   ],
   "source": [
    "# PyTorch 라이브러리를 임포트하고 GPU 사용 가능 여부에 따라 디바이스 설정\n",
    "# 데이터를 텐서로 변환하여 GPU에 할당\n",
    "import torch\n",
    "device = torch.device(\"cuda\" if torch.cuda.is_available() else \"cpu\")\n",
    "#로컬로 실행해서 cpu사용\n",
    "print(device)\n",
    "df = pd.read_csv(\"native_plant_richness.txt\", sep = '\\t')\n",
    "x = torch.tensor(df['area']).to(device)\n",
    "y = torch.tensor(df['ntv_rich']).to(device)"
   ]
  },
  {
   "cell_type": "code",
   "execution_count": 18,
   "metadata": {
    "colab": {
     "base_uri": "https://localhost:8080/"
    },
    "id": "LFKSoc43Ogip",
    "outputId": "268b4215-f7a3-47ce-9788-572df9b4a00f"
   },
   "outputs": [
    {
     "name": "stdout",
     "output_type": "stream",
     "text": [
      "slope =  tensor(0.3557, dtype=torch.float64)\n",
      "intercept =  tensor(1.3360, dtype=torch.float64)\n"
     ]
    }
   ],
   "source": [
    "# 텐서 연산을 사용하여 평균, 공분산, 회귀 계수 계산\n",
    "# 계산된 기울기와 절편 출력\n",
    "xbar = x.mean()\n",
    "ybar = y.mean()\n",
    "s_xy = ((x-xbar)*(y-ybar)).sum()\n",
    "s_xx = ((x-xbar)**2).sum()\n",
    "a = s_xy/s_xx\n",
    "b = ybar-a*xbar\n",
    "print('slope = ', a)\n",
    "print('intercept = ', b)"
   ]
  },
  {
   "cell_type": "code",
   "execution_count": 20,
   "metadata": {
    "colab": {
     "base_uri": "https://localhost:8080/",
     "height": 295
    },
    "id": "hrBYmXibO9QF",
    "outputId": "d959fdda-6e05-4b4e-d0d4-cba3b881461f"
   },
   "outputs": [
    {
     "data": {
      "image/png": "[encoded data removed]",
      "text/plain": [
       "<Figure size 640x480 with 1 Axes>"
      ]
     },
     "metadata": {},
     "output_type": "display_data"
    }
   ],
   "source": [
    "# 계산된 회귀 선을 그리기 위해 CPU로 데이터 이동\n",
    "# 산점도와 회귀선을 플롯\n",
    "plt.title('area vs ntv_rich')\n",
    "plt.plot(x.cpu().numpy(), y.numpy(),'o')\n",
    "plt.plot(x.cpu().numpy(), a.numpy()*x.numpy() + b.numpy())\n",
    "plt.xlabel('area')\n",
    "plt.ylabel('ntv_rich')\n",
    "plt.show()"
   ]
  },
  {
   "cell_type": "markdown",
   "metadata": {
    "id": "Svc-_iwLTgqz"
   },
   "source": [
    " - 머신러닝 기반 회귀분석 파이토치 구현"
   ]
  },
  {
   "cell_type": "code",
   "execution_count": 21,
   "metadata": {
    "colab": {
     "base_uri": "https://localhost:8080/"
    },
    "id": "pG9DXuaQPV5n",
    "outputId": "1e8fb319-c61d-4d89-f89f-340153850aca"
   },
   "outputs": [
    {
     "name": "stdout",
     "output_type": "stream",
     "text": [
      "w.grad_fn = None\n",
      "x = tensor(4., grad_fn=<AddBackward0>) , requires_grad = True\n",
      "y = tensor(16., grad_fn=<PowBackward0>) , requires_grad = True\n",
      "z = tensor(53., grad_fn=<AddBackward0>) , requires_grad = True\n"
     ]
    }
   ],
   "source": [
    "# PyTorch 텐서 및 자동 미분을 사용하여 계산 그래프 생성\n",
    "# 텐서 연산 및 미분 결과 출력\n",
    "import torch\n",
    "w = torch.tensor(2.0, requires_grad = True)\n",
    "\n",
    "x = w + 2\n",
    "y = x**2\n",
    "z = 3*y + 5\n",
    "print('w.grad_fn =', w.grad_fn)\n",
    "print('x =', x, ', requires_grad =', x.requires_grad)\n",
    "print('y =', y, ', requires_grad =', y.requires_grad)\n",
    "print('z =', z, ', requires_grad =', z.requires_grad)"
   ]
  },
  {
   "cell_type": "code",
   "execution_count": 26,
   "metadata": {
    "colab": {
     "base_uri": "https://localhost:8080/"
    },
    "id": "NLifJcbXUCcU",
    "outputId": "c72137c0-dd14-4d22-f140-aaaac35c8758"
   },
   "outputs": [
    {
     "name": "stdout",
     "output_type": "stream",
     "text": [
      "tensor(2., requires_grad=True)\n",
      "tensor(24.)\n",
      "tensor(2., requires_grad=True)\n",
      "tensor(48.)\n",
      "tensor(2., requires_grad=True)\n",
      "tensor(72.)\n",
      "tensor(2., requires_grad=True)\n",
      "tensor(96.)\n",
      "tensor(2., requires_grad=True)\n",
      "tensor(120.)\n",
      "tensor(2., requires_grad=True)\n",
      "tensor(144.)\n",
      "tensor(2., requires_grad=True)\n",
      "tensor(168.)\n",
      "tensor(2., requires_grad=True)\n",
      "tensor(192.)\n",
      "tensor(2., requires_grad=True)\n",
      "tensor(216.)\n",
      "tensor(2., requires_grad=True)\n",
      "tensor(240.)\n",
      "z를 w로 미분한 값: 240.0\n"
     ]
    }
   ],
   "source": [
    "#w의 gradient 확인\n",
    "w = torch.tensor(2.0, requires_grad = True)\n",
    "\n",
    "for i in range(10):\n",
    "  x = w + 2\n",
    "  y = x**2\n",
    "  z = 3*y + 5\n",
    "  #print(z)  \n",
    "  z.backward()\n",
    "  #print(z)\n",
    "  print(w)\n",
    "  print(w.grad)\n",
    "print(f'z를 w로 미분한 값: {w.grad}')"
   ]
  },
  {
   "cell_type": "code",
   "execution_count": 27,
   "metadata": {
    "colab": {
     "base_uri": "https://localhost:8080/"
    },
    "id": "SkD5p2SWUowm",
    "outputId": "232e4dc2-0647-4cb1-d362-67eda61a25a3"
   },
   "outputs": [
    {
     "name": "stdout",
     "output_type": "stream",
     "text": [
      "Before detach()\n",
      "x = tensor(5., grad_fn=<AddBackward0>) , requires_grad = True\n",
      "y = tensor(6., grad_fn=<MulBackward0>) , requires_grad = True\n",
      "After detach()\n",
      "x = tensor(5.) , requires_grad = False\n",
      "y = tensor(6.) , requires_grad = False\n"
     ]
    }
   ],
   "source": [
    "#detach 실행 전후 비교\n",
    "a = torch.tensor(2., requires_grad = True)\n",
    "b = torch.tensor(3., requires_grad = True)\n",
    "x = a+b\n",
    "y = a*b\n",
    "print('Before detach()')\n",
    "print('x =', x, ', requires_grad =', x.requires_grad)\n",
    "print('y =', y, ', requires_grad =', y.requires_grad)\n",
    "\n",
    "x = x.detach()\n",
    "y = y.detach()\n",
    "print('After detach()')\n",
    "print('x =', x, ', requires_grad =', x.requires_grad)\n",
    "print('y =', y, ', requires_grad =', y.requires_grad)"
   ]
  },
  {
   "cell_type": "code",
   "execution_count": 22,
   "metadata": {
    "colab": {
     "base_uri": "https://localhost:8080/"
    },
    "id": "f10uVEDGVwmT",
    "outputId": "9a2df870-0113-4c74-95fc-93fa9511cd01"
   },
   "outputs": [
    {
     "name": "stdout",
     "output_type": "stream",
     "text": [
      "Before torch.no_grad()\n",
      "x = tensor(5., grad_fn=<AddBackward0>) , requires_grad = True\n",
      "y = tensor(6., grad_fn=<MulBackward0>) , requires_grad = True\n",
      "After torch.no_grad()\n",
      "x = tensor(5.) , requires_grad = False\n",
      "y = tensor(6.) , requires_grad = False\n"
     ]
    }
   ],
   "source": [
    "#no_grad로 설정했을 때 전후 비교\n",
    "a = torch.tensor(2., requires_grad = True)\n",
    "b = torch.tensor(3., requires_grad = True)\n",
    "x = a+b\n",
    "y = a*b\n",
    "print('Before torch.no_grad()')\n",
    "print('x =', x, ', requires_grad =', x.requires_grad)\n",
    "print('y =', y, ', requires_grad =', y.requires_grad)\n",
    "\n",
    "with torch.no_grad():\n",
    "  x = a+b\n",
    "  y = a*b\n",
    "print('After torch.no_grad()') \n",
    "print('x =', x, ', requires_grad =', x.requires_grad)\n",
    "print('y =', y, ', requires_grad =', y.requires_grad)"
   ]
  },
  {
   "cell_type": "code",
   "execution_count": 29,
   "metadata": {
    "colab": {
     "base_uri": "https://localhost:8080/",
     "height": 444
    },
    "id": "tKESZmcbWEI8",
    "outputId": "0bda941a-221b-4d9c-9ca9-086f218d1d00"
   },
   "outputs": [
    {
     "name": "stdout",
     "output_type": "stream",
     "text": [
      "x = tensor(4., grad_fn=<AddBackward0>) , requires_grad = True\n",
      "y = tensor(16.) , requires_grad = False\n",
      "z = tensor(53.) , requires_grad = False\n"
     ]
    },
    {
     "ename": "RuntimeError",
     "evalue": "element 0 of tensors does not require grad and does not have a grad_fn",
     "output_type": "error",
     "traceback": [
      "\u001b[1;31m---------------------------------------------------------------------------\u001b[0m",
      "\u001b[1;31mRuntimeError\u001b[0m                              Traceback (most recent call last)",
      "\u001b[1;32m~\\AppData\\Local\\Temp\\ipykernel_17200\\3418676836.py\u001b[0m in \u001b[0;36m<module>\u001b[1;34m\u001b[0m\n\u001b[0;32m      9\u001b[0m \u001b[0mprint\u001b[0m\u001b[1;33m(\u001b[0m\u001b[1;34m'y ='\u001b[0m\u001b[1;33m,\u001b[0m \u001b[0my\u001b[0m\u001b[1;33m,\u001b[0m \u001b[1;34m', requires_grad ='\u001b[0m\u001b[1;33m,\u001b[0m \u001b[0my\u001b[0m\u001b[1;33m.\u001b[0m\u001b[0mrequires_grad\u001b[0m\u001b[1;33m)\u001b[0m\u001b[1;33m\u001b[0m\u001b[1;33m\u001b[0m\u001b[0m\n\u001b[0;32m     10\u001b[0m \u001b[0mprint\u001b[0m\u001b[1;33m(\u001b[0m\u001b[1;34m'z ='\u001b[0m\u001b[1;33m,\u001b[0m \u001b[0mz\u001b[0m\u001b[1;33m,\u001b[0m \u001b[1;34m', requires_grad ='\u001b[0m\u001b[1;33m,\u001b[0m \u001b[0mz\u001b[0m\u001b[1;33m.\u001b[0m\u001b[0mrequires_grad\u001b[0m\u001b[1;33m)\u001b[0m\u001b[1;33m\u001b[0m\u001b[1;33m\u001b[0m\u001b[0m\n\u001b[1;32m---> 11\u001b[1;33m \u001b[0mz\u001b[0m\u001b[1;33m.\u001b[0m\u001b[0mbackward\u001b[0m\u001b[1;33m(\u001b[0m\u001b[1;33m)\u001b[0m\u001b[1;33m\u001b[0m\u001b[1;33m\u001b[0m\u001b[0m\n\u001b[0m\u001b[0;32m     12\u001b[0m \u001b[0mprint\u001b[0m\u001b[1;33m(\u001b[0m\u001b[1;34mf'z를 w로 미분한 값 : {w.grad}'\u001b[0m\u001b[1;33m)\u001b[0m\u001b[1;33m\u001b[0m\u001b[1;33m\u001b[0m\u001b[0m\n",
      "\u001b[1;32mC:\\Anaconda\\lib\\site-packages\\torch\\_tensor.py\u001b[0m in \u001b[0;36mbackward\u001b[1;34m(self, gradient, retain_graph, create_graph, inputs)\u001b[0m\n\u001b[0;32m    485\u001b[0m                 \u001b[0minputs\u001b[0m\u001b[1;33m=\u001b[0m\u001b[0minputs\u001b[0m\u001b[1;33m,\u001b[0m\u001b[1;33m\u001b[0m\u001b[1;33m\u001b[0m\u001b[0m\n\u001b[0;32m    486\u001b[0m             )\n\u001b[1;32m--> 487\u001b[1;33m         torch.autograd.backward(\n\u001b[0m\u001b[0;32m    488\u001b[0m             \u001b[0mself\u001b[0m\u001b[1;33m,\u001b[0m \u001b[0mgradient\u001b[0m\u001b[1;33m,\u001b[0m \u001b[0mretain_graph\u001b[0m\u001b[1;33m,\u001b[0m \u001b[0mcreate_graph\u001b[0m\u001b[1;33m,\u001b[0m \u001b[0minputs\u001b[0m\u001b[1;33m=\u001b[0m\u001b[0minputs\u001b[0m\u001b[1;33m\u001b[0m\u001b[1;33m\u001b[0m\u001b[0m\n\u001b[0;32m    489\u001b[0m         )\n",
      "\u001b[1;32mC:\\Anaconda\\lib\\site-packages\\torch\\autograd\\__init__.py\u001b[0m in \u001b[0;36mbackward\u001b[1;34m(tensors, grad_tensors, retain_graph, create_graph, grad_variables, inputs)\u001b[0m\n\u001b[0;32m    198\u001b[0m     \u001b[1;31m# some Python versions print out the first line of a multi-line function\u001b[0m\u001b[1;33m\u001b[0m\u001b[1;33m\u001b[0m\u001b[0m\n\u001b[0;32m    199\u001b[0m     \u001b[1;31m# calls in the traceback and some print out the last line\u001b[0m\u001b[1;33m\u001b[0m\u001b[1;33m\u001b[0m\u001b[0m\n\u001b[1;32m--> 200\u001b[1;33m     Variable._execution_engine.run_backward(  # Calls into the C++ engine to run the backward pass\n\u001b[0m\u001b[0;32m    201\u001b[0m         \u001b[0mtensors\u001b[0m\u001b[1;33m,\u001b[0m \u001b[0mgrad_tensors_\u001b[0m\u001b[1;33m,\u001b[0m \u001b[0mretain_graph\u001b[0m\u001b[1;33m,\u001b[0m \u001b[0mcreate_graph\u001b[0m\u001b[1;33m,\u001b[0m \u001b[0minputs\u001b[0m\u001b[1;33m,\u001b[0m\u001b[1;33m\u001b[0m\u001b[1;33m\u001b[0m\u001b[0m\n\u001b[0;32m    202\u001b[0m         allow_unreachable=True, accumulate_grad=True)  # Calls into the C++ engine to run the backward pass\n",
      "\u001b[1;31mRuntimeError\u001b[0m: element 0 of tensors does not require grad and does not have a grad_fn"
     ]
    }
   ],
   "source": [
    "#y detach 후에는 backward 계산 불가\n",
    "w = torch.tensor(2.0, requires_grad = True)\n",
    "\n",
    "x = w+2\n",
    "y = x**2\n",
    "y = y.detach()\n",
    "z = 3*y + 5\n",
    "print('x =', x, ', requires_grad =', x.requires_grad)\n",
    "print('y =', y, ', requires_grad =', y.requires_grad)\n",
    "print('z =', z, ', requires_grad =', z.requires_grad)\n",
    "z.backward()\n",
    "print(f'z를 w로 미분한 값 : {w.grad}')"
   ]
  },
  {
   "cell_type": "code",
   "execution_count": 30,
   "metadata": {
    "colab": {
     "base_uri": "https://localhost:8080/",
     "height": 444
    },
    "id": "HXB0E6hdWShB",
    "outputId": "6ea37826-bb0a-460d-9e68-c796fcd35643"
   },
   "outputs": [
    {
     "name": "stdout",
     "output_type": "stream",
     "text": [
      "x = tensor(4., grad_fn=<AddBackward0>) , requires_grad = True\n",
      "y = tensor(16.) , requires_grad = False\n",
      "z = tensor(53.) , requires_grad = False\n"
     ]
    },
    {
     "ename": "RuntimeError",
     "evalue": "element 0 of tensors does not require grad and does not have a grad_fn",
     "output_type": "error",
     "traceback": [
      "\u001b[1;31m---------------------------------------------------------------------------\u001b[0m",
      "\u001b[1;31mRuntimeError\u001b[0m                              Traceback (most recent call last)",
      "\u001b[1;32m~\\AppData\\Local\\Temp\\ipykernel_17200\\1520434126.py\u001b[0m in \u001b[0;36m<module>\u001b[1;34m\u001b[0m\n\u001b[0;32m      8\u001b[0m \u001b[0mprint\u001b[0m\u001b[1;33m(\u001b[0m\u001b[1;34m'y ='\u001b[0m\u001b[1;33m,\u001b[0m \u001b[0my\u001b[0m\u001b[1;33m,\u001b[0m \u001b[1;34m', requires_grad ='\u001b[0m\u001b[1;33m,\u001b[0m \u001b[0my\u001b[0m\u001b[1;33m.\u001b[0m\u001b[0mrequires_grad\u001b[0m\u001b[1;33m)\u001b[0m\u001b[1;33m\u001b[0m\u001b[1;33m\u001b[0m\u001b[0m\n\u001b[0;32m      9\u001b[0m \u001b[0mprint\u001b[0m\u001b[1;33m(\u001b[0m\u001b[1;34m'z ='\u001b[0m\u001b[1;33m,\u001b[0m \u001b[0mz\u001b[0m\u001b[1;33m,\u001b[0m \u001b[1;34m', requires_grad ='\u001b[0m\u001b[1;33m,\u001b[0m \u001b[0mz\u001b[0m\u001b[1;33m.\u001b[0m\u001b[0mrequires_grad\u001b[0m\u001b[1;33m)\u001b[0m\u001b[1;33m\u001b[0m\u001b[1;33m\u001b[0m\u001b[0m\n\u001b[1;32m---> 10\u001b[1;33m \u001b[0mz\u001b[0m\u001b[1;33m.\u001b[0m\u001b[0mbackward\u001b[0m\u001b[1;33m(\u001b[0m\u001b[1;33m)\u001b[0m\u001b[1;33m\u001b[0m\u001b[1;33m\u001b[0m\u001b[0m\n\u001b[0m\u001b[0;32m     11\u001b[0m \u001b[0mprint\u001b[0m\u001b[1;33m(\u001b[0m\u001b[1;34mf'z를 w로 미분한 값 : {w.grad}'\u001b[0m\u001b[1;33m)\u001b[0m\u001b[1;33m\u001b[0m\u001b[1;33m\u001b[0m\u001b[0m\n",
      "\u001b[1;32mC:\\Anaconda\\lib\\site-packages\\torch\\_tensor.py\u001b[0m in \u001b[0;36mbackward\u001b[1;34m(self, gradient, retain_graph, create_graph, inputs)\u001b[0m\n\u001b[0;32m    485\u001b[0m                 \u001b[0minputs\u001b[0m\u001b[1;33m=\u001b[0m\u001b[0minputs\u001b[0m\u001b[1;33m,\u001b[0m\u001b[1;33m\u001b[0m\u001b[1;33m\u001b[0m\u001b[0m\n\u001b[0;32m    486\u001b[0m             )\n\u001b[1;32m--> 487\u001b[1;33m         torch.autograd.backward(\n\u001b[0m\u001b[0;32m    488\u001b[0m             \u001b[0mself\u001b[0m\u001b[1;33m,\u001b[0m \u001b[0mgradient\u001b[0m\u001b[1;33m,\u001b[0m \u001b[0mretain_graph\u001b[0m\u001b[1;33m,\u001b[0m \u001b[0mcreate_graph\u001b[0m\u001b[1;33m,\u001b[0m \u001b[0minputs\u001b[0m\u001b[1;33m=\u001b[0m\u001b[0minputs\u001b[0m\u001b[1;33m\u001b[0m\u001b[1;33m\u001b[0m\u001b[0m\n\u001b[0;32m    489\u001b[0m         )\n",
      "\u001b[1;32mC:\\Anaconda\\lib\\site-packages\\torch\\autograd\\__init__.py\u001b[0m in \u001b[0;36mbackward\u001b[1;34m(tensors, grad_tensors, retain_graph, create_graph, grad_variables, inputs)\u001b[0m\n\u001b[0;32m    198\u001b[0m     \u001b[1;31m# some Python versions print out the first line of a multi-line function\u001b[0m\u001b[1;33m\u001b[0m\u001b[1;33m\u001b[0m\u001b[0m\n\u001b[0;32m    199\u001b[0m     \u001b[1;31m# calls in the traceback and some print out the last line\u001b[0m\u001b[1;33m\u001b[0m\u001b[1;33m\u001b[0m\u001b[0m\n\u001b[1;32m--> 200\u001b[1;33m     Variable._execution_engine.run_backward(  # Calls into the C++ engine to run the backward pass\n\u001b[0m\u001b[0;32m    201\u001b[0m         \u001b[0mtensors\u001b[0m\u001b[1;33m,\u001b[0m \u001b[0mgrad_tensors_\u001b[0m\u001b[1;33m,\u001b[0m \u001b[0mretain_graph\u001b[0m\u001b[1;33m,\u001b[0m \u001b[0mcreate_graph\u001b[0m\u001b[1;33m,\u001b[0m \u001b[0minputs\u001b[0m\u001b[1;33m,\u001b[0m\u001b[1;33m\u001b[0m\u001b[1;33m\u001b[0m\u001b[0m\n\u001b[0;32m    202\u001b[0m         allow_unreachable=True, accumulate_grad=True)  # Calls into the C++ engine to run the backward pass\n",
      "\u001b[1;31mRuntimeError\u001b[0m: element 0 of tensors does not require grad and does not have a grad_fn"
     ]
    }
   ],
   "source": [
    "#backward 실행 불가\n",
    "w = torch.tensor(2.0, requires_grad = True)\n",
    "\n",
    "x = w+2\n",
    "with torch.no_grad():\n",
    "  y = x**2\n",
    "  z = 3*y + 5\n",
    "print('x =', x, ', requires_grad =', x.requires_grad)\n",
    "print('y =', y, ', requires_grad =', y.requires_grad)\n",
    "print('z =', z, ', requires_grad =', z.requires_grad)\n",
    "z.backward()\n",
    "print(f'z를 w로 미분한 값 : {w.grad}')"
   ]
  },
  {
   "cell_type": "markdown",
   "metadata": {
    "id": "nNRv8qMHYHQ9"
   },
   "source": [
    " - 파이토치 미분값 초기화 방법"
   ]
  },
  {
   "cell_type": "code",
   "execution_count": 31,
   "metadata": {
    "colab": {
     "base_uri": "https://localhost:8080/"
    },
    "id": "P6hWMQ3HYJ4a",
    "outputId": "f9f66025-9d13-48a2-b29c-1739443bba40"
   },
   "outputs": [
    {
     "name": "stdout",
     "output_type": "stream",
     "text": [
      "dy/dx = 2.0\n",
      "dy/dx = 4.0\n",
      "dy/dx = 6.0\n",
      "dy/dx = 8.0\n",
      "dy/dx = 10.0\n",
      "dy/dx = 12.0\n",
      "dy/dx = 14.0\n",
      "dy/dx = 16.0\n",
      "dy/dx = 18.0\n",
      "dy/dx = 20.0\n",
      "dy/dx = 22.0\n"
     ]
    }
   ],
   "source": [
    "#미분값 초기화 안 돼서 계속 누적되는 모습\n",
    "x = torch.tensor(2.0, requires_grad = True)\n",
    "\n",
    "n_epochs = 10\n",
    "for epoch in range(n_epochs + 1):\n",
    "\n",
    "  y = 2*x\n",
    "  y.backward()\n",
    "  print('dy/dx = {}'.format(x.grad))\n"
   ]
  },
  {
   "cell_type": "code",
   "execution_count": 26,
   "metadata": {
    "colab": {
     "base_uri": "https://localhost:8080/"
    },
    "id": "yXI2TjCiYYTk",
    "outputId": "d1f56a21-a51a-4624-b007-76ee0bc84da6"
   },
   "outputs": [
    {
     "name": "stdout",
     "output_type": "stream",
     "text": [
      "dy/dx = 2.0\n",
      "dy/dx = 2.0\n",
      "dy/dx = 2.0\n",
      "dy/dx = 2.0\n",
      "dy/dx = 2.0\n",
      "dy/dx = 2.0\n",
      "dy/dx = 2.0\n",
      "dy/dx = 2.0\n",
      "dy/dx = 2.0\n",
      "dy/dx = 2.0\n",
      "dy/dx = 2.0\n"
     ]
    }
   ],
   "source": [
    "#미분값 초기화 함수 grad.zero_()\n",
    "x = torch.tensor(2.0, requires_grad = True)\n",
    "\n",
    "n_epochs = 10\n",
    "for epoch in range(n_epochs + 1):\n",
    "\n",
    "  y = 2*x\n",
    "  y.backward()\n",
    "  print('dy/dx = {}'.format(x.grad))\n",
    "  x.grad.zero_()"
   ]
  },
  {
   "cell_type": "code",
   "execution_count": 27,
   "metadata": {
    "colab": {
     "base_uri": "https://localhost:8080/"
    },
    "id": "XvSE98s9Z_EU",
    "outputId": "6ff9c7a0-4e12-4831-c965-88efe0dcb253"
   },
   "outputs": [
    {
     "name": "stdout",
     "output_type": "stream",
     "text": [
      "epoch = 0\n",
      "직접미분 a_grad = tensor(-18.6667, grad_fn=<MulBackward0>)\n",
      "직접미분 b_grad = tensor(-8., grad_fn=<MulBackward0>)\n",
      "자동미분 a.grad = tensor([-18.6667])\n",
      "자동미분 b.grad = tensor([-8.])\n",
      "epoch = 1\n",
      "직접미분 a_grad = tensor(1.9556, grad_fn=<MulBackward0>)\n",
      "직접미분 b_grad = tensor(1.0667, grad_fn=<MulBackward0>)\n",
      "자동미분 a.grad = tensor([-16.7111])\n",
      "자동미분 b.grad = tensor([-6.9333])\n",
      "epoch = 2\n",
      "직접미분 a_grad = tensor(20.3259, grad_fn=<MulBackward0>)\n",
      "직접미분 b_grad = tensor(9.1378, grad_fn=<MulBackward0>)\n",
      "자동미분 a.grad = tensor([3.6148])\n",
      "자동미분 b.grad = tensor([2.2044])\n"
     ]
    }
   ],
   "source": [
    "#Loss function: 파이토치 자동미분과 직접미분 값 비교\n",
    "\n",
    "x_train = torch.FloatTensor([[1],[2],[3]])\n",
    "y_train = torch.FloatTensor([[2],[4],[6]])\n",
    "\n",
    "# 모델 초기화\n",
    "a = torch.zeros(1, requires_grad = True)\n",
    "b = torch.zeros(1, requires_grad = True)\n",
    "\n",
    "lr = 1e-1\n",
    "n_epochs = 3\n",
    "for epoch in range(n_epochs):\n",
    "  yhat = a * x_train + b\n",
    "  error = y_train - yhat\n",
    "  loss = (error**2).mean()\n",
    "  loss.backward()\n",
    "  a_grad = -2 * (x_train*error).mean()\n",
    "  b_grad = -2 * error.mean()\n",
    "  print('epoch =', epoch)\n",
    "  print('직접미분 a_grad =', a_grad)\n",
    "  print('직접미분 b_grad =', b_grad)\n",
    "  with torch.no_grad():\n",
    "    a -= lr * a.grad\n",
    "    b -= lr * b.grad\n",
    "\n",
    "  print('자동미분 a.grad =', a.grad)\n",
    "  print('자동미분 b.grad =', b.grad)"
   ]
  },
  {
   "cell_type": "code",
   "execution_count": 28,
   "metadata": {
    "colab": {
     "base_uri": "https://localhost:8080/"
    },
    "id": "KF19j6txcpVo",
    "outputId": "699a3d07-ae78-4a9e-d260-b2d2ba745fc2"
   },
   "outputs": [
    {
     "name": "stdout",
     "output_type": "stream",
     "text": [
      "epoch = 0\n",
      "직접미분 a_grad = tensor(-18.6667, grad_fn=<MulBackward0>)\n",
      "직접미분 b_grad = tensor(-8., grad_fn=<MulBackward0>)\n",
      "자동미분 a.grad = tensor([-18.6667])\n",
      "자동미분 b.grad = tensor([-8.])\n",
      "epoch = 1\n",
      "직접미분 a_grad = tensor(1.9556, grad_fn=<MulBackward0>)\n",
      "직접미분 b_grad = tensor(1.0667, grad_fn=<MulBackward0>)\n",
      "자동미분 a.grad = tensor([1.9556])\n",
      "자동미분 b.grad = tensor([1.0667])\n",
      "epoch = 2\n",
      "직접미분 a_grad = tensor(-0.2963, grad_fn=<MulBackward0>)\n",
      "직접미분 b_grad = tensor(0.0711, grad_fn=<MulBackward0>)\n",
      "자동미분 a.grad = tensor([-0.2963])\n",
      "자동미분 b.grad = tensor([0.0711])\n"
     ]
    }
   ],
   "source": [
    "#Loss function: 파이토치 자동미분과 직접미분 값 비교\n",
    "\n",
    "x_train = torch.FloatTensor([[1],[2],[3]])\n",
    "y_train = torch.FloatTensor([[2],[4],[6]])\n",
    "\n",
    "# 모델 초기화\n",
    "a = torch.zeros(1, requires_grad = True)\n",
    "b = torch.zeros(1, requires_grad = True)\n",
    "\n",
    "lr = 1e-1\n",
    "n_epochs = 3\n",
    "for epoch in range(n_epochs):\n",
    "  yhat = a * x_train + b\n",
    "  error = y_train - yhat\n",
    "  loss = (error**2).mean()\n",
    "  loss.backward()\n",
    "  a_grad = -2 * (x_train*error).mean()\n",
    "  b_grad = -2 * error.mean()\n",
    "  print('epoch =', epoch)\n",
    "  print('직접미분 a_grad =', a_grad)\n",
    "  print('직접미분 b_grad =', b_grad)\n",
    "  with torch.no_grad():\n",
    "    a -= lr * a.grad\n",
    "    b -= lr * b.grad\n",
    "\n",
    "  print('자동미분 a.grad =', a.grad)\n",
    "  print('자동미분 b.grad =', b.grad)\n",
    "  \n",
    "  #zero 사용\n",
    "  a.grad.zero_()\n",
    "  b.grad.zero_()"
   ]
  },
  {
   "cell_type": "code",
   "execution_count": 29,
   "metadata": {
    "colab": {
     "base_uri": "https://localhost:8080/"
    },
    "id": "MnT7IgsydscU",
    "outputId": "7cade2e5-3444-43cd-ccbf-85bf48a5e221"
   },
   "outputs": [
    {
     "name": "stdout",
     "output_type": "stream",
     "text": [
      "epoch =   0/100 a = 0.800, b = 1.867, Loss =18.66667\n",
      "epoch =  10/100 a = 0.564, b = 1.752, Loss =0.04792\n",
      "epoch =  20/100 a = 0.442, b = 1.805, Loss =0.02945\n",
      "epoch =  30/100 a = 0.347, b = 1.847, Loss =0.01810\n",
      "epoch =  40/100 a = 0.272, b = 1.880, Loss =0.01113\n",
      "epoch =  50/100 a = 0.213, b = 1.906, Loss =0.00684\n",
      "epoch =  60/100 a = 0.167, b = 1.927, Loss =0.00420\n",
      "epoch =  70/100 a = 0.131, b = 1.942, Loss =0.00258\n",
      "epoch =  80/100 a = 0.103, b = 1.955, Loss =0.00159\n",
      "epoch =  90/100 a = 0.081, b = 1.965, Loss =0.00098\n"
     ]
    }
   ],
   "source": [
    "#SGD Optimizer 사용\n",
    "import torch.optim as optim\n",
    "\n",
    "x_tensor = torch.FloatTensor([[1],[2],[3]])\n",
    "y_tensor = torch.FloatTensor([[2],[4],[6]])\n",
    "\n",
    "a = torch.zeros(1, requires_grad = True)\n",
    "b = torch.zeros(1, requires_grad = True)\n",
    "\n",
    "lr = 0.1\n",
    "optimizer = optim.SGD([a,b], lr = lr)\n",
    "\n",
    "n_epochs = 100\n",
    "for epoch in range(n_epochs):\n",
    "  yhat = a + b * x_tensor\n",
    "  error = y_tensor - yhat\n",
    "  loss = (error**2).mean()\n",
    "  loss.backward()\n",
    "\n",
    "  with torch.no_grad():\n",
    "    a -= lr * a.grad\n",
    "    b -= lr * b.grad\n",
    "  optimizer.zero_grad()\n",
    "  optimizer.step()\n",
    "\n",
    "  if epoch % 10 ==0:\n",
    "    print('epoch = {:3d}/{} a = {:.3f}, b = {:.3f}, Loss ={:.5f}'.format(\n",
    "        epoch, n_epochs, a.item(), b.item(), loss.item()\n",
    "    ))"
   ]
  },
  {
   "cell_type": "markdown",
   "metadata": {
    "id": "6oeqpICxhqWK"
   },
   "source": [
    "예제 3.2) 파이썬 scikit-learn을 이용한 머신러닝"
   ]
  },
  {
   "cell_type": "code",
   "execution_count": 30,
   "metadata": {
    "id": "xJUQTi7fhlzg"
   },
   "outputs": [],
   "source": [
    "#데이터 생성\n",
    "import numpy as np\n",
    "x = [1,2,3,4,5]\n",
    "y = [0, 1.1, 1.8, 3.1, 4.5]\n",
    "X = np.array(x).reshape(-1,1)\n",
    "Y = np.array(y)"
   ]
  },
  {
   "cell_type": "code",
   "execution_count": 31,
   "metadata": {
    "colab": {
     "base_uri": "https://localhost:8080/",
     "height": 75
    },
    "id": "E9uP98I_iLMJ",
    "outputId": "061c551d-fd0f-40f0-ab6c-c9533af5bfbc"
   },
   "outputs": [
    {
     "data": {
      "text/plain": [
       "LinearRegression()"
      ]
     },
     "execution_count": 31,
     "metadata": {},
     "output_type": "execute_result"
    }
   ],
   "source": [
    "#선형회귀모영 생성\n",
    "from sklearn.linear_model import LinearRegression\n",
    "model = LinearRegression()\n",
    "model.fit(X,y)"
   ]
  },
  {
   "cell_type": "code",
   "execution_count": 32,
   "metadata": {
    "colab": {
     "base_uri": "https://localhost:8080/"
    },
    "id": "kdjyl4XqiaYO",
    "outputId": "ca659481-3b61-498d-d227-aada1cb974fb"
   },
   "outputs": [
    {
     "name": "stdout",
     "output_type": "stream",
     "text": [
      "intercept = -1.2\n",
      "slope = [1.1]\n"
     ]
    }
   ],
   "source": [
    "#계수와 기울기 확인\n",
    "print('intercept =', round(model.intercept_,4))\n",
    "print('slope =', model.coef_)"
   ]
  },
  {
   "cell_type": "code",
   "execution_count": 33,
   "metadata": {
    "colab": {
     "base_uri": "https://localhost:8080/"
    },
    "id": "H4jUXc2qilDE",
    "outputId": "f00b4391-d820-4187-a861-7d53eef34cb0"
   },
   "outputs": [
    {
     "name": "stdout",
     "output_type": "stream",
     "text": [
      "prediction =  [-0.1  1.   2.1  3.2  4.3]\n"
     ]
    }
   ],
   "source": [
    "#예측 실행\n",
    "y_pred = model.predict(X)\n",
    "print('prediction = ', y_pred)"
   ]
  },
  {
   "cell_type": "code",
   "execution_count": 34,
   "metadata": {
    "colab": {
     "base_uri": "https://localhost:8080/",
     "height": 295
    },
    "id": "pLLZG64ki4fc",
    "outputId": "69a78640-4a8b-4d98-e5d3-1cc0be0f1bba"
   },
   "outputs": [
    {
     "data": {
      "image/png": "[encoded data removed]",
      "text/plain": [
       "<Figure size 640x480 with 1 Axes>"
      ]
     },
     "metadata": {},
     "output_type": "display_data"
    }
   ],
   "source": [
    "#그래프 생성\n",
    "plt.title('Estimated regression Line')\n",
    "plt.plot(x,y,'o')\n",
    "plt.plot(x,y_pred)\n",
    "plt.xlabel('x')\n",
    "plt.ylabel('y')\n",
    "plt.show()"
   ]
  },
  {
   "cell_type": "markdown",
   "metadata": {
    "id": "Uls-pG4PjUNh"
   },
   "source": [
    "예제 3.2) 파이토치 이용 머신러닝"
   ]
  },
  {
   "cell_type": "code",
   "execution_count": 35,
   "metadata": {
    "colab": {
     "base_uri": "https://localhost:8080/"
    },
    "id": "aCllCA8UjLfQ",
    "outputId": "c8298c14-dade-4049-bff4-2441a401e2e9"
   },
   "outputs": [
    {
     "name": "stdout",
     "output_type": "stream",
     "text": [
      "epoch= 100 a= [0.80877024] b= [-0.1485682] loss= 0.23458958\n",
      "epoch= 200 a= [0.89243525] b= [-0.4506253] loss= 0.13490887\n",
      "epoch= 300 a= [0.9520648] b= [-0.6659069] loss= 0.08427431\n",
      "epoch= 400 a= [0.9945639] b= [-0.8193421] loss= 0.058553673\n",
      "epoch= 500 a= [1.0248537] b= [-0.92869824] loss= 0.045488335\n",
      "epoch= 600 a= [1.0464419] b= [-1.0066384] loss= 0.03885163\n",
      "epoch= 700 a= [1.0618281] b= [-1.0621874] loss= 0.03548041\n",
      "epoch= 800 a= [1.0727941] b= [-1.1017781] loss= 0.03376796\n",
      "epoch= 900 a= [1.08061] b= [-1.1299958] loss= 0.032898042\n",
      "epoch= 1000 a= [1.0861804] b= [-1.150107] loss= 0.032456223\n",
      "epoch= 1100 a= [1.0901505] b= [-1.1644405] loss= 0.032231748\n",
      "epoch= 1200 a= [1.0929803] b= [-1.1746565] loss= 0.03211769\n",
      "epoch= 1300 a= [1.0949969] b= [-1.1819377] loss= 0.032059755\n",
      "epoch= 1400 a= [1.0964342] b= [-1.1871265] loss= 0.032030366\n",
      "epoch= 1500 a= [1.0974585] b= [-1.1908245] loss= 0.03201545\n",
      "epoch= 1600 a= [1.0981885] b= [-1.1934601] loss= 0.032007847\n",
      "epoch= 1700 a= [1.0987087] b= [-1.1953384] loss= 0.03200399\n",
      "epoch= 1800 a= [1.0990795] b= [-1.196677] loss= 0.03200205\n",
      "epoch= 1900 a= [1.0993439] b= [-1.1976311] loss= 0.032001078\n",
      "epoch= 2000 a= [1.0995321] b= [-1.1983111] loss= 0.03200049\n"
     ]
    }
   ],
   "source": [
    "#학습을 통해 기울기와 계수 찾기\n",
    "device = torch.device(\"cuda\" if torch.cuda.is_available() else \"cpu\")\n",
    "\n",
    "x = torch.tensor([1, 2, 3, 4, 5]).to(device)\n",
    "y = torch.tensor([0, 1.1, 1.8, 3.1, 4.5]).to(device)\n",
    "\n",
    "torch.manual_seed(1)\n",
    "a = torch.randn(1, device = device, requires_grad = True)\n",
    "b = torch.randn(1, device = device, requires_grad = True)\n",
    "\n",
    "def model(x):\n",
    "  return a * x + b\n",
    "\n",
    "learning_rate = 0.01\n",
    "optimizer = optim.SGD([a,b],lr = learning_rate)\n",
    "\n",
    "#2000에폭 실행\n",
    "epochs = 2000\n",
    "for epoch in range(epochs):\n",
    "  #추정치\n",
    "  yhat = model(x).to(device)\n",
    "    \n",
    "  #loss 계산, MSE 사용\n",
    "  loss = (yhat - y).pow(2).mean()\n",
    "  loss.backward()\n",
    "  optimizer.step()\n",
    "\n",
    "  optimizer.zero_grad()\n",
    "\n",
    "  if (epoch + 1) % 100 == 0:\n",
    "    print('epoch=',epoch+1,'a=',a.detach().cpu().numpy(), 'b=',b.detach().cpu().numpy(),\n",
    "          'loss=',loss.detach().cpu().numpy())"
   ]
  },
  {
   "cell_type": "code",
   "execution_count": 36,
   "metadata": {
    "colab": {
     "base_uri": "https://localhost:8080/",
     "height": 313
    },
    "id": "8OLaWPyRkpZM",
    "outputId": "026b62c3-5c93-405b-edbf-c47c7a63e5a0"
   },
   "outputs": [
    {
     "data": {
      "text/plain": [
       "[<matplotlib.lines.Line2D at 0x1de5bf08430>]"
      ]
     },
     "execution_count": 36,
     "metadata": {},
     "output_type": "execute_result"
    },
    {
     "data": {
      "image/png": "[encoded data removed]",
      "text/plain": [
       "<Figure size 640x480 with 1 Axes>"
      ]
     },
     "metadata": {},
     "output_type": "display_data"
    }
   ],
   "source": [
    "#위와 동일\n",
    "#loss 감소 그래프 생성\n",
    "device = torch.device(\"cuda\" if torch.cuda.is_available() else \"cpu\")\n",
    "\n",
    "x = torch.tensor([1, 2, 3, 4, 5]).to(device)\n",
    "y = torch.tensor([0, 1.1, 1.8, 3.1, 4.5]).to(device)\n",
    "\n",
    "torch.manual_seed(1)\n",
    "a = torch.randn(1, device = device, requires_grad = True)\n",
    "b = torch.randn(1, device = device, requires_grad = True)\n",
    "\n",
    "def model(x):\n",
    "  return a * x + b\n",
    "\n",
    "learning_rate = 0.01\n",
    "optimizer = optim.SGD([a,b],lr = learning_rate)\n",
    "\n",
    "epochs = 2000\n",
    "loss_list = []\n",
    "\n",
    "for epoch in range(epochs):\n",
    "  yhat = model(x).to(device)\n",
    "  loss = (yhat - y).pow(2).mean()\n",
    "  loss.backward()\n",
    "  loss_list.append(loss.item())\n",
    "\n",
    "  optimizer.step()\n",
    "  optimizer.zero_grad()\n",
    "\n",
    "\n",
    "plt.title('Loss fucntion Graph')\n",
    "plt.xlabel('Epoch')\n",
    "plt.ylabel('Loss')\n",
    "plt.plot(np.arange(0, epochs, 1),loss_list)"
   ]
  },
  {
   "cell_type": "markdown",
   "metadata": {
    "id": "bLuV51P6nDMr"
   },
   "source": [
    "예제 3.3) scikit-learn"
   ]
  },
  {
   "cell_type": "code",
   "execution_count": 37,
   "metadata": {
    "colab": {
     "base_uri": "https://localhost:8080/"
    },
    "id": "Mye0wyVimXu5",
    "outputId": "95caa8b0-9847-4103-cf3e-51f692eae9af"
   },
   "outputs": [
    {
     "name": "stdout",
     "output_type": "stream",
     "text": [
      "   ntv_rich      area\n",
      "0  1.897627  1.602060\n",
      "1  1.633468  0.477121\n",
      "2  2.597695  3.432488\n",
      "3  2.238046  1.785330\n",
      "4  2.712650  3.075547\n"
     ]
    }
   ],
   "source": [
    "#데이터셋 확인\n",
    "df = pd.read_csv('native_plant_richness.txt',sep='\\t')\n",
    "print(df.head())"
   ]
  },
  {
   "cell_type": "code",
   "execution_count": 38,
   "metadata": {
    "colab": {
     "base_uri": "https://localhost:8080/"
    },
    "id": "KfD7lIaEnRnD",
    "outputId": "9b989a97-b51b-4106-f499-c58e30acd906"
   },
   "outputs": [
    {
     "name": "stdout",
     "output_type": "stream",
     "text": [
      "(22,)\n",
      "(22,)\n",
      "(22, 1)\n"
     ]
    }
   ],
   "source": [
    "#데이터 설정\n",
    "y = df['ntv_rich']\n",
    "x = df['area']\n",
    "print(y.shape)\n",
    "print(x.shape)\n",
    "X=x.values.reshape(-1,1)\n",
    "print(X.shape)"
   ]
  },
  {
   "cell_type": "code",
   "execution_count": 39,
   "metadata": {
    "colab": {
     "base_uri": "https://localhost:8080/",
     "height": 75
    },
    "id": "xarQw0Thna16",
    "outputId": "ba92d7d1-40de-4058-c49c-2e20f9beff50"
   },
   "outputs": [
    {
     "data": {
      "text/plain": [
       "LinearRegression()"
      ]
     },
     "execution_count": 39,
     "metadata": {},
     "output_type": "execute_result"
    }
   ],
   "source": [
    "#싸이킷런의 선형회귀함수 사용\n",
    "from sklearn.linear_model import LinearRegression\n",
    "regressor = LinearRegression()\n",
    "regressor.fit(X,y)\n"
   ]
  },
  {
   "cell_type": "code",
   "execution_count": 40,
   "metadata": {
    "colab": {
     "base_uri": "https://localhost:8080/"
    },
    "id": "7R3nJP0NnkYr",
    "outputId": "82554bed-7a4d-4974-9126-41dbfd8fd728"
   },
   "outputs": [
    {
     "name": "stdout",
     "output_type": "stream",
     "text": [
      "intercept:1.3360\n",
      "Coefficient:0.3557\n"
     ]
    }
   ],
   "source": [
    "#추정계수들 확인\n",
    "print('intercept:{:.4f}'.format(regressor.intercept_))\n",
    "print('Coefficient:{:.4f}'.format(regressor.coef_[0]))"
   ]
  },
  {
   "cell_type": "code",
   "execution_count": 41,
   "metadata": {
    "colab": {
     "base_uri": "https://localhost:8080/"
    },
    "id": "sDiNkvb7oDHE",
    "outputId": "4afa69ef-a891-48a8-a347-252dbd18c0e2"
   },
   "outputs": [
    {
     "name": "stdout",
     "output_type": "stream",
     "text": [
      "prediction:2.0475\n"
     ]
    }
   ],
   "source": [
    "#예측치 확인\n",
    "x_0 = 2\n",
    "prediction = regressor.predict([[x_0]])\n",
    "print('prediction:{:.4f}'.format(prediction[0]))"
   ]
  },
  {
   "cell_type": "code",
   "execution_count": 42,
   "metadata": {
    "colab": {
     "base_uri": "https://localhost:8080/",
     "height": 295
    },
    "id": "6ZdXruLPo3qW",
    "outputId": "d0b35dd2-6c3e-4073-f274-e5a5959a4ee7"
   },
   "outputs": [
    {
     "data": {
      "image/png": "[encoded data removed]",
      "text/plain": [
       "<Figure size 640x480 with 1 Axes>"
      ]
     },
     "metadata": {},
     "output_type": "display_data"
    }
   ],
   "source": [
    "#선형회귀직선 그래프 생성\n",
    "plt.title('Estimated regression Line')\n",
    "plt.plot(X, y, 'o')\n",
    "plt.plot(X, regressor.predict(X))\n",
    "plt.xlabel('area')\n",
    "plt.ylabel('ntv_rich')\n",
    "plt.show()"
   ]
  },
  {
   "cell_type": "markdown",
   "metadata": {
    "id": "O1hKsIwDpR6w"
   },
   "source": [
    "예제3.3) pytorch"
   ]
  },
  {
   "cell_type": "code",
   "execution_count": 43,
   "metadata": {
    "colab": {
     "base_uri": "https://localhost:8080/"
    },
    "id": "8eLDJxYApOG_",
    "outputId": "d614e042-7604-4fc5-e461-183832c6fc01"
   },
   "outputs": [
    {
     "name": "stdout",
     "output_type": "stream",
     "text": [
      "epoch= 100 a= 0.47096312 b= 0.99962604 loss= 0.06550635093768799\n",
      "epoch= 200 a= 0.43353823 b= 1.1088966 loss= 0.0519147393285402\n",
      "epoch= 300 a= 0.408269 b= 1.182676 loss= 0.045718412762104865\n",
      "epoch= 400 a= 0.39120725 b= 1.2324917 loss= 0.042893555822939196\n",
      "epoch= 500 a= 0.37968713 b= 1.2661272 loss= 0.041605722956125864\n",
      "epoch= 600 a= 0.37190875 b= 1.288838 loss= 0.041018608549832615\n",
      "epoch= 700 a= 0.36665684 b= 1.3041722 loss= 0.040750952614521774\n",
      "epoch= 800 a= 0.36311063 b= 1.3145261 loss= 0.04062892718942061\n",
      "epoch= 900 a= 0.36071637 b= 1.3215168 loss= 0.040573300898233314\n",
      "epoch= 1000 a= 0.35909975 b= 1.3262368 loss= 0.040547941236051425\n",
      "epoch= 1100 a= 0.3580083 b= 1.3294235 loss= 0.040536381230253514\n",
      "epoch= 1200 a= 0.35727137 b= 1.3315752 loss= 0.04053111108342023\n",
      "epoch= 1300 a= 0.35677376 b= 1.3330281 loss= 0.0405287081689833\n",
      "epoch= 1400 a= 0.3564377 b= 1.3340093 loss= 0.04052761248296974\n",
      "epoch= 1500 a= 0.35621083 b= 1.3346717 loss= 0.040527113109224425\n",
      "epoch= 1600 a= 0.3560577 b= 1.3351189 loss= 0.04052688558208506\n",
      "epoch= 1700 a= 0.3559544 b= 1.3354205 loss= 0.04052678191992167\n",
      "epoch= 1800 a= 0.3558847 b= 1.335624 loss= 0.04052673465919971\n",
      "epoch= 1900 a= 0.35583755 b= 1.3357617 loss= 0.04052671304980223\n",
      "epoch= 2000 a= 0.35580575 b= 1.3358543 loss= 0.0405267032250137\n"
     ]
    }
   ],
   "source": [
    "#torch를 사용한 직선 추정\n",
    "device = torch.device(\"cuda\" if torch.cuda.is_available() else \"cpu\")\n",
    "\n",
    "df = pd.read_csv('native_plant_richness.txt',sep='\\t')\n",
    "\n",
    "x = torch.tensor(df['area']).to(device)\n",
    "y = torch.tensor(df['ntv_rich']).to(device)\n",
    "\n",
    "a = torch.tensor(1., device = device, requires_grad = True)\n",
    "b = torch.tensor(1., device = device, requires_grad = True)\n",
    "\n",
    "def model(x):\n",
    "  return a*x + b\n",
    "\n",
    "learning_rate = 0.01\n",
    "optimizer = optim.SGD([a,b],lr = learning_rate)\n",
    "\n",
    "epochs = 2000\n",
    "for epoch in range(epochs):\n",
    "  yhat = model(x).to(device)\n",
    "  loss = (yhat -y).pow(2).mean()\n",
    "  loss.backward()\n",
    "\n",
    "  optimizer.step()\n",
    "  optimizer.zero_grad()\n",
    "\n",
    "  if (epoch + 1) % 100 == 0:\n",
    "    print('epoch=',epoch+1,'a=',a.detach().cpu().numpy(), 'b=',b.detach().cpu().numpy(),\n",
    "          'loss=',loss.detach().cpu().numpy()) "
   ]
  },
  {
   "cell_type": "code",
   "execution_count": 44,
   "metadata": {
    "colab": {
     "base_uri": "https://localhost:8080/",
     "height": 297
    },
    "id": "afT2KUUVpxBb",
    "outputId": "b4740ee8-1b4c-4bd9-c221-ed377af952ca"
   },
   "outputs": [
    {
     "data": {
      "text/plain": [
       "[<matplotlib.lines.Line2D at 0x1de5c0623d0>]"
      ]
     },
     "execution_count": 44,
     "metadata": {},
     "output_type": "execute_result"
    },
    {
     "data": {
      "image/png": "[encoded data removed]",
      "text/plain": [
       "<Figure size 640x480 with 1 Axes>"
      ]
     },
     "metadata": {},
     "output_type": "display_data"
    }
   ],
   "source": [
    "#loss 감소 그래프 확인\n",
    "df = pd.read_csv('native_plant_richness.txt',sep='\\t')\n",
    "\n",
    "x = torch.tensor(df['area'])\n",
    "y = torch.tensor(df['ntv_rich'])\n",
    "\n",
    "a = torch.tensor(1., requires_grad = True)\n",
    "b = torch.tensor(1., requires_grad = True)\n",
    "\n",
    "def model(x):\n",
    "  return a*x + b\n",
    "\n",
    "learning_rate = 0.01\n",
    "optimizer = optim.SGD([a,b],lr = learning_rate)\n",
    "\n",
    "epochs = 2000\n",
    "loss_list = []\n",
    "\n",
    "for epoch in range(epochs):\n",
    "  yhat = model(x)\n",
    "\n",
    "  loss = (yhat -y).pow(2).mean()\n",
    "  loss.backward()\n",
    "  loss_list.append(loss.item())\n",
    "\n",
    "  optimizer.step()\n",
    "  optimizer.zero_grad()\n",
    "\n",
    "plt.xlabel('Epoch')\n",
    "plt.ylabel('Loss')\n",
    "plt.plot(np.arange(0, epochs, 1),loss_list)"
   ]
  },
  {
   "cell_type": "markdown",
   "metadata": {
    "id": "ZPP50ujKr06D"
   },
   "source": [
    "예제 3.4) scikit-learn"
   ]
  },
  {
   "cell_type": "code",
   "execution_count": 45,
   "metadata": {
    "colab": {
     "base_uri": "https://localhost:8080/"
    },
    "id": "ZKFszXVwr2tc",
    "outputId": "075366ec-efed-4eef-ba29-77e081e9703e"
   },
   "outputs": [
    {
     "name": "stdout",
     "output_type": "stream",
     "text": [
      "(25, 2)\n"
     ]
    }
   ],
   "source": [
    "#데이터 확인\n",
    "df = pd.read_csv('student_scores.csv')\n",
    "print(df.shape)"
   ]
  },
  {
   "cell_type": "code",
   "execution_count": 46,
   "metadata": {
    "colab": {
     "base_uri": "https://localhost:8080/"
    },
    "id": "u56FDtEwr_OM",
    "outputId": "f7d3fbe7-95c8-4bb4-e28e-d381dc72a541"
   },
   "outputs": [
    {
     "name": "stdout",
     "output_type": "stream",
     "text": [
      "   Hours  Scores\n",
      "0    2.5      21\n",
      "1    5.1      47\n",
      "2    3.2      27\n",
      "3    8.5      75\n",
      "4    3.5      30\n"
     ]
    }
   ],
   "source": [
    "print(df.head())"
   ]
  },
  {
   "cell_type": "code",
   "execution_count": 47,
   "metadata": {
    "colab": {
     "base_uri": "https://localhost:8080/"
    },
    "id": "jh9y0rJ3sEgD",
    "outputId": "3543355a-c355-4734-f475-aa1e2907fbec"
   },
   "outputs": [
    {
     "name": "stdout",
     "output_type": "stream",
     "text": [
      "<class 'pandas.core.frame.DataFrame'>\n",
      "<class 'pandas.core.series.Series'>\n"
     ]
    }
   ],
   "source": [
    "#타입 확인\n",
    "X = df.iloc[:,:-1]\n",
    "y = df.iloc[:, 1]\n",
    "print(type(X))\n",
    "print(type(y))"
   ]
  },
  {
   "cell_type": "code",
   "execution_count": 48,
   "metadata": {
    "colab": {
     "base_uri": "https://localhost:8080/"
    },
    "id": "d26sGpZbsOJZ",
    "outputId": "10f6fae8-472c-4b81-92c6-8c90be4f289f"
   },
   "outputs": [
    {
     "name": "stdout",
     "output_type": "stream",
     "text": [
      "<class 'numpy.ndarray'>\n",
      "<class 'numpy.ndarray'>\n",
      "(25, 1)\n",
      "(25,)\n"
     ]
    }
   ],
   "source": [
    "#X,y numpy array로 변환\n",
    "X = df.iloc[:,:-1].to_numpy()\n",
    "y = df.iloc[:, 1].to_numpy()\n",
    "print(type(X))\n",
    "print(type(y))\n",
    "print(X.shape)\n",
    "print(y.shape)"
   ]
  },
  {
   "cell_type": "code",
   "execution_count": 49,
   "metadata": {
    "colab": {
     "base_uri": "https://localhost:8080/"
    },
    "id": "EuzmdXOqsbYb",
    "outputId": "97cd56ac-24d2-4099-b5f5-f247289a1857"
   },
   "outputs": [
    {
     "name": "stdout",
     "output_type": "stream",
     "text": [
      "(20, 1)\n",
      "(5, 1)\n",
      "(20,)\n",
      "(5,)\n"
     ]
    }
   ],
   "source": [
    "#트레인, 테스트셋 분리\n",
    "from sklearn.model_selection import train_test_split\n",
    "X_train, X_test, y_train, y_test = train_test_split(X, y, test_size = 0.2, random_state = 0)\n",
    "\n",
    "print(X_train.shape)\n",
    "print(X_test.shape)\n",
    "print(y_train.shape)\n",
    "print(y_test.shape)"
   ]
  },
  {
   "cell_type": "code",
   "execution_count": 50,
   "metadata": {
    "colab": {
     "base_uri": "https://localhost:8080/",
     "height": 75
    },
    "id": "4TSGNwJPsvH-",
    "outputId": "c5362683-528b-4243-e18e-da509e1d0c29"
   },
   "outputs": [
    {
     "data": {
      "text/plain": [
       "LinearRegression()"
      ]
     },
     "execution_count": 50,
     "metadata": {},
     "output_type": "execute_result"
    }
   ],
   "source": [
    "#선형회귀직선 생성\n",
    "model = LinearRegression()\n",
    "model.fit(X_train, y_train)"
   ]
  },
  {
   "cell_type": "code",
   "execution_count": 51,
   "metadata": {
    "colab": {
     "base_uri": "https://localhost:8080/"
    },
    "id": "IOQWcaiHs6Re",
    "outputId": "f1c96863-0df7-4b49-9a03-d1a8a981a6c4"
   },
   "outputs": [
    {
     "name": "stdout",
     "output_type": "stream",
     "text": [
      "Intercept:2.0182\n",
      "Coefficient:9.9107\n"
     ]
    }
   ],
   "source": [
    "#계수 확인\n",
    "print('Intercept:{:.4f}'.format(model.intercept_))\n",
    "print('Coefficient:{:.4f}'.format(model.coef_[0]))"
   ]
  },
  {
   "cell_type": "code",
   "execution_count": 52,
   "metadata": {
    "colab": {
     "base_uri": "https://localhost:8080/"
    },
    "id": "9zHW16oYtCyj",
    "outputId": "9846b592-0a64-4689-9944-b7276fc5ef7f"
   },
   "outputs": [
    {
     "name": "stdout",
     "output_type": "stream",
     "text": [
      "[16.88414476 33.73226078 75.357018   26.79480124 60.49103328]\n"
     ]
    }
   ],
   "source": [
    "#테스트셋에 대해서 예측 수행\n",
    "y_pred = model.predict(X_test)\n",
    "print(y_pred)"
   ]
  },
  {
   "cell_type": "code",
   "execution_count": 53,
   "metadata": {
    "colab": {
     "base_uri": "https://localhost:8080/"
    },
    "id": "baBIQRVBtHoG",
    "outputId": "e1d70a1b-fb55-4e73-ba3c-fba09108ed51"
   },
   "outputs": [
    {
     "name": "stdout",
     "output_type": "stream",
     "text": [
      "   Actual  Predicted\n",
      "0      20  16.884145\n",
      "1      27  33.732261\n",
      "2      69  75.357018\n",
      "3      30  26.794801\n",
      "4      62  60.491033\n"
     ]
    }
   ],
   "source": [
    "#예측치와 실제값 비교\n",
    "df = pd.DataFrame({'Actual':y_test, 'Predicted':y_pred})\n",
    "print(df)"
   ]
  },
  {
   "cell_type": "code",
   "execution_count": 54,
   "metadata": {
    "colab": {
     "base_uri": "https://localhost:8080/"
    },
    "id": "HbB12YfGtQZt",
    "outputId": "5515a52c-14da-4575-bd6f-10ba6feac855"
   },
   "outputs": [
    {
     "name": "stdout",
     "output_type": "stream",
     "text": [
      "MAE:4.1839\n",
      "MSE:21.5988\n",
      "MAE:2.0454\n",
      "R2:0.9455\n"
     ]
    }
   ],
   "source": [
    "#에러 확인\n",
    "from sklearn.metrics import mean_absolute_error, mean_squared_error\n",
    "from sklearn.metrics import r2_score\n",
    "\n",
    "print('MAE:{:.4f}'.format(mean_absolute_error(y_test,y_pred)))\n",
    "print('MSE:{:.4f}'.format(mean_squared_error(y_test,y_pred)))\n",
    "print('MAE:{:.4f}'.format(np.sqrt(mean_absolute_error(y_test,y_pred))))\n",
    "print('R2:{:.4f}'.format(r2_score(y_test, y_pred)))"
   ]
  },
  {
   "cell_type": "code",
   "execution_count": 55,
   "metadata": {
    "colab": {
     "base_uri": "https://localhost:8080/"
    },
    "id": "qZcI-_n6trtx",
    "outputId": "7bf28731-d9c5-46fe-8369-afa11f9db4af"
   },
   "outputs": [
    {
     "name": "stdout",
     "output_type": "stream",
     "text": [
      "epoch= 100 a= 9.870372 b= 2.2753692 loss= 30.910423487383525\n",
      "epoch= 200 a= 9.88253 b= 2.1977417 loss= 30.90414959521733\n",
      "epoch= 300 a= 9.891019 b= 2.1435425 loss= 30.901091230976157\n",
      "epoch= 400 a= 9.896946 b= 2.105701 loss= 30.89960035343364\n",
      "epoch= 500 a= 9.901083 b= 2.0792816 loss= 30.898873626889348\n",
      "epoch= 600 a= 9.903973 b= 2.060835 loss= 30.898519346501235\n",
      "epoch= 700 a= 9.90599 b= 2.0479565 loss= 30.89834665373413\n",
      "epoch= 800 a= 9.907398 b= 2.038964 loss= 30.89826245992996\n",
      "epoch= 900 a= 9.908381 b= 2.032685 loss= 30.89822141393456\n",
      "epoch= 1000 a= 9.909068 b= 2.0283015 loss= 30.898201407587248\n"
     ]
    }
   ],
   "source": [
    "# PyTorch를 사용한 선형 회귀 모델 설정 및 학습\n",
    "# GPU에 데이터를 할당하고, 모델 파라미터 업데이트를 위해 SGD 옵티마이저 사용\n",
    "# 에포크 동안 훈련 및 손실 계산\n",
    "device = torch.device(\"cuda\" if torch.cuda.is_available() else \"cpu\")\n",
    "\n",
    "df = pd.read_csv('student_scores.csv')\n",
    "\n",
    "X = torch.tensor(df['Hours']).to(device)\n",
    "y = torch.tensor(df['Scores']).to(device)\n",
    "\n",
    "from sklearn.model_selection import train_test_split\n",
    "X_train, X_test, y_train, y_test = train_test_split(X, y, test_size=0.2, random_state=0)\n",
    "\n",
    "a = torch.tensor(1.,device=device, requires_grad=True)\n",
    "b = torch.tensor(1.,device=device, requires_grad=True)\n",
    "\n",
    "def model(x):\n",
    "    return a * x + b\n",
    "\n",
    "learning_rate = 0.01\n",
    "optimizer = torch.optim.SGD([a,b],lr=learning_rate)\n",
    "\n",
    "epochs=1000\n",
    "for epoch in range(epochs):\n",
    "    yhat = model(X_train).to(device)\n",
    "\n",
    "    loss = (yhat - y_train).pow(2).mean()\n",
    "    loss.backward()\n",
    "    \n",
    "    optimizer.step()    \n",
    "    optimizer.zero_grad()    \n",
    "    # Print the progress\n",
    "    if (epoch+1) % 100 == 0:\n",
    "        print('epoch=',epoch+1,'a=',a.detach().cpu().numpy(),'b=',b.detach().cpu().numpy(),\n",
    "              'loss=',loss.detach().cpu().numpy())"
   ]
  },
  {
   "cell_type": "code",
   "execution_count": 56,
   "metadata": {
    "colab": {
     "base_uri": "https://localhost:8080/"
    },
    "id": "3SbQAK-kuKSd",
    "outputId": "f3d006e6-8c95-4644-f07d-fd49f766bef6"
   },
   "outputs": [
    {
     "name": "stdout",
     "output_type": "stream",
     "text": [
      "tensor([16.8919, 33.7373, 75.3554, 26.8010, 60.4918], dtype=torch.float64,\n",
      "       grad_fn=<AddBackward0>)\n",
      "[20, 27, 69, 30, 62]\n",
      "[16.89190363883972, 33.73731942176819, 75.35540547370911, 26.800971746444702, 60.49180331230164]\n"
     ]
    }
   ],
   "source": [
    "# 학습된 모델로 테스트 데이터 예측\n",
    "# 예측 결과 및 실제값 출력\n",
    "y_pred = model(X_test).to(device)\n",
    "print(y_pred)\n",
    "y_test = [y_test[x].item() for x in range(len(y_test))]\n",
    "print(y_test)\n",
    "y_pred = [y_pred[x].item() for x in range(len(y_pred))]\n",
    "print(y_pred)"
   ]
  },
  {
   "cell_type": "code",
   "execution_count": 57,
   "metadata": {
    "colab": {
     "base_uri": "https://localhost:8080/"
    },
    "id": "0TzIErj3ubkA",
    "outputId": "35944135-4a5d-4d1e-c4f2-8d2a3bb3d597"
   },
   "outputs": [
    {
     "name": "stdout",
     "output_type": "stream",
     "text": [
      "   Actual  Predicted\n",
      "0      20  16.891904\n",
      "1      27  33.737319\n",
      "2      69  75.355405\n",
      "3      30  26.800972\n",
      "4      62  60.491803\n"
     ]
    }
   ],
   "source": [
    "df = pd.DataFrame({'Actual':y_test, 'Predicted':y_pred})\n",
    "print(df)"
   ]
  },
  {
   "cell_type": "code",
   "execution_count": 58,
   "metadata": {
    "colab": {
     "base_uri": "https://localhost:8080/"
    },
    "id": "lk2LvIy-uj2h",
    "outputId": "d9028bd1-d145-4397-8aae-b5bf71ef9f1c"
   },
   "outputs": [
    {
     "name": "stdout",
     "output_type": "stream",
     "text": [
      "MAE:4.1816\n",
      "MSE:21.5903\n",
      "MAE:2.0449\n",
      "R2:0.9455\n"
     ]
    }
   ],
   "source": [
    "# 테스트 데이터에 대한 평균 절대 오차, 평균 제곱 오차, 제곱근 평균 제곱 오차, 결정 계수 출력\n",
    "print('MAE:{:.4f}'.format(mean_absolute_error(y_test,y_pred)))\n",
    "print('MSE:{:.4f}'.format(mean_squared_error(y_test,y_pred)))\n",
    "print('MAE:{:.4f}'.format(np.sqrt(mean_absolute_error(y_test,y_pred))))\n",
    "print('R2:{:.4f}'.format(r2_score(y_test, y_pred)))"
   ]
  },
  {
   "cell_type": "code",
   "execution_count": 59,
   "metadata": {
    "colab": {
     "base_uri": "https://localhost:8080/",
     "height": 283
    },
    "id": "GRgTjIK5ukK9",
    "outputId": "e6e315de-3939-4a07-b1aa-d7d904a4a7af"
   },
   "outputs": [
    {
     "data": {
      "text/plain": [
       "<AxesSubplot:>"
      ]
     },
     "execution_count": 59,
     "metadata": {},
     "output_type": "execute_result"
    },
    {
     "data": {
      "image/png": "[encoded data removed]",
      "text/plain": [
       "<Figure size 640x480 with 1 Axes>"
      ]
     },
     "metadata": {},
     "output_type": "display_data"
    }
   ],
   "source": [
    "df.plot()"
   ]
  }
 ],
 "metadata": {
  "colab": {
   "provenance": []
  },
  "kernelspec": {
   "display_name": "Python 3 (ipykernel)",
   "language": "python",
   "name": "python3"
  },
  "language_info": {
   "codemirror_mode": {
    "name": "ipython",
    "version": 3
   },
   "file_extension": ".py",
   "mimetype": "text/x-python",
   "name": "python",
   "nbconvert_exporter": "python",
   "pygments_lexer": "ipython3",
   "version": "3.9.13"
  }
 },
 "nbformat": 4,
 "nbformat_minor": 4
}
