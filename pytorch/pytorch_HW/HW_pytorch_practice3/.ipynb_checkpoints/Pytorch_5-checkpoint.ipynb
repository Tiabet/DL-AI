{
 "cells": [
  {
   "cell_type": "markdown",
   "metadata": {
    "id": "7_7_Kb0vtt3w"
   },
   "source": [
    "5.1 퍼셉트론"
   ]
  },
  {
   "cell_type": "code",
   "execution_count": 1,
   "metadata": {
    "colab": {
     "base_uri": "https://localhost:8080/"
    },
    "executionInfo": {
     "elapsed": 9,
     "status": "ok",
     "timestamp": 1680869645218,
     "user": {
      "displayName": "최승훈",
      "userId": "10545016366834953850"
     },
     "user_tz": -540
    },
    "id": "nf9qpRpPlpYq",
    "outputId": "dc579d44-f490-41a0-944c-ced534aa091b"
   },
   "outputs": [
    {
     "name": "stdout",
     "output_type": "stream",
     "text": [
      "AND(0,0) =  0\n",
      "AND(1,0) =  0\n",
      "AND(0,1) =  0\n",
      "AND(1,1) =  1\n"
     ]
    }
   ],
   "source": [
    "#AND 연산\n",
    "#딥러닝에서 중요한 연산 중 하나인 AND 연산\n",
    "theta = 0\n",
    "def AND(x1, x2):\n",
    "  w1, w2, w0 = 0.5, 0.5, -0.7\n",
    "  sum = w1*x1 + w2*x2 + w0\n",
    "  if sum > theta :\n",
    "    return 1\n",
    "  else :\n",
    "    return 0\n",
    "  \n",
    "print(\"AND(0,0) = \", AND(0,0))\n",
    "print(\"AND(1,0) = \", AND(1,0))\n",
    "print(\"AND(0,1) = \", AND(0,1))\n",
    "print(\"AND(1,1) = \", AND(1,1))"
   ]
  },
  {
   "cell_type": "code",
   "execution_count": 2,
   "metadata": {
    "colab": {
     "base_uri": "https://localhost:8080/"
    },
    "executionInfo": {
     "elapsed": 9,
     "status": "ok",
     "timestamp": 1680869752143,
     "user": {
      "displayName": "최승훈",
      "userId": "10545016366834953850"
     },
     "user_tz": -540
    },
    "id": "R9lWcaZzo8D8",
    "outputId": "264a8d5b-f4d4-4718-ed0b-52fe867dfd8e"
   },
   "outputs": [
    {
     "name": "stdout",
     "output_type": "stream",
     "text": [
      "AND(0,0) =  0\n",
      "AND(1,0) =  0\n",
      "AND(0,1) =  0\n",
      "AND(1,1) =  1\n"
     ]
    }
   ],
   "source": [
    "#AND - numpy 배열로\n",
    "import numpy as np\n",
    "theta = 0\n",
    "def AND(x1, x2):\n",
    "  X = np.array([x1,x2])\n",
    "  W = np.array([0.5, 0.5])\n",
    "  w0 = -0.7\n",
    "  sum = np.dot(W,X) + w0\n",
    "  if sum > theta :\n",
    "    return 1\n",
    "  else :\n",
    "    return 0\n",
    "      \n",
    "print(\"AND(0,0) = \", AND(0,0))\n",
    "print(\"AND(1,0) = \", AND(1,0))\n",
    "print(\"AND(0,1) = \", AND(0,1))\n",
    "print(\"AND(1,1) = \", AND(1,1))"
   ]
  },
  {
   "cell_type": "code",
   "execution_count": 3,
   "metadata": {
    "colab": {
     "base_uri": "https://localhost:8080/"
    },
    "executionInfo": {
     "elapsed": 979,
     "status": "ok",
     "timestamp": 1680869911942,
     "user": {
      "displayName": "최승훈",
      "userId": "10545016366834953850"
     },
     "user_tz": -540
    },
    "id": "SXWW8RjXpPX0",
    "outputId": "cede23f9-ecdc-403d-d255-025f4144011e"
   },
   "outputs": [
    {
     "name": "stdout",
     "output_type": "stream",
     "text": [
      "OR(0,0) =  0\n",
      "OR(0,1) =  1\n",
      "OR(1,0) =  1\n",
      "OR(1,1) =  1\n"
     ]
    }
   ],
   "source": [
    "#OR 연산\n",
    "#또다른 중요한 연산인 OR 연산\n",
    "theta = 0\n",
    "def OR(x1,x2):\n",
    "    w1, w2, w0=0.5, 0.5, -0.2\n",
    "    sum=w1*x1 + w2*x2 + w0\n",
    "    if sum > theta :\n",
    "        return 1\n",
    "    else :\n",
    "        return 0\n",
    "\n",
    "print(\"OR(0,0) = \", OR(0,0))\n",
    "print(\"OR(0,1) = \", OR(0,1))\n",
    "print(\"OR(1,0) = \", OR(1,0))\n",
    "print(\"OR(1,1) = \", OR(1,1))"
   ]
  },
  {
   "cell_type": "code",
   "execution_count": 4,
   "metadata": {
    "colab": {
     "base_uri": "https://localhost:8080/"
    },
    "executionInfo": {
     "elapsed": 9,
     "status": "ok",
     "timestamp": 1680870102941,
     "user": {
      "displayName": "최승훈",
      "userId": "10545016366834953850"
     },
     "user_tz": -540
    },
    "id": "rypmSZwvpguj",
    "outputId": "63ff7e44-e427-4d40-f874-144f54987b8f"
   },
   "outputs": [
    {
     "name": "stdout",
     "output_type": "stream",
     "text": [
      "OR(0,0) =  0\n",
      "OR(0,1) =  1\n",
      "OR(1,0) =  1\n",
      "OR(1,1) =  1\n"
     ]
    }
   ],
   "source": [
    "#OR - numpy 이용\n",
    "def OR(x1,x2):\n",
    "    X = np.array([x1, x2])\n",
    "    W = np.array([0.5, 0.5])\n",
    "    b = -0.2\n",
    "    sum = np.dot(W, X) + b\n",
    "    if sum > theta :\n",
    "        return 1\n",
    "    else :\n",
    "        return 0\n",
    "\n",
    "print(\"OR(0,0) = \", OR(0,0))\n",
    "print(\"OR(0,1) = \", OR(0,1))\n",
    "print(\"OR(1,0) = \", OR(1,0))\n",
    "print(\"OR(1,1) = \", OR(1,1))"
   ]
  },
  {
   "cell_type": "code",
   "execution_count": 5,
   "metadata": {
    "colab": {
     "base_uri": "https://localhost:8080/"
    },
    "executionInfo": {
     "elapsed": 468,
     "status": "ok",
     "timestamp": 1680936852660,
     "user": {
      "displayName": "최승훈",
      "userId": "10545016366834953850"
     },
     "user_tz": -540
    },
    "id": "HyCa1HTjqlTN",
    "outputId": "7e9c5c8e-8a07-46b7-8dd4-cff8f539d285"
   },
   "outputs": [
    {
     "name": "stdout",
     "output_type": "stream",
     "text": [
      "epoch=0, 1-th data, weights=[ 0.4  0.1 -0.3]\n",
      "epoch=0, 2-th data, weights=[ 0.4  0.1 -0.3]\n",
      "epoch=0, 3-th data, weights=[ 0.35  0.1  -0.35]\n",
      "epoch=0, 4-th data, weights=[ 0.35  0.1  -0.35]\n",
      "\n",
      "epoch=1, 1-th data, weights=[ 0.35  0.1  -0.35]\n",
      "epoch=1, 2-th data, weights=[ 0.35  0.1  -0.35]\n",
      "epoch=1, 3-th data, weights=[ 0.3  0.1 -0.4]\n",
      "epoch=1, 4-th data, weights=[ 0.3  0.1 -0.4]\n",
      "\n",
      "epoch=2, 1-th data, weights=[ 0.3  0.1 -0.4]\n",
      "epoch=2, 2-th data, weights=[ 0.3  0.1 -0.4]\n",
      "epoch=2, 3-th data, weights=[ 0.3  0.1 -0.4]\n",
      "epoch=2, 4-th data, weights=[ 0.3  0.1 -0.4]\n",
      "\n"
     ]
    }
   ],
   "source": [
    "#AND 논리연산 학습 알고리즘 구현\n",
    "\n",
    "import numpy as np\n",
    "from numpy import dot\n",
    "\n",
    "training_data = [\n",
    "    (np.array([0,0,1]), 0),\n",
    "    (np.array([0,1,1]), 0),\n",
    "    (np.array([1,0,1]), 0),\n",
    "    (np.array([1,1,1]), 1),\n",
    "]\n",
    "\n",
    "#분류를 실행하는 step 함수\n",
    "def step(x):\n",
    "  if x>=0:\n",
    "    return 1\n",
    "  else:\n",
    "    return 0\n",
    "\n",
    "#3에폭동안 가중치 업데이트 구현\n",
    "w = np.array([0.4, 0.1, -0.3])\n",
    "learning_rate = 0.05\n",
    "epochs = 3\n",
    "\n",
    "for epoch in range(epochs):\n",
    "  for i in range(len(training_data)):\n",
    "      x, target = training_data[i]      \n",
    "      weighted_sum = dot(w, x)\n",
    "    #실제값-계산값으로 오차 구현\n",
    "      error = target - step(weighted_sum)   \n",
    "    #학습률에 오차를 곱해서 가중치 업데이트\n",
    "      w += learning_rate * error * x\n",
    "      print('epoch={}, {}-th data, weights={}'.format(epoch,i+1,w))\n",
    "  print(\"\")\n",
    "\n"
   ]
  },
  {
   "cell_type": "code",
   "execution_count": 8,
   "metadata": {
    "colab": {
     "base_uri": "https://localhost:8080/"
    },
    "executionInfo": {
     "elapsed": 328,
     "status": "ok",
     "timestamp": 1680936871506,
     "user": {
      "displayName": "최승훈",
      "userId": "10545016366834953850"
     },
     "user_tz": -540
    },
    "id": "ULqRDc5QpNgi",
    "outputId": "e1faab9c-332c-4a62-ba51-982f3d44ee69"
   },
   "outputs": [
    {
     "name": "stdout",
     "output_type": "stream",
     "text": [
      "weights=[ 0.3  0.1 -0.4]\n",
      "[0 0]: -0.39999999999999997 -> 0\n",
      "[0 1]: -0.29999999999999993 -> 0\n",
      "[1 0]: -0.09999999999999992 -> 0\n",
      "[1 1]: 5.551115123125783e-17 -> 1\n"
     ]
    }
   ],
   "source": [
    "#학습후 가중치로 결과 분류\n",
    "print('weights={}'.format(w))\n",
    "for x, _ in training_data:\n",
    "  weighted_sum = dot(w, x)\n",
    "  print(\"{}: {} -> {}\".format(x[:2], weighted_sum, step(weighted_sum)))"
   ]
  },
  {
   "cell_type": "code",
   "execution_count": 9,
   "metadata": {
    "colab": {
     "base_uri": "https://localhost:8080/"
    },
    "executionInfo": {
     "elapsed": 328,
     "status": "ok",
     "timestamp": 1680937983442,
     "user": {
      "displayName": "최승훈",
      "userId": "10545016366834953850"
     },
     "user_tz": -540
    },
    "id": "MYYlr5jNssW2",
    "outputId": "7e3eec78-4b7c-4f15-f43e-94eebb5d4d72"
   },
   "outputs": [
    {
     "name": "stdout",
     "output_type": "stream",
     "text": [
      "weights=[ 0.3  0.1 -0.4]\n",
      "[0 0]: -0.39999999999999997 -> 0\n",
      "[0 1]: -0.29999999999999993 -> 0\n",
      "[1 0]: -0.09999999999999992 -> 0\n",
      "[1 1]: 5.551115123125783e-17 -> 1\n"
     ]
    }
   ],
   "source": [
    "#초기 가중치 난수화\n",
    "from numpy import dot, random\n",
    "\n",
    "training_data = [\n",
    "    (np.array([0,0,1]), 0),\n",
    "    (np.array([0,1,1]), 0),\n",
    "    (np.array([1,0,1]), 0),\n",
    "    (np.array([1,1,1]), 1),\n",
    "]\n",
    "\n",
    "def step(x):\n",
    "  if x>=0:\n",
    "    return 1\n",
    "  else:\n",
    "    return 0\n",
    "\n",
    "random.seed(1)\n",
    "learning_rate = 0.05\n",
    "epochs = 100\n",
    "\n",
    "#초기 가중치가 난수이므로 100에폭으로 길게 실행\n",
    "for epoch in range(epochs):\n",
    "  for i in range(len(training_data)):\n",
    "    x, target = training_data[i]      \n",
    "    weighted_sum = dot(w, x)\n",
    "    error = target - step(weighted_sum)     \n",
    "    w += learning_rate * error * x\n",
    "\n",
    "\n",
    "#학습된 가중치로 실행해보면 원래 결과값과 같음\n",
    "print('weights={}'.format(w))\n",
    "for x, _ in training_data:\n",
    "  weighted_sum = dot(w, x)\n",
    "  print(\"{}: {} -> {}\".format(x[:2], weighted_sum, step(weighted_sum)))"
   ]
  },
  {
   "cell_type": "markdown",
   "metadata": {
    "id": "s_CSyNyftx02"
   },
   "source": [
    "5.2 다층 퍼셉트론"
   ]
  },
  {
   "cell_type": "code",
   "execution_count": 13,
   "metadata": {
    "executionInfo": {
     "elapsed": 3,
     "status": "ok",
     "timestamp": 1680938729120,
     "user": {
      "displayName": "최승훈",
      "userId": "10545016366834953850"
     },
     "user_tz": -540
    },
    "id": "Uv1DmkLntX8F"
   },
   "outputs": [],
   "source": [
    "#XOR 연산\n",
    "\n",
    "\n",
    "#AND 연산자\n",
    "theta =0\n",
    "def AND(x1, x2):\n",
    "  X=np.array([x1, x2])\n",
    "  W=np.array([0.5, 0.5])\n",
    "  b= -0.7\n",
    "  sum=np.dot(W,X)+b\n",
    "  if sum > theta :\n",
    "    return 1\n",
    "  else :\n",
    "    return 0"
   ]
  },
  {
   "cell_type": "code",
   "execution_count": 14,
   "metadata": {
    "executionInfo": {
     "elapsed": 4,
     "status": "ok",
     "timestamp": 1680938805725,
     "user": {
      "displayName": "최승훈",
      "userId": "10545016366834953850"
     },
     "user_tz": -540
    },
    "id": "qZB0QKUkwXtD"
   },
   "outputs": [],
   "source": [
    "theta =0\n",
    "\n",
    "#AND와 반대되는 NAND 연산\n",
    "def NAND(x1, x2):\n",
    "  X=np.array([x1, x2])\n",
    "  W=np.array([-0.5, -0.5])\n",
    "  b= 0.7\n",
    "  sum=np.dot(W,X)+b\n",
    "  if sum > theta :\n",
    "    return 1\n",
    "  else :\n",
    "    return 0"
   ]
  },
  {
   "cell_type": "code",
   "execution_count": 15,
   "metadata": {
    "executionInfo": {
     "elapsed": 465,
     "status": "ok",
     "timestamp": 1680938770219,
     "user": {
      "displayName": "최승훈",
      "userId": "10545016366834953850"
     },
     "user_tz": -540
    },
    "id": "Fiuuh_w7wfKB"
   },
   "outputs": [],
   "source": [
    "#OR 연산\n",
    "def OR(x1, x2):\n",
    "  X=np.array([x1, x2])\n",
    "  W=np.array([0.5, 0.5])\n",
    "  b= -0.2\n",
    "  sum=np.dot(W,X)+b\n",
    "  if sum > theta :\n",
    "    return 1\n",
    "  else :\n",
    "    return 0"
   ]
  },
  {
   "cell_type": "code",
   "execution_count": 16,
   "metadata": {
    "executionInfo": {
     "elapsed": 355,
     "status": "ok",
     "timestamp": 1680938880192,
     "user": {
      "displayName": "최승훈",
      "userId": "10545016366834953850"
     },
     "user_tz": -540
    },
    "id": "o7eYpWB6whnE"
   },
   "outputs": [],
   "source": [
    "#NAND, AND, OR 연산자를 결합한 XOR 연산자\n",
    "def XOR(x1, x2):\n",
    "  s1=NAND(x1, x2)\n",
    "  s2=OR(x1, x2)\n",
    "  y=AND(s1,s2)\n",
    "  return y\n",
    "  if sum > theta :\n",
    "    return 1\n",
    "  else :\n",
    "    return 0"
   ]
  },
  {
   "cell_type": "code",
   "execution_count": 17,
   "metadata": {
    "colab": {
     "base_uri": "https://localhost:8080/"
    },
    "executionInfo": {
     "elapsed": 5,
     "status": "ok",
     "timestamp": 1680938888958,
     "user": {
      "displayName": "최승훈",
      "userId": "10545016366834953850"
     },
     "user_tz": -540
    },
    "id": "du8xaeeqw8ij",
    "outputId": "a4a0ac16-ec32-4e78-8712-cfe5d7c33a34"
   },
   "outputs": [
    {
     "name": "stdout",
     "output_type": "stream",
     "text": [
      "XOR(0,0)= 0\n",
      "XOR(0,1)= 1\n",
      "XOR(1,0)= 1\n",
      "XOR(1,1)= 0\n"
     ]
    }
   ],
   "source": [
    "#XOR 연산 실행 결과\n",
    "print(\"XOR(0,0)=\", XOR(0,0))\n",
    "print(\"XOR(0,1)=\", XOR(0,1))\n",
    "print(\"XOR(1,0)=\", XOR(1,0))\n",
    "print(\"XOR(1,1)=\", XOR(1,1))"
   ]
  },
  {
   "cell_type": "code",
   "execution_count": 19,
   "metadata": {
    "colab": {
     "base_uri": "https://localhost:8080/"
    },
    "executionInfo": {
     "elapsed": 291,
     "status": "ok",
     "timestamp": 1680941200363,
     "user": {
      "displayName": "최승훈",
      "userId": "10545016366834953850"
     },
     "user_tz": -540
    },
    "id": "qGqhwZPkw-wS",
    "outputId": "29c40843-6211-4315-c335-ecbbe38d065d"
   },
   "outputs": [
    {
     "name": "stdout",
     "output_type": "stream",
     "text": [
      "Initial weights : 0.5,  0.2, bias : 1.83\n",
      "\n",
      "epoch = 0\n",
      "\n",
      "Forward propagation process\n",
      "weighted sum : 1.9400000000000002\n",
      "y_pred : 0.87435\n",
      "Loss : 0.35647\n",
      "\n",
      "Backpropagation process\n",
      "dL/dy = 0.84435\n",
      "dy/ds = 0.10986\n",
      "ds/dw1 = 0.10000\n",
      "ds/dw2 = 0.30000\n",
      "ds/db = 1.00000\n",
      "\n",
      "dL/dw1 = dL/dy*dy/ds*ds/dw1 = 0.00928\n",
      "dL/dw2 = dL/dy*dy/ds*ds/dw2 = 0.02783\n",
      "dL/db = dL/dy*dy/ds*ds/db = 0.09276\n",
      "\n",
      "w1 = w1 - alpha*dL/dw1 = 0.49991\n",
      "w2 = w2 - alpha*dL/dw2 = 0.19972\n",
      "b = b - alpha*dL/db = 1.82907\n"
     ]
    }
   ],
   "source": [
    "#backpropagation python 구현\n",
    "#역전파 실행\n",
    "import numpy as np\n",
    "\n",
    "#시그모이드함수\n",
    "def sigmoid(x):\n",
    "  return 1.0/(1+np.exp(-1*x))\n",
    "\n",
    "#LOSS 함수 (오차제곱 * 1/2)\n",
    "def Loss_function(predicted, target):\n",
    "  return (1/2)*np.power(predicted-target, 2)\n",
    "\n",
    "#LOSS 함수 미분값\n",
    "def Loss_function_deriv(predicted, target):\n",
    "  return (predicted-target)\n",
    "\n",
    "#시그모이드함수 미분값\n",
    "def sigmoid_deriv(x):\n",
    "  return sigmoid(x)*(1.0-sigmoid(x))\n",
    "\n",
    "def s_w_deriv(x):\n",
    "  return x\n",
    "\n",
    "#가중치 업데이트\n",
    "def update_w(w, grad, learning_rate):\n",
    "  return w - learning_rate*grad\n",
    "\n",
    "\n",
    "#초기 학습값과 가중치 설정\n",
    "x1 = 0.1\n",
    "x2 = 0.3\n",
    "x0 = 1\n",
    "target = 0.03\n",
    "learning_rate = 0.01\n",
    "\n",
    "w1 = 0.5\n",
    "w2 = 0.2\n",
    "b = 1.83\n",
    "\n",
    "print(\"Initial weights : {},  {}, bias : {}\".format(w1, w2, b))\n",
    "\n",
    "#epochs = 10000\n",
    "epochs=1\n",
    "\n",
    "#기울기를 사용한 역전파 구현\n",
    "for epoch in range(epochs):    \n",
    "  print(\"\\nepoch = {:}\".format(epoch))   \n",
    "  # Forward Pass\n",
    "  print(\"\\nForward propagation process\")\n",
    "  s = w1*x1 + w2*x2 + b\n",
    "  print('weighted sum :',s)\n",
    "  y_pred = sigmoid(s)\n",
    "  print(\"y_pred : {:.5f}\".format(y_pred))\n",
    "    \n",
    "  Loss = Loss_function(y_pred, target)\n",
    "  print(\"Loss : {:.5f}\".format(Loss))\n",
    "    \n",
    "  # Backward Pass\n",
    "  print(\"\\nBackpropagation process\")\n",
    "  g1 = Loss_function_deriv(y_pred, target)\n",
    "  print(\"dL/dy = {:.5f}\".format(g1))\n",
    "  g2 = sigmoid_deriv(s)\n",
    "  print(\"dy/ds = {:.5f}\".format(g2))   \n",
    "  g3w1 = s_w_deriv(x1)\n",
    "  g3w2 = s_w_deriv(x2)\n",
    "  g3b = s_w_deriv(x0)\n",
    "  print(\"ds/dw1 = {:.5f}\".format(g3w1))   \n",
    "  print(\"ds/dw2 = {:.5f}\".format(g3w2))   \n",
    "  print(\"ds/db = {:.5f}\".format(g3b))   \n",
    "    \n",
    "  gradw1 = g3w1*g2*g1\n",
    "  gradw2 = g3w2*g2*g1\n",
    "  gradb = g3b*g2*g1\n",
    "     \n",
    "  print(\"\\ndL/dw1 = dL/dy*dy/ds*ds/dw1 = {:.5f}\".format(gradw1))   \n",
    "  print(\"dL/dw2 = dL/dy*dy/ds*ds/dw2 = {:.5f}\".format(gradw2)) \n",
    "  print(\"dL/db = dL/dy*dy/ds*ds/db = {:.5f}\".format(gradb)) \n",
    "    \n",
    "  w1 = update_w(w1, gradw1, learning_rate)\n",
    "  w2 = update_w(w2, gradw2, learning_rate)\n",
    "  b = update_w(b, gradb, learning_rate)\n",
    "  print(\"\\nw1 = w1 - alpha*dL/dw1 = {:.5f}\".format(w1))   \n",
    "  print(\"w2 = w2 - alpha*dL/dw2 = {:.5f}\".format(w2))   \n",
    "  print(\"b = b - alpha*dL/db = {:.5f}\".format(b)) "
   ]
  },
  {
   "cell_type": "code",
   "execution_count": 20,
   "metadata": {
    "colab": {
     "base_uri": "https://localhost:8080/"
    },
    "executionInfo": {
     "elapsed": 1179,
     "status": "ok",
     "timestamp": 1680941709083,
     "user": {
      "displayName": "최승훈",
      "userId": "10545016366834953850"
     },
     "user_tz": -540
    },
    "id": "w2I3yxg05zCD",
    "outputId": "56de8a80-1c97-4df6-afed-7b4f60471805"
   },
   "outputs": [
    {
     "name": "stdout",
     "output_type": "stream",
     "text": [
      "initial weights  w1=0.41702, w2=0.72032, b=0.00011\n",
      "w1 = w1 - alpha*dL/dw1 = 0.18426\n",
      "w2 = w2 - alpha*dL/dw2 = 0.02205\n",
      "b = b - alpha*dL/db = -2.32748\n"
     ]
    }
   ],
   "source": [
    "#epoch 10000으로 설정 + 랜덤\n",
    "from numpy import random\n",
    "\n",
    "def sigmoid(x):\n",
    "    return 1.0/(1+np.exp(-1*x))\n",
    "\n",
    "def Loss_function(predicted, target):\n",
    "    return (1/2)*np.power(predicted-target, 2)\n",
    "\n",
    "def Loss_function_deriv(predicted, target):\n",
    "    return (predicted-target)\n",
    "\n",
    "def sigmoid_deriv(x):\n",
    "    return sigmoid(x)*(1.0-sigmoid(x))\n",
    "\n",
    "def s_w_deriv(x):\n",
    "    return x\n",
    "\n",
    "def update_w(w, grad, learning_rate):\n",
    "    return w - learning_rate*grad\n",
    "\n",
    "x1 = 0.1\n",
    "x2 = 0.3\n",
    "x0 = 1\n",
    "target = 0.03\n",
    "learning_rate = 0.01\n",
    "\n",
    "random.seed(1)\n",
    "w1 = np.random.rand()\n",
    "w2 = np.random.rand()\n",
    "b = np.random.rand()\n",
    "\n",
    "print(\"initial weights  w1={:.5f}, w2={:.5f}, b={:.5f}\".format(w1,w2,b))\n",
    "epochs_loss = []\n",
    "epochs = 10000\n",
    "for epoch in range(epochs):\n",
    "\n",
    "    # Forward Pass\n",
    "    s = w1*x1 + w2*x2 + b\n",
    "    y_pred = sigmoid(s)   \n",
    "    \n",
    "    Loss = Loss_function(y_pred, target)    \n",
    "    \n",
    "    epochs_loss.append(Loss)\n",
    "\n",
    "    # Backward Pass\n",
    "    g1 = Loss_function_deriv(y_pred, target)   \n",
    "    g2 = sigmoid_deriv(s)\n",
    "    \n",
    "    g3w1 = s_w_deriv(x1)\n",
    "    g3w2 = s_w_deriv(x2)\n",
    "    g3b = s_w_deriv(x0)\n",
    "        \n",
    "    gradw1 = g3w1*g2*g1\n",
    "    gradw2 = g3w2*g2*g1\n",
    "    gradb = g3b*g2*g1\n",
    "    \n",
    "    w1 = update_w(w1, gradw1, learning_rate)\n",
    "    w2 = update_w(w2, gradw2, learning_rate)\n",
    "    b = update_w(b, gradb, learning_rate)\n",
    "    \n",
    "print(\"w1 = w1 - alpha*dL/dw1 = {:.5f}\".format(w1))   \n",
    "print(\"w2 = w2 - alpha*dL/dw2 = {:.5f}\".format(w2))   \n",
    "print(\"b = b - alpha*dL/db = {:.5f}\".format(b)) "
   ]
  },
  {
   "cell_type": "code",
   "execution_count": 21,
   "metadata": {
    "colab": {
     "base_uri": "https://localhost:8080/",
     "height": 490
    },
    "executionInfo": {
     "elapsed": 1472,
     "status": "ok",
     "timestamp": 1680941728911,
     "user": {
      "displayName": "최승훈",
      "userId": "10545016366834953850"
     },
     "user_tz": -540
    },
    "id": "69jDRqdm7u8X",
    "outputId": "84ffbd5a-c6b2-46b3-d952-1eb015907861"
   },
   "outputs": [
    {
     "data": {
      "text/plain": [
       "Text(0, 0.5, 'Loss')"
      ]
     },
     "execution_count": 21,
     "metadata": {},
     "output_type": "execute_result"
    },
    {
     "data": {
      "image/png": "[encoded data removed]",
      "text/plain": [
       "<Figure size 640x480 with 1 Axes>"
      ]
     },
     "metadata": {},
     "output_type": "display_data"
    }
   ],
   "source": [
    "# 손실함수 그래프\n",
    "import matplotlib.pyplot\n",
    "\n",
    "matplotlib.pyplot.figure()\n",
    "matplotlib.pyplot.plot(epochs_loss)\n",
    "matplotlib.pyplot.title(\"Epochs vs Loss\")\n",
    "matplotlib.pyplot.xlabel(\"Epochs\")\n",
    "matplotlib.pyplot.ylabel(\"Loss\")"
   ]
  },
  {
   "cell_type": "code",
   "execution_count": null,
   "metadata": {},
   "outputs": [],
   "source": []
  }
 ],
 "metadata": {
  "colab": {
   "authorship_tag": "ABX9TyMuieFvfyrkcrZKX2QfTI0c",
   "provenance": []
  },
  "kernelspec": {
   "display_name": "Python 3 (ipykernel)",
   "language": "python",
   "name": "python3"
  },
  "language_info": {
   "codemirror_mode": {
    "name": "ipython",
    "version": 3
   },
   "file_extension": ".py",
   "mimetype": "text/x-python",
   "name": "python",
   "nbconvert_exporter": "python",
   "pygments_lexer": "ipython3",
   "version": "3.9.13"
  }
 },
 "nbformat": 4,
 "nbformat_minor": 4
}
