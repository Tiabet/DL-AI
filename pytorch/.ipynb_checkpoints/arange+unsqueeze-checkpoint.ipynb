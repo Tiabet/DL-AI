{
 "cells": [
  {
   "cell_type": "code",
   "execution_count": 1,
   "id": "902f9f87-4de3-4a96-96eb-210897c2349e",
   "metadata": {},
   "outputs": [],
   "source": [
    "import torch"
   ]
  },
  {
   "cell_type": "code",
   "execution_count": 2,
   "id": "987637b1-7838-4a77-8aaf-407145e4a592",
   "metadata": {},
   "outputs": [
    {
     "name": "stdout",
     "output_type": "stream",
     "text": [
      "tensor([[0.],\n",
      "        [1.],\n",
      "        [2.],\n",
      "        [3.],\n",
      "        [4.],\n",
      "        [5.],\n",
      "        [6.],\n",
      "        [7.],\n",
      "        [8.],\n",
      "        [9.]])\n"
     ]
    }
   ],
   "source": [
    "# Define the maximum length of the sequence\n",
    "max_len = 10\n",
    "\n",
    "# Create the position tensor\n",
    "position = torch.arange(0, max_len, dtype=torch.float).unsqueeze(1)\n",
    "\n",
    "# Print the resulting tensor\n",
    "print(position)"
   ]
  },
  {
   "cell_type": "code",
   "execution_count": 3,
   "id": "23f92b94-a9d3-4a8a-82f3-7b34a679581c",
   "metadata": {},
   "outputs": [
    {
     "data": {
      "text/plain": [
       "tensor([0., 1., 2., 3., 4., 5., 6., 7., 8., 9.])"
      ]
     },
     "execution_count": 3,
     "metadata": {},
     "output_type": "execute_result"
    }
   ],
   "source": [
    "torch.arange(0, max_len, dtype=torch.float)"
   ]
  },
  {
   "cell_type": "code",
   "execution_count": null,
   "id": "dedd70fa-4c76-47e6-9f2d-bd550da77a67",
   "metadata": {},
   "outputs": [],
   "source": []
  }
 ],
 "metadata": {
  "kernelspec": {
   "display_name": "Python 3 (ipykernel)",
   "language": "python",
   "name": "python3"
  },
  "language_info": {
   "codemirror_mode": {
    "name": "ipython",
    "version": 3
   },
   "file_extension": ".py",
   "mimetype": "text/x-python",
   "name": "python",
   "nbconvert_exporter": "python",
   "pygments_lexer": "ipython3",
   "version": "3.9.13"
  }
 },
 "nbformat": 4,
 "nbformat_minor": 5
}
